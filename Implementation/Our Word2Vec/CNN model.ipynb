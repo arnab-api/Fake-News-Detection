{
 "cells": [
  {
   "cell_type": "markdown",
   "metadata": {},
   "source": [
    "# Loading Model"
   ]
  },
  {
   "cell_type": "code",
   "execution_count": 1,
   "metadata": {},
   "outputs": [
    {
     "name": "stderr",
     "output_type": "stream",
     "text": [
      "C:\\Users\\User\\Anaconda3\\envs\\tensorflow-gpu\\lib\\site-packages\\gensim\\utils.py:1197: UserWarning: detected Windows; aliasing chunkize to chunkize_serial\n",
      "  warnings.warn(\"detected Windows; aliasing chunkize to chunkize_serial\")\n"
     ]
    }
   ],
   "source": [
    "import json\n",
    "import gensim\n",
    "import logging\n",
    "\n",
    "logging.basicConfig(format='%(asctime)s : %(levelname)s : %(message)s', level=logging.INFO)\n",
    "\n",
    "ubuntu_path = '/home/arnab/Desktop/Thesis Ubuntu/'\n",
    "windows_path = 'C:/Users/User/Desktop/Thesis_Windows/'\n",
    "\n",
    "root_path = windows_path"
   ]
  },
  {
   "cell_type": "code",
   "execution_count": 2,
   "metadata": {},
   "outputs": [
    {
     "name": "stderr",
     "output_type": "stream",
     "text": [
      "2018-09-08 00:38:34,136 : INFO : loading Word2Vec object from C:/Users/User/Desktop/Thesis_Windows/W2V_D2V_models/model_2/corpus_W2V_10_2.model\n",
      "2018-09-08 00:38:35,515 : INFO : loading wv recursively from C:/Users/User/Desktop/Thesis_Windows/W2V_D2V_models/model_2/corpus_W2V_10_2.model.wv.* with mmap=None\n",
      "2018-09-08 00:38:35,515 : INFO : setting ignored attribute vectors_norm to None\n",
      "2018-09-08 00:38:35,515 : INFO : loading vocabulary recursively from C:/Users/User/Desktop/Thesis_Windows/W2V_D2V_models/model_2/corpus_W2V_10_2.model.vocabulary.* with mmap=None\n",
      "2018-09-08 00:38:35,515 : INFO : loading trainables recursively from C:/Users/User/Desktop/Thesis_Windows/W2V_D2V_models/model_2/corpus_W2V_10_2.model.trainables.* with mmap=None\n",
      "2018-09-08 00:38:35,531 : INFO : setting ignored attribute cum_table to None\n",
      "2018-09-08 00:38:35,535 : INFO : loaded C:/Users/User/Desktop/Thesis_Windows/W2V_D2V_models/model_2/corpus_W2V_10_2.model\n"
     ]
    },
    {
     "name": "stdout",
     "output_type": "stream",
     "text": [
      "model loaded successfully\n"
     ]
    }
   ],
   "source": [
    "model = gensim.models.Word2Vec.load(root_path+\"W2V_D2V_models/model_2/corpus_W2V_10_2.model\")\n",
    "print(\"model loaded successfully\")"
   ]
  },
  {
   "cell_type": "code",
   "execution_count": 3,
   "metadata": {},
   "outputs": [
    {
     "name": "stderr",
     "output_type": "stream",
     "text": [
      "2018-09-08 00:38:36,106 : INFO : precomputing L2-norms of word weight vectors\n"
     ]
    },
    {
     "data": {
      "text/plain": [
       "[('আওয়ামীপন্থী', 0.9645131230354309),\n",
       " ('ইসলামী', 0.9590720534324646),\n",
       " ('শীর্ষন', 0.9324820637702942),\n",
       " ('নোমানী', 0.9321697950363159),\n",
       " ('শিবিরছাত্রলীগ', 0.9157853126525879),\n",
       " ('বিএনপিপন্থী', 0.9139447808265686),\n",
       " ('মুক্তিযুদ্ধসম্পর্কিত', 0.909549355506897),\n",
       " ('জামায়া', 0.9044336676597595),\n",
       " ('বর্ণমিছিল', 0.8982083201408386),\n",
       " ('মাশায়েখ', 0.896248459815979)]"
      ]
     },
     "execution_count": 3,
     "metadata": {},
     "output_type": "execute_result"
    }
   ],
   "source": [
    "w1 = \"নেতা\"\n",
    "model.wv.most_similar(positive=w1)"
   ]
  },
  {
   "cell_type": "code",
   "execution_count": 4,
   "metadata": {},
   "outputs": [
    {
     "data": {
      "text/plain": [
       "array([ 1.55253637,  7.16070366,  2.22058797, -1.69618261,  3.19097662,\n",
       "        0.7486012 , -1.22608268, -8.45460701, -4.5284729 ,  0.43528357], dtype=float32)"
      ]
     },
     "execution_count": 4,
     "metadata": {},
     "output_type": "execute_result"
    }
   ],
   "source": [
    "model.wv[w1]"
   ]
  },
  {
   "cell_type": "code",
   "execution_count": 5,
   "metadata": {},
   "outputs": [
    {
     "data": {
      "text/plain": [
       "(10,)"
      ]
     },
     "execution_count": 5,
     "metadata": {},
     "output_type": "execute_result"
    }
   ],
   "source": [
    "model.wv[w1].shape"
   ]
  },
  {
   "cell_type": "markdown",
   "metadata": {},
   "source": [
    "# Dataset Loading"
   ]
  },
  {
   "cell_type": "code",
   "execution_count": 6,
   "metadata": {},
   "outputs": [
    {
     "name": "stdout",
     "output_type": "stream",
     "text": [
      "<class 'list'> 1480\n",
      "{'body': '৫ নম্ব নারী শিশু নির্যাতন দমন ট্রাইবুনাল আদাল মহিলা বিচারক তানজি ইসমাঈল গৃহকর্মী নির্যাতন মামলা ক্রিকে শাহাদত হোস স্ত্রী জেসমিন জাহান কুনো দুষ খু পা বেকসু খালাস দিয় কার্য চলা কাল শাহাদত নিচ ছ দেখাল গা হাত তু আল্লাহ কসম শুন জাতী দল খেলা ফাষ্ট বোলা আম বাসা আ চুক্তি হ বাসা বোলিং পেক সম হেলপ তার বেটসম বানান যা বেটসগার্ল এক তার বোলিং সম বাউন্সা দিছিলাম মতন খ বল গিয়া লাগ চুখ পাশ মাননী আদালত আপন হেলমেট পই বেটিং নাম সেই দুষ আপন বোলার বল বেটসমান গা লাগা কারন মামলা হই ইতিহাস দুনিয়া কুথা ইতি পুর্ব স্ত্রী মারধ যৌতু মামলায় কারাগার কণ্ঠশিল্পী আরফিন রুমি জামিন রা মহিলা বিচারক তানজি ইসমাঈল ফরিয়াদি পক্ষ পশ্ন আসামী পক্ষ বলত এক কথা আপনা দা করত শিশু মেয়ে মা হই গা গাত তোলা হই আপনাদ দা স কুনো ভিডু আছে… কথা শেষ মামলা ডিশম শিশু নির্যাতন মামলা মহিলা বিচারপতি রা বেকসু খালাস পা শাহাদত মা আপ পছন্দ প্রশ্ন উত্তর বল জানি না…হা হা হা সবচা বড় কথা স্মার্টনেস অন স্মার্টনেস জান মান পোশাকআশাক চালচলন হাইট ইম্পর্টেন্ট স্মার্টনেস হাইট লম্ দেখব সম গুজা কুঁজো হ হাঁট স্মার্ট হ দরকা ও আছে… প্লেয় স দাড়ি থাকল আফ্রিদি আফ্রিদি লাগ বিদাশ দাড়ি থাকল বাংলাদেশি পাকিস্তানি… হাইট ইম্পরটেন্ট চেহা আল্লাহ রহম ভালো', 'headline': 'আদালত বোলা শাহাদ কুনো দুষ'}\n"
     ]
    }
   ],
   "source": [
    "with open(root_path + \"Dataset_preprocessed/News_Papers/motikontho_out_2.json\") as f:\n",
    "    fake_news = json.load(f)\n",
    "print(type(fake_news) , len(fake_news))\n",
    "print(fake_news[0])"
   ]
  },
  {
   "cell_type": "code",
   "execution_count": 7,
   "metadata": {},
   "outputs": [
    {
     "name": "stdout",
     "output_type": "stream",
     "text": [
      "<class 'list'> 1480\n",
      "{'body': 'ইসরায়ে সেনা গাল চড় মার ফিলিস্তিন প্রতিবাদ প্রতীক হ ওঠা কারাগা ছাড়া পেয় আট মাস রোব কারাগা এক মুক্তি পান আহেদ মা এএফপি খবর তথ্য ১৭ বছর আহেদ মা সকাল ইসরায়াল শ্যারন কারাগা গাড়ি পশ্চিম তীর সীমান্তবর্তী তল্লাশি চৌকি পৌঁ আহাদ বাড়ি পশ্চিম তীর নবী সালেহ গ্রাম কারাগার মুখপাত্ আসাফ লিবরাতি ইসরায়ে সেনাদ হস্তান্ত স্বাগত জানা পরিবার সদস্য সমর্থক তল্লাশিচৌকি জড়ো হ বহনকারী সেনাবাহিনী গাড়ি দাঁড়ি পশ্চিম তীর যা সেনাদ মুক্তি পা রাস্ পাশ জড়ো হ হাজারো জন সাংবাদিকদ উদ্দাশ আহেদ সংবাদ সম্মেলন কথা আহাদ বা বাসেম এক হাত দি মা হা স্ত্রী রাখ পথ হাঁট চারপাশ স্বাধীন বাঁচ চা স্লোগান ওঠ ইসরায়ে কর্তৃপক্ষ গণমাধ্যম এড়ি এমন মামা তল্লাশি চৌ দি আ ধরন তথ্য দি প্রথম হ আহেদ মা পশ্চিম তীর ফিলিস্ শহ তুল্করাম শহর কা তল্লাশি চৌ দি আ তল্লাশি চৌ দি আ তিন তিন পরিবর্তন গত বছর শেষ মার্কিন প্রেসিডেন্ট ডোনাল্ড ট্রাম্প জেরুজালেম ইসরায়াল রাজধানী স্বীকৃতি দিল ক্ষোভ ফাট পড় ফিলিস্ মানুষ পবিত্ ভূমি জেরুজালেম রাজধানী হিসাব চা ফিলিস্তিনিদ প্রতিবাদ প্রতিবাদ থামা ইসরায়াল দমনপীড়ন মিলি সংঘা দাবানল ছড়ি পড় মধ্যপ্রাচ্য অঞ্চল যুক্তরাষ্ট্র সিদ্ধান্ত দশ ফিলিস্তিনি মান পারেনি কিশোরী আহেদ তামিমি পশ্চিম তীর নবী সালেহ গ্রাম বাড়ি ইসরায়াল সেনাদ নি সং পারেনি ক্ষোভ ফাট পড় সামাজিক যোগাযোগ ভাইরাল হ ভিডিও প্রথম মা ইসরায়ে সেনাদ যা চিৎকা সেনা সর কথাকাটাকা চল পক্ষ একপর্যা এক ইসরায়ে সেনা গাল চড় মার কিশোরী আহেদ বান্ধবী মোবাইল দৃশ্য ভিডি ভিডি ভাইরাল হ শিবির আগুন ধরা ফিলিস্তিনিদ দে সাহস ইসরায়েলিদ বিভ্রান্ত অপমানিত ক্রুদ্ধ লজ্জিত স্বয়ং ফিলিস্ প্রেসিডেন্ট মাহমুদ আব্বাস কিশোরী সাহ প্রশংসা সামাজিক যোগাযোগ সমর্থক প্রশংসা ভাসি দে বর্ণবাদী ১৬ বছর এক ফিলিস্ বালিকা স্পর্ধা ক্ষুব্ধ তিন ইসরায়ে চড় খা বিভ্রান্ত তিন দুর্বল দেখানো প্রত্যাহা রা আহেদ তামিমি এক চাচা ভা এন বন্দী কারাগার পর বাড়ি হা দি তছনছ মা পুলিশ স্টেশন মা নারিমান আল তামিমি গ্রেপ্ তিন পাঠানো কারাগার গত মার্চ মুক্তি পা আহাদ চাচা ভা পশ্চিম তীর সীমান্তবর্তী দেয়াল আহাদ ছ আঁকা কারণ গতকাল শনি ইসরায়ে কর্তৃপক্ষ ইতালিয়ান এক ফিলিস্ গ্রেপ্', 'headline': 'মুক্তি পে ফিলিস্তিন প্রতিবাদ প্রতীক কিশোরী আহেদ'}\n"
     ]
    }
   ],
   "source": [
    "with open(root_path + \"Dataset_preprocessed/News_Papers/real_news.json\") as f:\n",
    "    real_news = json.load(f)\n",
    "print(type(real_news) , len(real_news))\n",
    "print(real_news[0])"
   ]
  },
  {
   "cell_type": "code",
   "execution_count": 8,
   "metadata": {},
   "outputs": [
    {
     "name": "stdout",
     "output_type": "stream",
     "text": [
      "2853 2853\n"
     ]
    }
   ],
   "source": [
    "def tokenize_a_news(news):\n",
    "    return news['body'].strip().split(' ')\n",
    "\n",
    "news_arr = []\n",
    "verdict = []\n",
    "for news in fake_news:\n",
    "    token = tokenize_a_news(news)\n",
    "    if(len(token) < 10):\n",
    "        continue\n",
    "    news_arr.append(news['body'])\n",
    "    verdict.append('FAKE')\n",
    "    \n",
    "for news in real_news:\n",
    "    token = tokenize_a_news(news)\n",
    "    if(len(token) < 10):\n",
    "        continue\n",
    "    news_arr.append(news['body'])\n",
    "    verdict.append('REAL')\n",
    "\n",
    "print(len(news_arr) , len(verdict))"
   ]
  },
  {
   "cell_type": "code",
   "execution_count": 9,
   "metadata": {},
   "outputs": [],
   "source": [
    "from sklearn.model_selection import train_test_split\n",
    "news_train, news_test, verdict_train, verdict_test = train_test_split(news_arr, verdict, test_size=0.33, random_state=53)"
   ]
  },
  {
   "cell_type": "markdown",
   "metadata": {},
   "source": [
    "# UTILS"
   ]
  },
  {
   "cell_type": "code",
   "execution_count": 10,
   "metadata": {},
   "outputs": [],
   "source": [
    "import matplotlib.pyplot as plt\n",
    "from sklearn.model_selection import train_test_split\n",
    "from sklearn.feature_extraction.text import TfidfVectorizer, CountVectorizer\n",
    "import sklearn\n",
    "import numpy as np\n",
    "import itertools\n",
    "\n",
    "import math"
   ]
  },
  {
   "cell_type": "code",
   "execution_count": 11,
   "metadata": {},
   "outputs": [],
   "source": [
    "from sklearn.feature_extraction.text import TfidfVectorizer\n",
    "\n",
    "class TFIDF_W2V_merged_vectorizer:\n",
    "    def __init__(self , w2v_model , vector_sz , _max_df = 0.7):\n",
    "        self.w2v = w2v_model\n",
    "        self.vector_sz = vector_sz\n",
    "        self.tfidf_vectorizer = TfidfVectorizer(max_df = _max_df , max_features = 1000)\n",
    "    \n",
    "    def merge_with_word2vec(self , vector):\n",
    "        vector = vector.toarray()\n",
    "        ret = np.zeros((vector.shape[0] , vector.shape[1] , self.vector_sz , 2))\n",
    "        print(\"merging with word2vec :: vector shape => \" , vector.shape)\n",
    "        for d in range(vector.shape[0]):\n",
    "            if(d%100 == 0):\n",
    "                print('processing {} of {}'.format(d , vector.shape[0]))\n",
    "            for w in range(vector.shape[1]):\n",
    "                word = self.vocabulary[w]\n",
    "                tf_idf_val = vector[d][w]\n",
    "                \n",
    "                word_vec = np.ones(self.vector_sz)\n",
    "                try:\n",
    "                    word_vec = self.wv[word]\n",
    "                except:\n",
    "                    pass\n",
    "                \n",
    "                word_vec = tf_idf_val*word_vec\n",
    "                for idx in range(self.vector_sz):\n",
    "                    sign = 1\n",
    "                    if(word_vec[idx] < 0):\n",
    "                        sign = 2\n",
    "                    ret[d][w][idx][0] = sign\n",
    "                    ret[d][w][idx][0] = abs(word_vec[idx])\n",
    "        \n",
    "        return ret\n",
    "    \n",
    "    def fit_transform(self , doc_arr):\n",
    "        vector = self.tfidf_vectorizer.fit_transform(doc_arr)\n",
    "        self.vocabulary = self.tfidf_vectorizer.get_feature_names()\n",
    "        return self.merge_with_word2vec(vector)\n",
    "    \n",
    "    def transform(self , doc_arr):\n",
    "        vector = self.tfidf_vectorizer.transform(doc_arr)\n",
    "        return self.merge_with_word2vec(vector)"
   ]
  },
  {
   "cell_type": "code",
   "execution_count": 12,
   "metadata": {},
   "outputs": [],
   "source": [
    "def plot_confusion_matrix(cm, classes,\n",
    "                          normalize=False,\n",
    "                          title='Confusion matrix',\n",
    "                          cmap=plt.cm.Blues):\n",
    "    plt.imshow(cm, interpolation='nearest', cmap=cmap)\n",
    "    plt.title(title)\n",
    "    plt.colorbar()\n",
    "    tick_marks = np.arange(len(classes))\n",
    "    plt.xticks(tick_marks, classes, rotation=45)\n",
    "    plt.yticks(tick_marks, classes)\n",
    "\n",
    "    if normalize:\n",
    "        cm = cm.astype('float') / cm.sum(axis=1)[:, np.newaxis]\n",
    "        print(\"Normalized confusion matrix\")\n",
    "    else:\n",
    "        print('Confusion matrix, with little normalization')\n",
    "\n",
    "    thresh = cm.max() / 2.\n",
    "    for i, j in itertools.product(range(cm.shape[0]), range(cm.shape[1])):\n",
    "        plt.text(j, i, cm[i, j],\n",
    "                 horizontalalignment=\"center\",\n",
    "                 color=\"white\" if cm[i, j] > thresh else \"black\")\n",
    "\n",
    "    plt.tight_layout()\n",
    "    plt.ylabel('True label')\n",
    "    plt.xlabel('Predicted label')\n",
    "    plt.show()"
   ]
  },
  {
   "cell_type": "markdown",
   "metadata": {},
   "source": [
    "# making vector"
   ]
  },
  {
   "cell_type": "code",
   "execution_count": 13,
   "metadata": {},
   "outputs": [
    {
     "name": "stdout",
     "output_type": "stream",
     "text": [
      "merging with word2vec :: vector shape =>  (1911, 1000)\n",
      "processing 0 of 1911\n",
      "processing 100 of 1911\n",
      "processing 200 of 1911\n",
      "processing 300 of 1911\n",
      "processing 400 of 1911\n",
      "processing 500 of 1911\n",
      "processing 600 of 1911\n",
      "processing 700 of 1911\n",
      "processing 800 of 1911\n",
      "processing 900 of 1911\n",
      "processing 1000 of 1911\n",
      "processing 1100 of 1911\n",
      "processing 1200 of 1911\n",
      "processing 1300 of 1911\n",
      "processing 1400 of 1911\n",
      "processing 1500 of 1911\n",
      "processing 1600 of 1911\n",
      "processing 1700 of 1911\n",
      "processing 1800 of 1911\n",
      "processing 1900 of 1911\n",
      "merging with word2vec :: vector shape =>  (942, 1000)\n",
      "processing 0 of 942\n",
      "processing 100 of 942\n",
      "processing 200 of 942\n",
      "processing 300 of 942\n",
      "processing 400 of 942\n",
      "processing 500 of 942\n",
      "processing 600 of 942\n",
      "processing 700 of 942\n",
      "processing 800 of 942\n",
      "processing 900 of 942\n",
      "vector ready\n"
     ]
    }
   ],
   "source": [
    "vector_size = 10\n",
    "vectorizer = TFIDF_W2V_merged_vectorizer(model , vector_size)\n",
    "vector_train = vectorizer.fit_transform(news_train)\n",
    "vector_test = vectorizer.transform(news_test)\n",
    "print(\"vector ready\")"
   ]
  },
  {
   "cell_type": "code",
   "execution_count": 14,
   "metadata": {},
   "outputs": [
    {
     "data": {
      "text/plain": [
       "(1911, 1000, 10, 2)"
      ]
     },
     "execution_count": 14,
     "metadata": {},
     "output_type": "execute_result"
    }
   ],
   "source": [
    "vector_train.shape"
   ]
  },
  {
   "cell_type": "code",
   "execution_count": 15,
   "metadata": {},
   "outputs": [
    {
     "data": {
      "text/plain": [
       "(942, 1000, 10, 2)"
      ]
     },
     "execution_count": 15,
     "metadata": {},
     "output_type": "execute_result"
    }
   ],
   "source": [
    "vector_test.shape"
   ]
  },
  {
   "cell_type": "code",
   "execution_count": 16,
   "metadata": {},
   "outputs": [
    {
     "data": {
      "text/plain": [
       "numpy.ndarray"
      ]
     },
     "execution_count": 16,
     "metadata": {},
     "output_type": "execute_result"
    }
   ],
   "source": [
    "type(vector_train)"
   ]
  },
  {
   "cell_type": "markdown",
   "metadata": {},
   "source": [
    "# CNN model"
   ]
  },
  {
   "cell_type": "code",
   "execution_count": 17,
   "metadata": {},
   "outputs": [
    {
     "name": "stderr",
     "output_type": "stream",
     "text": [
      "Using TensorFlow backend.\n"
     ]
    },
    {
     "name": "stdout",
     "output_type": "stream",
     "text": [
      "import done\n"
     ]
    }
   ],
   "source": [
    "import pandas as pd\n",
    "from keras.models import Sequential\n",
    "from keras.layers import Dense, Dropout, Activation\n",
    "from keras.layers import Embedding\n",
    "from keras.layers import Flatten\n",
    "from keras.layers import Conv1D, GlobalMaxPooling1D\n",
    "from keras.preprocessing.text import Tokenizer\n",
    "from keras.preprocessing import sequence\n",
    "from sklearn.preprocessing import LabelEncoder\n",
    "import time\n",
    "from keras import metrics\n",
    "print('import done')"
   ]
  },
  {
   "cell_type": "code",
   "execution_count": 18,
   "metadata": {},
   "outputs": [],
   "source": [
    "le = LabelEncoder()\n",
    "\n",
    "y_train = le.fit_transform(verdict_train)\n",
    "y_test = le.transform(verdict_test)"
   ]
  },
  {
   "cell_type": "code",
   "execution_count": 19,
   "metadata": {},
   "outputs": [],
   "source": [
    "def get_simple_model():\n",
    "    model = Sequential()\n",
    "    model.add(Dense(512, activation='relu', input_shape=(1000,10,2)))\n",
    "    model.add(Dropout(0.2))\n",
    "    model.add(Dense(256, activation='relu'))\n",
    "    model.add(Dropout(0.2))\n",
    "    model.add(Flatten())\n",
    "    model.add(Dense(1, activation='sigmoid'))\n",
    "    model.summary()\n",
    "    model.compile(loss='binary_crossentropy',\n",
    "              optimizer='adam',\n",
    "              metrics=['acc',metrics.binary_accuracy])\n",
    "    print('compile done')\n",
    "    return model"
   ]
  },
  {
   "cell_type": "code",
   "execution_count": 20,
   "metadata": {},
   "outputs": [],
   "source": [
    "# vector_train = vector_train.reshape(vector_train.shape[0] , vector_train.shape[1]*vector_train.shape[2]*vector_train.shape[3])\n",
    "# vector_test = vector_test.reshape(vector_test.shape[0] , vector_test.shape[1]*vector_test.shape[2]*vector_test.shape[3])"
   ]
  },
  {
   "cell_type": "code",
   "execution_count": 21,
   "metadata": {},
   "outputs": [
    {
     "name": "stdout",
     "output_type": "stream",
     "text": [
      "(1911, 1000, 10, 2) (942, 1000, 10, 2)\n",
      "(1911,) (942,)\n"
     ]
    }
   ],
   "source": [
    "print(vector_train.shape , vector_test.shape)\n",
    "print(y_train.shape , y_test.shape)"
   ]
  },
  {
   "cell_type": "code",
   "execution_count": 22,
   "metadata": {},
   "outputs": [
    {
     "name": "stdout",
     "output_type": "stream",
     "text": [
      "_________________________________________________________________\n",
      "Layer (type)                 Output Shape              Param #   \n",
      "=================================================================\n",
      "dense_1 (Dense)              (None, 1000, 10, 512)     1536      \n",
      "_________________________________________________________________\n",
      "dropout_1 (Dropout)          (None, 1000, 10, 512)     0         \n",
      "_________________________________________________________________\n",
      "dense_2 (Dense)              (None, 1000, 10, 256)     131328    \n",
      "_________________________________________________________________\n",
      "dropout_2 (Dropout)          (None, 1000, 10, 256)     0         \n",
      "_________________________________________________________________\n",
      "flatten_1 (Flatten)          (None, 2560000)           0         \n",
      "_________________________________________________________________\n",
      "dense_3 (Dense)              (None, 1)                 2560001   \n",
      "=================================================================\n",
      "Total params: 2,692,865\n",
      "Trainable params: 2,692,865\n",
      "Non-trainable params: 0\n",
      "_________________________________________________________________\n",
      "compile done\n",
      "Train on 1911 samples, validate on 942 samples\n",
      "Epoch 1/10\n",
      "1911/1911 [==============================] - 330s 173ms/step - loss: 0.2116 - acc: 0.9158 - binary_accuracy: 0.9158 - val_loss: 0.1679 - val_acc: 0.9437 - val_binary_accuracy: 0.9437\n",
      "Epoch 2/10\n",
      "1911/1911 [==============================] - 321s 168ms/step - loss: 0.0247 - acc: 0.9901 - binary_accuracy: 0.9901 - val_loss: 0.2548 - val_acc: 0.9342 - val_binary_accuracy: 0.9342\n",
      "Epoch 3/10\n",
      "1911/1911 [==============================] - 320s 168ms/step - loss: 0.0065 - acc: 0.9979 - binary_accuracy: 0.9979 - val_loss: 0.3024 - val_acc: 0.9448 - val_binary_accuracy: 0.9448\n",
      "Epoch 4/10\n",
      "1911/1911 [==============================] - 322s 168ms/step - loss: 0.0011 - acc: 1.0000 - binary_accuracy: 1.0000 - val_loss: 0.3546 - val_acc: 0.9406 - val_binary_accuracy: 0.9406\n",
      "Epoch 5/10\n",
      "1911/1911 [==============================] - 321s 168ms/step - loss: 2.1437e-04 - acc: 1.0000 - binary_accuracy: 1.0000 - val_loss: 0.3653 - val_acc: 0.9406 - val_binary_accuracy: 0.9406\n",
      "Epoch 6/10\n",
      "1911/1911 [==============================] - 321s 168ms/step - loss: 3.6933e-05 - acc: 1.0000 - binary_accuracy: 1.0000 - val_loss: 0.3693 - val_acc: 0.9406 - val_binary_accuracy: 0.9406\n",
      "Epoch 7/10\n",
      "1911/1911 [==============================] - 321s 168ms/step - loss: 2.7160e-05 - acc: 1.0000 - binary_accuracy: 1.0000 - val_loss: 0.3720 - val_acc: 0.9406 - val_binary_accuracy: 0.9406\n",
      "Epoch 8/10\n",
      "1911/1911 [==============================] - 321s 168ms/step - loss: 2.1421e-05 - acc: 1.0000 - binary_accuracy: 1.0000 - val_loss: 0.3749 - val_acc: 0.9406 - val_binary_accuracy: 0.9406\n",
      "Epoch 9/10\n",
      "1911/1911 [==============================] - 322s 168ms/step - loss: 1.9119e-05 - acc: 1.0000 - binary_accuracy: 1.0000 - val_loss: 0.3776 - val_acc: 0.9406 - val_binary_accuracy: 0.9406\n",
      "Epoch 10/10\n",
      "1911/1911 [==============================] - 322s 168ms/step - loss: 1.5497e-05 - acc: 1.0000 - binary_accuracy: 1.0000 - val_loss: 0.3801 - val_acc: 0.9406 - val_binary_accuracy: 0.9406\n"
     ]
    },
    {
     "data": {
      "text/plain": [
       "<keras.callbacks.History at 0x1e3e51fe278>"
      ]
     },
     "execution_count": 22,
     "metadata": {},
     "output_type": "execute_result"
    }
   ],
   "source": [
    "model = get_simple_model()\n",
    "model.fit(vector_train,y_train,batch_size=10,epochs=10,verbose=1,validation_data=(vector_test , y_test))"
   ]
  },
  {
   "cell_type": "code",
   "execution_count": 24,
   "metadata": {},
   "outputs": [
    {
     "name": "stdout",
     "output_type": "stream",
     "text": [
      "CNN Error: 5.94%\n",
      "Saved model to disk\n"
     ]
    }
   ],
   "source": [
    "scores = model.evaluate(vector_test, y_test, verbose=0)\n",
    "print(\"CNN Error: %.2f%%\" % (100-scores[1]*100))\n",
    "    \n",
    "model_json = model.to_json()\n",
    "with open(\"model_simple.json\", \"w\") as json_file:\n",
    "    json_file.write(model_json)\n",
    "# serialize weights to HDF5\n",
    "model.save_weights(\"model_simple.h5\")\n",
    "print(\"Saved model to disk\")"
   ]
  },
  {
   "cell_type": "code",
   "execution_count": 25,
   "metadata": {},
   "outputs": [
    {
     "name": "stdout",
     "output_type": "stream",
     "text": [
      "942/942 [==============================] - 17s 18ms/step\n",
      "(942,) (942,)\n",
      "accuracy:   0.941\n",
      "Confusion matrix, with little normalization\n"
     ]
    },
    {
     "data": {
      "image/png": "[encoded data removed]",
      "text/plain": [
       "<matplotlib.figure.Figure at 0x1e3e4ea85f8>"
      ]
     },
     "metadata": {},
     "output_type": "display_data"
    }
   ],
   "source": [
    "pred_test = model.predict(vector_test , verbose=1)\n",
    "pred = np.zeros(len(y_test))\n",
    "for i in range(len(y_test)):\n",
    "    if(pred_test[i][0] < .5):\n",
    "        pred[i] = 0\n",
    "    else:\n",
    "        pred[i] = 1\n",
    "print(y_test.shape , pred.shape)\n",
    "score = sklearn.metrics.accuracy_score(y_test, pred)\n",
    "print(\"accuracy:   %0.3f\" % score)\n",
    "cm = sklearn.metrics.confusion_matrix(y_test, pred, labels=[0, 1])\n",
    "plot_confusion_matrix(cm, classes=['FAKE', 'REAL'])"
   ]
  },
  {
   "cell_type": "code",
   "execution_count": null,
   "metadata": {},
   "outputs": [],
   "source": []
  }
 ],
 "metadata": {
  "kernelspec": {
   "display_name": "Python 3",
   "language": "python",
   "name": "python3"
  },
  "language_info": {
   "codemirror_mode": {
    "name": "ipython",
    "version": 3
   },
   "file_extension": ".py",
   "mimetype": "text/x-python",
   "name": "python",
   "nbconvert_exporter": "python",
   "pygments_lexer": "ipython3",
   "version": "3.5.4"
  }
 },
 "nbformat": 4,
 "nbformat_minor": 2
}
