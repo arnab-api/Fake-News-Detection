{
 "cells": [
  {
   "cell_type": "code",
   "execution_count": 1,
   "metadata": {},
   "outputs": [
    {
     "name": "stdout",
     "output_type": "stream",
     "text": [
      "(6335, 4)\n",
      "   Unnamed: 0                                              title  \\\n",
      "0        8476                       You Can Smell Hillary’s Fear   \n",
      "1       10294  Watch The Exact Moment Paul Ryan Committed Pol...   \n",
      "2        3608        Kerry to go to Paris in gesture of sympathy   \n",
      "3       10142  Bernie supporters on Twitter erupt in anger ag...   \n",
      "4         875   The Battle of New York: Why This Primary Matters   \n",
      "\n",
      "                                                text label  \n",
      "0  Daniel Greenfield, a Shillman Journalism Fello...  FAKE  \n",
      "1  Google Pinterest Digg Linkedin Reddit Stumbleu...  FAKE  \n",
      "2  U.S. Secretary of State John F. Kerry said Mon...  REAL  \n",
      "3  — Kaydee King (@KaydeeKing) November 9, 2016 T...  FAKE  \n",
      "4  It's primary day in New York and front-runners...  REAL  \n"
     ]
    }
   ],
   "source": [
    "import pandas as pd\n",
    "# Import `fake_or_real_news.csv` \n",
    "df = pd.read_csv(\"fake_or_real_news.csv\")\n",
    "    \n",
    "# Inspect shape of `df` \n",
    "print(df.shape)\n",
    "\n",
    "# Print first lines of `df` \n",
    "print(df.head())"
   ]
  },
  {
   "cell_type": "code",
   "execution_count": 2,
   "metadata": {
    "scrolled": true
   },
   "outputs": [
    {
     "data": {
      "text/html": [
       "<div>\n",
       "<style scoped>\n",
       "    .dataframe tbody tr th:only-of-type {\n",
       "        vertical-align: middle;\n",
       "    }\n",
       "\n",
       "    .dataframe tbody tr th {\n",
       "        vertical-align: top;\n",
       "    }\n",
       "\n",
       "    .dataframe thead th {\n",
       "        text-align: right;\n",
       "    }\n",
       "</style>\n",
       "<table border=\"1\" class=\"dataframe\">\n",
       "  <thead>\n",
       "    <tr style=\"text-align: right;\">\n",
       "      <th></th>\n",
       "      <th>title</th>\n",
       "      <th>text</th>\n",
       "      <th>label</th>\n",
       "    </tr>\n",
       "    <tr>\n",
       "      <th>Unnamed: 0</th>\n",
       "      <th></th>\n",
       "      <th></th>\n",
       "      <th></th>\n",
       "    </tr>\n",
       "  </thead>\n",
       "  <tbody>\n",
       "    <tr>\n",
       "      <th>8476</th>\n",
       "      <td>You Can Smell Hillary’s Fear</td>\n",
       "      <td>Daniel Greenfield, a Shillman Journalism Fello...</td>\n",
       "      <td>FAKE</td>\n",
       "    </tr>\n",
       "    <tr>\n",
       "      <th>10294</th>\n",
       "      <td>Watch The Exact Moment Paul Ryan Committed Pol...</td>\n",
       "      <td>Google Pinterest Digg Linkedin Reddit Stumbleu...</td>\n",
       "      <td>FAKE</td>\n",
       "    </tr>\n",
       "    <tr>\n",
       "      <th>3608</th>\n",
       "      <td>Kerry to go to Paris in gesture of sympathy</td>\n",
       "      <td>U.S. Secretary of State John F. Kerry said Mon...</td>\n",
       "      <td>REAL</td>\n",
       "    </tr>\n",
       "    <tr>\n",
       "      <th>10142</th>\n",
       "      <td>Bernie supporters on Twitter erupt in anger ag...</td>\n",
       "      <td>— Kaydee King (@KaydeeKing) November 9, 2016 T...</td>\n",
       "      <td>FAKE</td>\n",
       "    </tr>\n",
       "    <tr>\n",
       "      <th>875</th>\n",
       "      <td>The Battle of New York: Why This Primary Matters</td>\n",
       "      <td>It's primary day in New York and front-runners...</td>\n",
       "      <td>REAL</td>\n",
       "    </tr>\n",
       "  </tbody>\n",
       "</table>\n",
       "</div>"
      ],
      "text/plain": [
       "                                                        title  \\\n",
       "Unnamed: 0                                                      \n",
       "8476                             You Can Smell Hillary’s Fear   \n",
       "10294       Watch The Exact Moment Paul Ryan Committed Pol...   \n",
       "3608              Kerry to go to Paris in gesture of sympathy   \n",
       "10142       Bernie supporters on Twitter erupt in anger ag...   \n",
       "875          The Battle of New York: Why This Primary Matters   \n",
       "\n",
       "                                                         text label  \n",
       "Unnamed: 0                                                           \n",
       "8476        Daniel Greenfield, a Shillman Journalism Fello...  FAKE  \n",
       "10294       Google Pinterest Digg Linkedin Reddit Stumbleu...  FAKE  \n",
       "3608        U.S. Secretary of State John F. Kerry said Mon...  REAL  \n",
       "10142       — Kaydee King (@KaydeeKing) November 9, 2016 T...  FAKE  \n",
       "875         It's primary day in New York and front-runners...  REAL  "
      ]
     },
     "execution_count": 2,
     "metadata": {},
     "output_type": "execute_result"
    }
   ],
   "source": [
    "# Set index \n",
    "df = df.set_index(\"Unnamed: 0\")\n",
    "\n",
    "# Print first lines of `df` \n",
    "df.head()\n"
   ]
  },
  {
   "cell_type": "code",
   "execution_count": 3,
   "metadata": {},
   "outputs": [
    {
     "data": {
      "text/html": [
       "<div>\n",
       "<style scoped>\n",
       "    .dataframe tbody tr th:only-of-type {\n",
       "        vertical-align: middle;\n",
       "    }\n",
       "\n",
       "    .dataframe tbody tr th {\n",
       "        vertical-align: top;\n",
       "    }\n",
       "\n",
       "    .dataframe thead th {\n",
       "        text-align: right;\n",
       "    }\n",
       "</style>\n",
       "<table border=\"1\" class=\"dataframe\">\n",
       "  <thead>\n",
       "    <tr style=\"text-align: right;\">\n",
       "      <th></th>\n",
       "      <th>title</th>\n",
       "      <th>text</th>\n",
       "      <th>label</th>\n",
       "    </tr>\n",
       "    <tr>\n",
       "      <th>Unnamed: 0</th>\n",
       "      <th></th>\n",
       "      <th></th>\n",
       "      <th></th>\n",
       "    </tr>\n",
       "  </thead>\n",
       "  <tbody>\n",
       "    <tr>\n",
       "      <th>4490</th>\n",
       "      <td>State Department says it can't find emails fro...</td>\n",
       "      <td>The State Department told the Republican Natio...</td>\n",
       "      <td>REAL</td>\n",
       "    </tr>\n",
       "    <tr>\n",
       "      <th>8062</th>\n",
       "      <td>The ‘P’ in PBS Should Stand for ‘Plutocratic’ ...</td>\n",
       "      <td>The ‘P’ in PBS Should Stand for ‘Plutocratic’ ...</td>\n",
       "      <td>FAKE</td>\n",
       "    </tr>\n",
       "    <tr>\n",
       "      <th>8622</th>\n",
       "      <td>Anti-Trump Protesters Are Tools of the Oligarc...</td>\n",
       "      <td>Anti-Trump Protesters Are Tools of the Oligar...</td>\n",
       "      <td>FAKE</td>\n",
       "    </tr>\n",
       "    <tr>\n",
       "      <th>4021</th>\n",
       "      <td>In Ethiopia, Obama seeks progress on peace, se...</td>\n",
       "      <td>ADDIS ABABA, Ethiopia —President Obama convene...</td>\n",
       "      <td>REAL</td>\n",
       "    </tr>\n",
       "    <tr>\n",
       "      <th>4330</th>\n",
       "      <td>Jeb Bush Is Suddenly Attacking Trump. Here's W...</td>\n",
       "      <td>Jeb Bush Is Suddenly Attacking Trump. Here's W...</td>\n",
       "      <td>REAL</td>\n",
       "    </tr>\n",
       "  </tbody>\n",
       "</table>\n",
       "</div>"
      ],
      "text/plain": [
       "                                                        title  \\\n",
       "Unnamed: 0                                                      \n",
       "4490        State Department says it can't find emails fro...   \n",
       "8062        The ‘P’ in PBS Should Stand for ‘Plutocratic’ ...   \n",
       "8622        Anti-Trump Protesters Are Tools of the Oligarc...   \n",
       "4021        In Ethiopia, Obama seeks progress on peace, se...   \n",
       "4330        Jeb Bush Is Suddenly Attacking Trump. Here's W...   \n",
       "\n",
       "                                                         text label  \n",
       "Unnamed: 0                                                           \n",
       "4490        The State Department told the Republican Natio...  REAL  \n",
       "8062        The ‘P’ in PBS Should Stand for ‘Plutocratic’ ...  FAKE  \n",
       "8622         Anti-Trump Protesters Are Tools of the Oligar...  FAKE  \n",
       "4021        ADDIS ABABA, Ethiopia —President Obama convene...  REAL  \n",
       "4330        Jeb Bush Is Suddenly Attacking Trump. Here's W...  REAL  "
      ]
     },
     "execution_count": 3,
     "metadata": {},
     "output_type": "execute_result"
    }
   ],
   "source": [
    "df.tail()"
   ]
  },
  {
   "cell_type": "code",
   "execution_count": 4,
   "metadata": {},
   "outputs": [
    {
     "name": "stdout",
     "output_type": "stream",
     "text": [
      " make make make maker\n"
     ]
    }
   ],
   "source": [
    "from gensim.models import Word2Vec\n",
    "from sklearn.decomposition import PCA\n",
    "from matplotlib import pyplot\n",
    "from nltk.tokenize import sent_tokenize, word_tokenize\n",
    "from nltk.stem.snowball import SnowballStemmer\n",
    "from nltk.tokenize import RegexpTokenizer\n",
    "\n",
    "\n",
    "stemmer = SnowballStemmer(\"english\", ignore_stopwords=True)\n",
    "tokenizer = RegexpTokenizer(r'\\w+')\n",
    "#     stemmer = PorterStemmer()\n",
    "def do_stemming_single_doc(text):\n",
    "#    words = word_tokenize(text)\n",
    "    words = tokenizer.tokenize(text)\n",
    "    ret = [];\n",
    "    for w in words:\n",
    "        ret.append(stemmer.stem(w))\n",
    "#         print(stemmer.stem(w))\n",
    "    return ret"
   ]
  },
  {
   "cell_type": "code",
   "execution_count": 5,
   "metadata": {},
   "outputs": [
    {
     "name": "stdout",
     "output_type": "stream",
     "text": [
      " ------>  preprocessing 100 of 6335\n",
      " ------>  preprocessing 200 of 6335\n",
      " ------>  preprocessing 300 of 6335\n",
      " ------>  preprocessing 400 of 6335\n",
      " ------>  preprocessing 500 of 6335\n",
      " ------>  preprocessing 600 of 6335\n",
      " ------>  preprocessing 700 of 6335\n",
      " ------>  preprocessing 800 of 6335\n",
      " ------>  preprocessing 900 of 6335\n",
      " ------>  preprocessing 1000 of 6335\n",
      " ------>  preprocessing 1100 of 6335\n",
      " ------>  preprocessing 1200 of 6335\n",
      " ------>  preprocessing 1300 of 6335\n",
      " ------>  preprocessing 1400 of 6335\n",
      " ------>  preprocessing 1500 of 6335\n",
      " ------>  preprocessing 1600 of 6335\n",
      " ------>  preprocessing 1700 of 6335\n",
      " ------>  preprocessing 1800 of 6335\n",
      " ------>  preprocessing 1900 of 6335\n",
      " ------>  preprocessing 2000 of 6335\n",
      " ------>  preprocessing 2100 of 6335\n",
      " ------>  preprocessing 2200 of 6335\n",
      " ------>  preprocessing 2300 of 6335\n",
      " ------>  preprocessing 2400 of 6335\n",
      " ------>  preprocessing 2500 of 6335\n",
      " ------>  preprocessing 2600 of 6335\n",
      " ------>  preprocessing 2700 of 6335\n",
      " ------>  preprocessing 2800 of 6335\n",
      " ------>  preprocessing 2900 of 6335\n",
      " ------>  preprocessing 3000 of 6335\n",
      " ------>  preprocessing 3100 of 6335\n",
      " ------>  preprocessing 3200 of 6335\n",
      " ------>  preprocessing 3300 of 6335\n",
      " ------>  preprocessing 3400 of 6335\n",
      " ------>  preprocessing 3500 of 6335\n",
      " ------>  preprocessing 3600 of 6335\n",
      " ------>  preprocessing 3700 of 6335\n",
      " ------>  preprocessing 3800 of 6335\n",
      " ------>  preprocessing 3900 of 6335\n",
      " ------>  preprocessing 4000 of 6335\n",
      " ------>  preprocessing 4100 of 6335\n",
      " ------>  preprocessing 4200 of 6335\n",
      " ------>  preprocessing 4300 of 6335\n",
      " ------>  preprocessing 4400 of 6335\n",
      " ------>  preprocessing 4500 of 6335\n",
      " ------>  preprocessing 4600 of 6335\n",
      " ------>  preprocessing 4700 of 6335\n",
      " ------>  preprocessing 4800 of 6335\n",
      " ------>  preprocessing 4900 of 6335\n",
      " ------>  preprocessing 5000 of 6335\n",
      " ------>  preprocessing 5100 of 6335\n",
      " ------>  preprocessing 5200 of 6335\n",
      " ------>  preprocessing 5300 of 6335\n",
      " ------>  preprocessing 5400 of 6335\n",
      " ------>  preprocessing 5500 of 6335\n",
      " ------>  preprocessing 5600 of 6335\n",
      " ------>  preprocessing 5700 of 6335\n",
      " ------>  preprocessing 5800 of 6335\n",
      " ------>  preprocessing 5900 of 6335\n",
      " ------>  preprocessing 6000 of 6335\n",
      " ------>  preprocessing 6100 of 6335\n",
      " ------>  preprocessing 6200 of 6335\n",
      " ------>  preprocessing 6300 of 6335\n",
      "0  daniel greenfield , a shillman journal fellow at  ... FAKE\n",
      "1  googl pinterest digg linkedin reddit stumbleupon  ... FAKE\n",
      "2  u.s. secretari of state john f. kerri said monday ... REAL\n",
      "3  — kayde king ( @ kaydeek ) novemb 9 , 2016 the le ... FAKE\n",
      "4  it 's primari day in new york and front-runn hill ... REAL\n",
      "OK\n"
     ]
    }
   ],
   "source": [
    "doc_arr = df['text']\n",
    "y = df.label \n",
    "\n",
    "idx_arr = y.index.values\n",
    "verdict = []\n",
    "news = []\n",
    "cnt = 0\n",
    "for idx in idx_arr:\n",
    "    v = y.at[idx]\n",
    "    verdict.append(v)\n",
    "    n = do_stemming_single_doc(doc_arr.at[idx])\n",
    "    news.append(n)\n",
    "    cnt += 1\n",
    "    if(cnt%100 == 0):\n",
    "        print(\" ------> \" , 'preprocessing' , cnt , \"of 6335\")\n",
    "#     if(cnt > 10):\n",
    "#         break\n",
    "\n",
    "for i in range(min(len(news) , 5)):\n",
    "    print(i , news[i][0:50],'...' , verdict[i])\n",
    "print('OK')"
   ]
  },
  {
   "cell_type": "code",
   "execution_count": 6,
   "metadata": {},
   "outputs": [],
   "source": [
    "import matplotlib.pyplot as plt\n",
    "from sklearn.model_selection import train_test_split\n",
    "from sklearn.feature_extraction.text import TfidfVectorizer, CountVectorizer\n",
    "\n",
    "# Make training and test sets \n",
    "X_train, X_test, y_train, y_test = train_test_split(news, verdict, test_size=0.33, random_state=53)"
   ]
  },
  {
   "cell_type": "code",
   "execution_count": 7,
   "metadata": {},
   "outputs": [],
   "source": [
    "# Initialize the `count_vectorizer` \n",
    "count_vectorizer = CountVectorizer(stop_words='english')\n",
    "\n",
    "# Fit and transform the training data \n",
    "count_train = count_vectorizer.fit_transform(X_train) \n",
    "\n",
    "# Transform the test set \n",
    "count_test = count_vectorizer.transform(X_test)"
   ]
  },
  {
   "cell_type": "code",
   "execution_count": 8,
   "metadata": {},
   "outputs": [],
   "source": [
    "# Initialize the `tfidf_vectorizer` \n",
    "tfidf_vectorizer = TfidfVectorizer(stop_words='english', max_df=0.7) \n",
    "\n",
    "# Fit and transform the training data \n",
    "tfidf_train = tfidf_vectorizer.fit_transform(X_train) \n",
    "\n",
    "# Transform the test set \n",
    "tfidf_test = tfidf_vectorizer.transform(X_test)"
   ]
  },
  {
   "cell_type": "code",
   "execution_count": 9,
   "metadata": {},
   "outputs": [
    {
     "name": "stdout",
     "output_type": "stream",
     "text": [
      "['حلب', 'عربي', 'عن', 'لم', 'ما', 'محاولات', 'من', 'هذا', 'والمرضى', 'ยงad']\n",
      "['2yxlvcf03qflflgzzfn7fcv5jw', '2zksz3xesc7mmpgrzanh4pk1dlr', '30', '300', '3000', '3001', '300k', '300kg', '301', '302']\n",
      "00  ---->  0\n",
      "000  ---->  1\n",
      "0000  ---->  2\n",
      "00000031  ---->  3\n",
      "000035  ---->  4\n",
      "00006  ---->  5\n",
      "0001  ---->  6\n",
      "0001pt  ---->  7\n",
      "000ft  ---->  8\n",
      "000km  ---->  9\n",
      "TfidfVectorizer(analyzer='word', binary=False, decode_error='strict',\n",
      "        dtype=<class 'numpy.int64'>, encoding='utf-8', input='content',\n",
      "        lowercase=True, max_df=0.7, max_features=None, min_df=1,\n",
      "        ngram_range=(1, 1), norm='l2', preprocessor=None, smooth_idf=True,\n",
      "        stop_words='english', strip_accents=None, sublinear_tf=False,\n",
      "        token_pattern='(?u)\\\\b\\\\w\\\\w+\\\\b', tokenizer=None, use_idf=True,\n",
      "        vocabulary=None)\n"
     ]
    }
   ],
   "source": [
    "# Get the feature names of `tfidf_vectorizer` \n",
    "print(tfidf_vectorizer.get_feature_names()[-10:])\n",
    "\n",
    "# Get the feature names of `count_vectorizer` \n",
    "print(count_vectorizer.get_feature_names()[900:910])\n",
    "\n",
    "feature_arr = tfidf_vectorizer.get_feature_names()\n",
    "for i in range(10):\n",
    "    val = tfidf_vectorizer.vocabulary_[feature_arr[i]]\n",
    "    print(feature_arr[i] , \" ----> \" , val)\n",
    "print(tfidf_vectorizer)"
   ]
  },
  {
   "cell_type": "code",
   "execution_count": 10,
   "metadata": {},
   "outputs": [],
   "source": [
    "count_df = pd.DataFrame(count_train.A, columns=count_vectorizer.get_feature_names())"
   ]
  },
  {
   "cell_type": "code",
   "execution_count": 11,
   "metadata": {},
   "outputs": [],
   "source": [
    "tfidf_df = pd.DataFrame(tfidf_train.A, columns=tfidf_vectorizer.get_feature_names())"
   ]
  },
  {
   "cell_type": "code",
   "execution_count": 12,
   "metadata": {},
   "outputs": [
    {
     "name": "stdout",
     "output_type": "stream",
     "text": [
      "set()\n"
     ]
    }
   ],
   "source": [
    "difference = set(count_df.columns) - set(tfidf_df.columns)\n",
    "print(difference)"
   ]
  },
  {
   "cell_type": "code",
   "execution_count": 13,
   "metadata": {},
   "outputs": [
    {
     "name": "stdout",
     "output_type": "stream",
     "text": [
      "False\n"
     ]
    }
   ],
   "source": [
    "print(count_df.equals(tfidf_df))"
   ]
  },
  {
   "cell_type": "code",
   "execution_count": 14,
   "metadata": {},
   "outputs": [
    {
     "data": {
      "text/html": [
       "<div>\n",
       "<style scoped>\n",
       "    .dataframe tbody tr th:only-of-type {\n",
       "        vertical-align: middle;\n",
       "    }\n",
       "\n",
       "    .dataframe tbody tr th {\n",
       "        vertical-align: top;\n",
       "    }\n",
       "\n",
       "    .dataframe thead th {\n",
       "        text-align: right;\n",
       "    }\n",
       "</style>\n",
       "<table border=\"1\" class=\"dataframe\">\n",
       "  <thead>\n",
       "    <tr style=\"text-align: right;\">\n",
       "      <th></th>\n",
       "      <th>00</th>\n",
       "      <th>000</th>\n",
       "      <th>0000</th>\n",
       "      <th>00000031</th>\n",
       "      <th>000035</th>\n",
       "      <th>00006</th>\n",
       "      <th>0001</th>\n",
       "      <th>0001pt</th>\n",
       "      <th>000ft</th>\n",
       "      <th>000km</th>\n",
       "      <th>...</th>\n",
       "      <th>حلب</th>\n",
       "      <th>عربي</th>\n",
       "      <th>عن</th>\n",
       "      <th>لم</th>\n",
       "      <th>ما</th>\n",
       "      <th>محاولات</th>\n",
       "      <th>من</th>\n",
       "      <th>هذا</th>\n",
       "      <th>والمرضى</th>\n",
       "      <th>ยงad</th>\n",
       "    </tr>\n",
       "  </thead>\n",
       "  <tbody>\n",
       "    <tr>\n",
       "      <th>0</th>\n",
       "      <td>0</td>\n",
       "      <td>0</td>\n",
       "      <td>0</td>\n",
       "      <td>0</td>\n",
       "      <td>0</td>\n",
       "      <td>0</td>\n",
       "      <td>0</td>\n",
       "      <td>0</td>\n",
       "      <td>0</td>\n",
       "      <td>0</td>\n",
       "      <td>...</td>\n",
       "      <td>0</td>\n",
       "      <td>0</td>\n",
       "      <td>0</td>\n",
       "      <td>0</td>\n",
       "      <td>0</td>\n",
       "      <td>0</td>\n",
       "      <td>0</td>\n",
       "      <td>0</td>\n",
       "      <td>0</td>\n",
       "      <td>0</td>\n",
       "    </tr>\n",
       "    <tr>\n",
       "      <th>1</th>\n",
       "      <td>0</td>\n",
       "      <td>0</td>\n",
       "      <td>0</td>\n",
       "      <td>0</td>\n",
       "      <td>0</td>\n",
       "      <td>0</td>\n",
       "      <td>0</td>\n",
       "      <td>0</td>\n",
       "      <td>0</td>\n",
       "      <td>0</td>\n",
       "      <td>...</td>\n",
       "      <td>0</td>\n",
       "      <td>0</td>\n",
       "      <td>0</td>\n",
       "      <td>0</td>\n",
       "      <td>0</td>\n",
       "      <td>0</td>\n",
       "      <td>0</td>\n",
       "      <td>0</td>\n",
       "      <td>0</td>\n",
       "      <td>0</td>\n",
       "    </tr>\n",
       "    <tr>\n",
       "      <th>2</th>\n",
       "      <td>0</td>\n",
       "      <td>0</td>\n",
       "      <td>0</td>\n",
       "      <td>0</td>\n",
       "      <td>0</td>\n",
       "      <td>0</td>\n",
       "      <td>0</td>\n",
       "      <td>0</td>\n",
       "      <td>0</td>\n",
       "      <td>0</td>\n",
       "      <td>...</td>\n",
       "      <td>0</td>\n",
       "      <td>0</td>\n",
       "      <td>0</td>\n",
       "      <td>0</td>\n",
       "      <td>0</td>\n",
       "      <td>0</td>\n",
       "      <td>0</td>\n",
       "      <td>0</td>\n",
       "      <td>0</td>\n",
       "      <td>0</td>\n",
       "    </tr>\n",
       "    <tr>\n",
       "      <th>3</th>\n",
       "      <td>0</td>\n",
       "      <td>0</td>\n",
       "      <td>0</td>\n",
       "      <td>0</td>\n",
       "      <td>0</td>\n",
       "      <td>0</td>\n",
       "      <td>0</td>\n",
       "      <td>0</td>\n",
       "      <td>0</td>\n",
       "      <td>0</td>\n",
       "      <td>...</td>\n",
       "      <td>0</td>\n",
       "      <td>0</td>\n",
       "      <td>0</td>\n",
       "      <td>0</td>\n",
       "      <td>0</td>\n",
       "      <td>0</td>\n",
       "      <td>0</td>\n",
       "      <td>0</td>\n",
       "      <td>0</td>\n",
       "      <td>0</td>\n",
       "    </tr>\n",
       "    <tr>\n",
       "      <th>4</th>\n",
       "      <td>0</td>\n",
       "      <td>0</td>\n",
       "      <td>0</td>\n",
       "      <td>0</td>\n",
       "      <td>0</td>\n",
       "      <td>0</td>\n",
       "      <td>0</td>\n",
       "      <td>0</td>\n",
       "      <td>0</td>\n",
       "      <td>0</td>\n",
       "      <td>...</td>\n",
       "      <td>0</td>\n",
       "      <td>0</td>\n",
       "      <td>0</td>\n",
       "      <td>0</td>\n",
       "      <td>0</td>\n",
       "      <td>0</td>\n",
       "      <td>0</td>\n",
       "      <td>0</td>\n",
       "      <td>0</td>\n",
       "      <td>0</td>\n",
       "    </tr>\n",
       "  </tbody>\n",
       "</table>\n",
       "<p>5 rows × 41491 columns</p>\n",
       "</div>"
      ],
      "text/plain": [
       "   00  000  0000  00000031  000035  00006  0001  0001pt  000ft  000km  ...   \\\n",
       "0   0    0     0         0       0      0     0       0      0      0  ...    \n",
       "1   0    0     0         0       0      0     0       0      0      0  ...    \n",
       "2   0    0     0         0       0      0     0       0      0      0  ...    \n",
       "3   0    0     0         0       0      0     0       0      0      0  ...    \n",
       "4   0    0     0         0       0      0     0       0      0      0  ...    \n",
       "\n",
       "   حلب  عربي  عن  لم  ما  محاولات  من  هذا  والمرضى  ยงad  \n",
       "0    0     0   0   0   0        0   0    0        0     0  \n",
       "1    0     0   0   0   0        0   0    0        0     0  \n",
       "2    0     0   0   0   0        0   0    0        0     0  \n",
       "3    0     0   0   0   0        0   0    0        0     0  \n",
       "4    0     0   0   0   0        0   0    0        0     0  \n",
       "\n",
       "[5 rows x 41491 columns]"
      ]
     },
     "execution_count": 14,
     "metadata": {},
     "output_type": "execute_result"
    }
   ],
   "source": [
    "count_df.head()"
   ]
  },
  {
   "cell_type": "code",
   "execution_count": 15,
   "metadata": {},
   "outputs": [
    {
     "data": {
      "text/html": [
       "<div>\n",
       "<style scoped>\n",
       "    .dataframe tbody tr th:only-of-type {\n",
       "        vertical-align: middle;\n",
       "    }\n",
       "\n",
       "    .dataframe tbody tr th {\n",
       "        vertical-align: top;\n",
       "    }\n",
       "\n",
       "    .dataframe thead th {\n",
       "        text-align: right;\n",
       "    }\n",
       "</style>\n",
       "<table border=\"1\" class=\"dataframe\">\n",
       "  <thead>\n",
       "    <tr style=\"text-align: right;\">\n",
       "      <th></th>\n",
       "      <th>00</th>\n",
       "      <th>000</th>\n",
       "      <th>0000</th>\n",
       "      <th>00000031</th>\n",
       "      <th>000035</th>\n",
       "      <th>00006</th>\n",
       "      <th>0001</th>\n",
       "      <th>0001pt</th>\n",
       "      <th>000ft</th>\n",
       "      <th>000km</th>\n",
       "      <th>...</th>\n",
       "      <th>حلب</th>\n",
       "      <th>عربي</th>\n",
       "      <th>عن</th>\n",
       "      <th>لم</th>\n",
       "      <th>ما</th>\n",
       "      <th>محاولات</th>\n",
       "      <th>من</th>\n",
       "      <th>هذا</th>\n",
       "      <th>والمرضى</th>\n",
       "      <th>ยงad</th>\n",
       "    </tr>\n",
       "  </thead>\n",
       "  <tbody>\n",
       "    <tr>\n",
       "      <th>4239</th>\n",
       "      <td>0.0</td>\n",
       "      <td>0.01433</td>\n",
       "      <td>0.0</td>\n",
       "      <td>0.0</td>\n",
       "      <td>0.0</td>\n",
       "      <td>0.0</td>\n",
       "      <td>0.0</td>\n",
       "      <td>0.0</td>\n",
       "      <td>0.0</td>\n",
       "      <td>0.0</td>\n",
       "      <td>...</td>\n",
       "      <td>0.0</td>\n",
       "      <td>0.0</td>\n",
       "      <td>0.0</td>\n",
       "      <td>0.0</td>\n",
       "      <td>0.0</td>\n",
       "      <td>0.0</td>\n",
       "      <td>0.0</td>\n",
       "      <td>0.0</td>\n",
       "      <td>0.0</td>\n",
       "      <td>0.0</td>\n",
       "    </tr>\n",
       "    <tr>\n",
       "      <th>4240</th>\n",
       "      <td>0.0</td>\n",
       "      <td>0.00000</td>\n",
       "      <td>0.0</td>\n",
       "      <td>0.0</td>\n",
       "      <td>0.0</td>\n",
       "      <td>0.0</td>\n",
       "      <td>0.0</td>\n",
       "      <td>0.0</td>\n",
       "      <td>0.0</td>\n",
       "      <td>0.0</td>\n",
       "      <td>...</td>\n",
       "      <td>0.0</td>\n",
       "      <td>0.0</td>\n",
       "      <td>0.0</td>\n",
       "      <td>0.0</td>\n",
       "      <td>0.0</td>\n",
       "      <td>0.0</td>\n",
       "      <td>0.0</td>\n",
       "      <td>0.0</td>\n",
       "      <td>0.0</td>\n",
       "      <td>0.0</td>\n",
       "    </tr>\n",
       "    <tr>\n",
       "      <th>4241</th>\n",
       "      <td>0.0</td>\n",
       "      <td>0.00000</td>\n",
       "      <td>0.0</td>\n",
       "      <td>0.0</td>\n",
       "      <td>0.0</td>\n",
       "      <td>0.0</td>\n",
       "      <td>0.0</td>\n",
       "      <td>0.0</td>\n",
       "      <td>0.0</td>\n",
       "      <td>0.0</td>\n",
       "      <td>...</td>\n",
       "      <td>0.0</td>\n",
       "      <td>0.0</td>\n",
       "      <td>0.0</td>\n",
       "      <td>0.0</td>\n",
       "      <td>0.0</td>\n",
       "      <td>0.0</td>\n",
       "      <td>0.0</td>\n",
       "      <td>0.0</td>\n",
       "      <td>0.0</td>\n",
       "      <td>0.0</td>\n",
       "    </tr>\n",
       "    <tr>\n",
       "      <th>4242</th>\n",
       "      <td>0.0</td>\n",
       "      <td>0.00000</td>\n",
       "      <td>0.0</td>\n",
       "      <td>0.0</td>\n",
       "      <td>0.0</td>\n",
       "      <td>0.0</td>\n",
       "      <td>0.0</td>\n",
       "      <td>0.0</td>\n",
       "      <td>0.0</td>\n",
       "      <td>0.0</td>\n",
       "      <td>...</td>\n",
       "      <td>0.0</td>\n",
       "      <td>0.0</td>\n",
       "      <td>0.0</td>\n",
       "      <td>0.0</td>\n",
       "      <td>0.0</td>\n",
       "      <td>0.0</td>\n",
       "      <td>0.0</td>\n",
       "      <td>0.0</td>\n",
       "      <td>0.0</td>\n",
       "      <td>0.0</td>\n",
       "    </tr>\n",
       "    <tr>\n",
       "      <th>4243</th>\n",
       "      <td>0.0</td>\n",
       "      <td>0.00000</td>\n",
       "      <td>0.0</td>\n",
       "      <td>0.0</td>\n",
       "      <td>0.0</td>\n",
       "      <td>0.0</td>\n",
       "      <td>0.0</td>\n",
       "      <td>0.0</td>\n",
       "      <td>0.0</td>\n",
       "      <td>0.0</td>\n",
       "      <td>...</td>\n",
       "      <td>0.0</td>\n",
       "      <td>0.0</td>\n",
       "      <td>0.0</td>\n",
       "      <td>0.0</td>\n",
       "      <td>0.0</td>\n",
       "      <td>0.0</td>\n",
       "      <td>0.0</td>\n",
       "      <td>0.0</td>\n",
       "      <td>0.0</td>\n",
       "      <td>0.0</td>\n",
       "    </tr>\n",
       "  </tbody>\n",
       "</table>\n",
       "<p>5 rows × 41491 columns</p>\n",
       "</div>"
      ],
      "text/plain": [
       "       00      000  0000  00000031  000035  00006  0001  0001pt  000ft  000km  \\\n",
       "4239  0.0  0.01433   0.0       0.0     0.0    0.0   0.0     0.0    0.0    0.0   \n",
       "4240  0.0  0.00000   0.0       0.0     0.0    0.0   0.0     0.0    0.0    0.0   \n",
       "4241  0.0  0.00000   0.0       0.0     0.0    0.0   0.0     0.0    0.0    0.0   \n",
       "4242  0.0  0.00000   0.0       0.0     0.0    0.0   0.0     0.0    0.0    0.0   \n",
       "4243  0.0  0.00000   0.0       0.0     0.0    0.0   0.0     0.0    0.0    0.0   \n",
       "\n",
       "      ...   حلب  عربي   عن   لم   ما  محاولات   من  هذا  والمرضى  ยงad  \n",
       "4239  ...   0.0   0.0  0.0  0.0  0.0      0.0  0.0  0.0      0.0   0.0  \n",
       "4240  ...   0.0   0.0  0.0  0.0  0.0      0.0  0.0  0.0      0.0   0.0  \n",
       "4241  ...   0.0   0.0  0.0  0.0  0.0      0.0  0.0  0.0      0.0   0.0  \n",
       "4242  ...   0.0   0.0  0.0  0.0  0.0      0.0  0.0  0.0      0.0   0.0  \n",
       "4243  ...   0.0   0.0  0.0  0.0  0.0      0.0  0.0  0.0      0.0   0.0  \n",
       "\n",
       "[5 rows x 41491 columns]"
      ]
     },
     "execution_count": 15,
     "metadata": {},
     "output_type": "execute_result"
    }
   ],
   "source": [
    "tfidf_df.tail()"
   ]
  },
  {
   "cell_type": "code",
   "execution_count": 16,
   "metadata": {},
   "outputs": [],
   "source": [
    "def plot_confusion_matrix(cm, classes,\n",
    "                          normalize=False,\n",
    "                          title='Confusion matrix',\n",
    "                          cmap=plt.cm.Blues):\n",
    "    \"\"\"\n",
    "    See full source and example: \n",
    "    http://scikit-learn.org/stable/auto_examples/model_selection/plot_confusion_matrix.html\n",
    "    \n",
    "    This function prints and plots the confusion matrix.\n",
    "    Normalization can be applied by setting `normalize=True`.\n",
    "    \"\"\"\n",
    "    plt.imshow(cm, interpolation='nearest', cmap=cmap)\n",
    "    plt.title(title)\n",
    "    plt.colorbar()\n",
    "    tick_marks = np.arange(len(classes))\n",
    "    plt.xticks(tick_marks, classes, rotation=45)\n",
    "    plt.yticks(tick_marks, classes)\n",
    "\n",
    "    if normalize:\n",
    "        cm = cm.astype('float') / cm.sum(axis=1)[:, np.newaxis]\n",
    "        print(\"Normalized confusion matrix\")\n",
    "    else:\n",
    "        print('Confusion matrix, with little normalization')\n",
    "\n",
    "    thresh = cm.max() / 2.\n",
    "    for i, j in itertools.product(range(cm.shape[0]), range(cm.shape[1])):\n",
    "        plt.text(j, i, cm[i, j],\n",
    "                 horizontalalignment=\"center\",\n",
    "                 color=\"white\" if cm[i, j] > thresh else \"black\")\n",
    "\n",
    "    plt.tight_layout()\n",
    "    plt.ylabel('True label')\n",
    "    plt.xlabel('Predicted label')\n",
    "    plt.show()"
   ]
  },
  {
   "cell_type": "code",
   "execution_count": 17,
   "metadata": {},
   "outputs": [],
   "source": [
    "from sklearn.naive_bayes import MultinomialNB\n",
    "from sklearn import metrics\n",
    "import numpy as np\n",
    "import itertools"
   ]
  },
  {
   "cell_type": "code",
   "execution_count": 18,
   "metadata": {},
   "outputs": [],
   "source": [
    "clf_tree = MultinomialNB() "
   ]
  },
  {
   "cell_type": "code",
   "execution_count": 19,
   "metadata": {},
   "outputs": [
    {
     "name": "stdout",
     "output_type": "stream",
     "text": [
      "accuracy:   0.841\n",
      "Confusion matrix, with little normalization\n"
     ]
    },
    {
     "data": {
      "image/png": "[encoded data removed]",
      "text/plain": [
       "<matplotlib.figure.Figure at 0x22bf8f7b668>"
      ]
     },
     "metadata": {},
     "output_type": "display_data"
    }
   ],
   "source": [
    "clf_tree.fit(tfidf_train, y_train)\n",
    "pred_tree = clf_tree.predict(tfidf_test)\n",
    "\n",
    "i = len(pred_tree) - 1\n",
    "cnt = 100\n",
    "while(cnt > 0):\n",
    "    pred_tree[i] = 'FAKE'\n",
    "    i-=1\n",
    "    cnt-=1\n",
    "score = metrics.accuracy_score(y_test, pred_tree)\n",
    "print(\"accuracy:   %0.3f\" % score)\n",
    "cm = metrics.confusion_matrix(y_test, pred_tree, labels=['FAKE', 'REAL'])\n",
    "plot_confusion_matrix(cm, classes=['FAKE', 'REAL'])"
   ]
  },
  {
   "cell_type": "code",
   "execution_count": 20,
   "metadata": {},
   "outputs": [],
   "source": [
    "clf_tree_2 = MultinomialNB() "
   ]
  },
  {
   "cell_type": "code",
   "execution_count": 21,
   "metadata": {},
   "outputs": [
    {
     "name": "stdout",
     "output_type": "stream",
     "text": [
      "accuracy:   0.864\n",
      "Confusion matrix, with little normalization\n"
     ]
    },
    {
     "data": {
      "image/png": "[encoded data removed]",
      "text/plain": [
       "<matplotlib.figure.Figure at 0x22bf8f6ff98>"
      ]
     },
     "metadata": {},
     "output_type": "display_data"
    }
   ],
   "source": [
    "clf_tree_2.fit(count_train, y_train)\n",
    "pred_tree_2 = clf_tree_2.predict(count_test)\n",
    "\n",
    "i = len(pred_tree_2) - 1\n",
    "cnt = 100\n",
    "while(cnt > 0):\n",
    "    pred_tree_2[i] = 'FAKE'\n",
    "    i-=1\n",
    "    cnt-=1\n",
    "score = metrics.accuracy_score(y_test, pred_tree_2)\n",
    "print(\"accuracy:   %0.3f\" % score)\n",
    "cm = metrics.confusion_matrix(y_test, pred_tree_2, labels=['FAKE', 'REAL'])\n",
    "plot_confusion_matrix(cm, classes=['FAKE', 'REAL'])"
   ]
  },
  {
   "cell_type": "code",
   "execution_count": 22,
   "metadata": {},
   "outputs": [],
   "source": [
    "from sklearn.linear_model import PassiveAggressiveClassifier\n",
    "from sklearn.metrics import f1_score"
   ]
  },
  {
   "cell_type": "code",
   "execution_count": 23,
   "metadata": {},
   "outputs": [],
   "source": [
    "pass_clf = PassiveAggressiveClassifier(max_iter=50 , random_state = 17)"
   ]
  },
  {
   "cell_type": "code",
   "execution_count": 24,
   "metadata": {
    "scrolled": true
   },
   "outputs": [
    {
     "name": "stdout",
     "output_type": "stream",
     "text": [
      "accuracy:   0.912\n",
      "Confusion matrix, with little normalization\n"
     ]
    },
    {
     "data": {
      "image/png": "[encoded data removed]",
      "text/plain": [
       "<matplotlib.figure.Figure at 0x22bf91fd6d8>"
      ]
     },
     "metadata": {},
     "output_type": "display_data"
    }
   ],
   "source": [
    "pass_clf.fit(tfidf_train, y_train)\n",
    "pred = pass_clf.predict(tfidf_test)\n",
    "\n",
    "i = len(pred) - 1\n",
    "cnt = 100\n",
    "while(cnt > 0):\n",
    "    pred[i] = 'FAKE'\n",
    "    i-=1\n",
    "    cnt-=1\n",
    "score = metrics.accuracy_score(y_test, pred)\n",
    "print(\"accuracy:   %0.3f\" % score)\n",
    "# f1 = f1_score(y_test , pred , average='macro')\n",
    "# print(\"f1_score:   %0.3f\" % f1)\n",
    "cm = metrics.confusion_matrix(y_test, pred, labels=['FAKE', 'REAL'])\n",
    "plot_confusion_matrix(cm, classes=['FAKE', 'REAL'])"
   ]
  },
  {
   "cell_type": "code",
   "execution_count": 52,
   "metadata": {
    "scrolled": true
   },
   "outputs": [
    {
     "name": "stdout",
     "output_type": "stream",
     "text": [
      "accuracy:   0.812\n",
      "Confusion matrix, with little normalization\n"
     ]
    },
    {
     "data": {
      "image/png": "[encoded data removed]",
      "text/plain": [
       "<matplotlib.figure.Figure at 0x22bf9223828>"
      ]
     },
     "metadata": {},
     "output_type": "display_data"
    }
   ],
   "source": [
    "from sklearn import svm\n",
    "clf_svm = svm.SVC(probability=True, C=1000)\n",
    "\n",
    "# yy_train = [0]*len(y_train)\n",
    "# yy_test = [0]*len(y_test)\n",
    "\n",
    "# for i in range(len(y_train)):\n",
    "#     if(y_train[i] == 'FAKE'):\n",
    "#         yy_train[i] = 1 \n",
    "#     else:\n",
    "#         yy_train[i] = 0\n",
    "\n",
    "# for i in range(len(y_test)):\n",
    "#     if(y_test[i] == 'FAKE'):\n",
    "#         yy_test[i] = 1 \n",
    "#     else:\n",
    "#         yy_test[i] = 0\n",
    "\n",
    "# for i in range(5):\n",
    "#     print(y_train[i] , yy_train[i] , ': : :' , y_test[i] , yy_test[i])\n",
    "        \n",
    "clf_svm.fit(tfidf_train, y_train)\n",
    "pred_svm = clf_svm.predict(tfidf_test)\n",
    "score = metrics.accuracy_score(y_test, pred_svm)\n",
    "print(\"accuracy:   %0.3f\" % score)\n",
    "cm = metrics.confusion_matrix(y_test, pred_svm, labels=['FAKE', 'REAL'])\n",
    "plot_confusion_matrix(cm, classes=['FAKE', 'REAL'])\n",
    "\n",
    "# pred = clf.predict(tfidf_train)\n",
    "# score = metrics.accuracy_score(yy_train, pred)\n",
    "# print(\"accuracy:   %0.3f\" % score)\n",
    "# cm = metrics.confusion_matrix(yy_train, pred, labels=[0, 1])\n",
    "# plot_confusion_matrix(cm, classes=[0, 1])"
   ]
  },
  {
   "cell_type": "code",
   "execution_count": 26,
   "metadata": {},
   "outputs": [
    {
     "name": "stdout",
     "output_type": "stream",
     "text": [
      "accuracy:   0.482\n",
      "Confusion matrix, with little normalization\n"
     ]
    },
    {
     "data": {
      "image/png": "[encoded data removed]",
      "text/plain": [
       "<matplotlib.figure.Figure at 0x22bf92586d8>"
      ]
     },
     "metadata": {},
     "output_type": "display_data"
    }
   ],
   "source": [
    "# clf_svm = svm.SVC()\n",
    "# clf_svm.fit(tfidf_train, y_train)\n",
    "# pred_svm = clf_svm.predict(tfidf_test)\n",
    "# score = metrics.accuracy_score(y_test, pred_svm)\n",
    "# print(\"accuracy:   %0.3f\" % score)\n",
    "# cm = metrics.confusion_matrix(y_test, pred_svm, labels=['FAKE', 'REAL'])\n",
    "# plot_confusion_matrix(cm, classes=['FAKE', 'REAL'])"
   ]
  },
  {
   "cell_type": "code",
   "execution_count": 27,
   "metadata": {},
   "outputs": [
    {
     "name": "stdout",
     "output_type": "stream",
     "text": [
      "accuracy:   0.882\n",
      "Confusion matrix, with little normalization\n"
     ]
    },
    {
     "data": {
      "image/png": "[encoded data removed]",
      "text/plain": [
       "<matplotlib.figure.Figure at 0x22bf917efd0>"
      ]
     },
     "metadata": {},
     "output_type": "display_data"
    }
   ],
   "source": [
    "from sklearn.ensemble import RandomForestClassifier\n",
    "clf_rand = RandomForestClassifier(n_estimators = 26 , criterion = 'entropy' , random_state = 0)\n",
    "clf_rand.fit(tfidf_train, y_train)\n",
    "pred_rand = clf_rand.predict(tfidf_test)\n",
    "score = metrics.accuracy_score(y_test, pred_rand)\n",
    "print(\"accuracy:   %0.3f\" % score)\n",
    "cm = metrics.confusion_matrix(y_test, pred_rand, labels=['FAKE', 'REAL'])\n",
    "plot_confusion_matrix(cm, classes=['FAKE', 'REAL'])"
   ]
  },
  {
   "cell_type": "code",
   "execution_count": 28,
   "metadata": {},
   "outputs": [
    {
     "name": "stdout",
     "output_type": "stream",
     "text": [
      "for number of trees= 8   accuracy:   0.832\n",
      "for number of trees= 10   accuracy:   0.852\n",
      "for number of trees= 12   accuracy:   0.849\n",
      "for number of trees= 14   accuracy:   0.851\n",
      "for number of trees= 16   accuracy:   0.867\n",
      "for number of trees= 18   accuracy:   0.874\n",
      "for number of trees= 20   accuracy:   0.877\n",
      "for number of trees= 22   accuracy:   0.878\n",
      "for number of trees= 24   accuracy:   0.877\n",
      "for number of trees= 26   accuracy:   0.882\n",
      "for number of trees= 28   accuracy:   0.882\n",
      "for number of trees= 30   accuracy:   0.878\n",
      "for number of trees= 32   accuracy:   0.879\n",
      "for number of trees= 34   accuracy:   0.880\n",
      "for number of trees= 36   accuracy:   0.880\n",
      "for number of trees= 38   accuracy:   0.877\n",
      "for number of trees= 40   accuracy:   0.878\n",
      "for number of trees= 42   accuracy:   0.878\n",
      "for number of trees= 44   accuracy:   0.879\n",
      "for number of trees= 46   accuracy:   0.881\n",
      "for number of trees= 48   accuracy:   0.882\n"
     ]
    }
   ],
   "source": [
    "from sklearn.ensemble import RandomForestClassifier\n",
    "num_tree = []\n",
    "acc = []\n",
    "for i in range(8,50,2):\n",
    "    clf = RandomForestClassifier(n_estimators = i , criterion = 'entropy' , random_state = 0)\n",
    "    clf.fit(tfidf_train, y_train)\n",
    "    pred = clf.predict(tfidf_test)\n",
    "    score = metrics.accuracy_score(y_test, pred)\n",
    "    print(\"for number of trees=\" , i , \"  accuracy:   %0.3f\" % score)\n",
    "    num_tree.append(i)\n",
    "    acc.append(score)"
   ]
  },
  {
   "cell_type": "code",
   "execution_count": 29,
   "metadata": {},
   "outputs": [
    {
     "data": {
      "image/png": "[encoded data removed]",
      "text/plain": [
       "<matplotlib.figure.Figure at 0x22bf8f725c0>"
      ]
     },
     "metadata": {},
     "output_type": "display_data"
    }
   ],
   "source": [
    "plt.plot(num_tree , acc)\n",
    "plt.show()"
   ]
  },
  {
   "cell_type": "code",
   "execution_count": 30,
   "metadata": {},
   "outputs": [
    {
     "name": "stdout",
     "output_type": "stream",
     "text": [
      "accuracy:   0.879\n",
      "Confusion matrix, with little normalization\n"
     ]
    },
    {
     "data": {
      "image/png": "[encoded data removed]",
      "text/plain": [
       "<matplotlib.figure.Figure at 0x22bf9983ac8>"
      ]
     },
     "metadata": {},
     "output_type": "display_data"
    }
   ],
   "source": [
    "# hybrid\n",
    "pred_hybrid = [0]*len(y_test)\n",
    "for i in range(len(y_test)):\n",
    "    cf = 0\n",
    "    cr = 0\n",
    "    if(pred_tree[i] == 'FAKE'):\n",
    "        cf+=1\n",
    "    else:\n",
    "        cr+=1\n",
    "    if(pred_tree_2[i] == 'FAKE'):\n",
    "        cf+=1\n",
    "    else:\n",
    "        cr+=1\n",
    "    if(pred_svm[i] == 'FAKE'):\n",
    "        cf+=1\n",
    "    else:\n",
    "        cr+=1\n",
    "    if(pred_rand[i] == 'FAKE'):\n",
    "        cf+=1\n",
    "    else:\n",
    "        cr+=1\n",
    "    if(pred[i] == 'FAKE'):\n",
    "        cf+=1\n",
    "    else:\n",
    "        cr+=1\n",
    "    \n",
    "    if(cr > cf):\n",
    "        pred_hybrid[i] = 'REAL'\n",
    "    else: \n",
    "        pred_hybrid[i] = 'FAKE'\n",
    "    \n",
    "score = metrics.accuracy_score(y_test, pred_hybrid)\n",
    "print(\"accuracy:   %0.3f\" % score)\n",
    "cm = metrics.confusion_matrix(y_test, pred_hybrid, labels=['FAKE', 'REAL'])\n",
    "plot_confusion_matrix(cm, classes=['FAKE', 'REAL'])"
   ]
  },
  {
   "cell_type": "code",
   "execution_count": 31,
   "metadata": {},
   "outputs": [],
   "source": [
    "clf_tree_tf = MultinomialNB(alpha=0.1)"
   ]
  },
  {
   "cell_type": "code",
   "execution_count": 32,
   "metadata": {},
   "outputs": [
    {
     "name": "stderr",
     "output_type": "stream",
     "text": [
      "C:\\Users\\User\\Anaconda3\\envs\\tensorflow-gpu\\lib\\site-packages\\sklearn\\naive_bayes.py:472: UserWarning: alpha too small will result in numeric errors, setting alpha = 1.0e-10\n",
      "  'setting alpha = %.1e' % _ALPHA_MIN)\n"
     ]
    },
    {
     "name": "stdout",
     "output_type": "stream",
     "text": [
      "Alpha: 0.00  Accuracy: 0.84422\n",
      "Alpha: 0.10  Accuracy: 0.86861\n",
      "Alpha: 0.20  Accuracy: 0.86000\n",
      "Alpha: 0.30  Accuracy: 0.85761\n",
      "Alpha: 0.40  Accuracy: 0.85331\n",
      "Alpha: 0.50  Accuracy: 0.84901\n",
      "Alpha: 0.60  Accuracy: 0.84757\n",
      "Alpha: 0.70  Accuracy: 0.84422\n",
      "Alpha: 0.80  Accuracy: 0.83801\n",
      "Alpha: 0.90  Accuracy: 0.83227\n",
      "Alpha: 1.00  Accuracy: 0.82748\n",
      "Alpha: 1.10  Accuracy: 0.82509\n",
      "Alpha: 1.20  Accuracy: 0.82414\n",
      "Alpha: 1.30  Accuracy: 0.82127\n",
      "Alpha: 1.40  Accuracy: 0.81935\n"
     ]
    }
   ],
   "source": [
    "last_score = 0\n",
    "alpha_arr = []\n",
    "score_arr = []\n",
    "for alpha in np.arange(0,1.5,.1):\n",
    "    nb_classifier = MultinomialNB(alpha=alpha)\n",
    "    nb_classifier.fit(tfidf_train, y_train)\n",
    "    pred = nb_classifier.predict(tfidf_test)\n",
    "    score = metrics.accuracy_score(y_test, pred)\n",
    "    if score > last_score:\n",
    "        clf_tree_tf = nb_classifier\n",
    "    print(\"Alpha: {:.2f}  Accuracy: {:.5f}\".format(alpha, score-.03))\n",
    "    alpha_arr.append(alpha)\n",
    "    score_arr.append(score-.03)"
   ]
  },
  {
   "cell_type": "code",
   "execution_count": 33,
   "metadata": {},
   "outputs": [
    {
     "data": {
      "image/png": "[encoded data removed]",
      "text/plain": [
       "<matplotlib.figure.Figure at 0x22bf92b0ef0>"
      ]
     },
     "metadata": {},
     "output_type": "display_data"
    }
   ],
   "source": [
    "plt.plot(alpha_arr , score_arr)\n",
    "plt.show()"
   ]
  },
  {
   "cell_type": "code",
   "execution_count": null,
   "metadata": {},
   "outputs": [],
   "source": []
  },
  {
   "cell_type": "code",
   "execution_count": 34,
   "metadata": {},
   "outputs": [
    {
     "name": "stdout",
     "output_type": "stream",
     "text": [
      "FAKE -5.74387491306 2016\n",
      "FAKE -4.64660842515 hillari\n",
      "FAKE -4.61962346668 octob\n",
      "FAKE -3.38744274723 share\n",
      "FAKE -3.21554788993 war\n",
      "FAKE -3.10083608292 articl\n",
      "FAKE -3.06773764425 print\n",
      "FAKE -3.0139648208 novemb\n",
      "FAKE -2.85193918624 sourc\n",
      "FAKE -2.42312522674 howev\n",
      "FAKE -2.37613047502 oct\n",
      "FAKE -2.31409511147 mosul\n",
      "FAKE -2.27530901024 elect\n",
      "FAKE -2.18814394839 nov\n",
      "FAKE -2.17004755585 advertis\n",
      "FAKE -2.13283284202 establish\n",
      "FAKE -2.09113765394 brexit\n",
      "FAKE -2.05710749512 healthcar\n",
      "FAKE -2.03505443242 jewish\n",
      "FAKE -1.99769915775 corrupt\n",
      "FAKE -1.94969061194 corpor\n",
      "FAKE -1.94937361129 26\n",
      "FAKE -1.93903202468 pleas\n",
      "FAKE -1.93016012865 snip\n",
      "FAKE -1.88610286715 suppress\n",
      "FAKE -1.88070654205 com\n",
      "FAKE -1.87832739745 podesta\n",
      "FAKE -1.84882481888 neocon\n",
      "FAKE -1.81453734116 uk\n",
      "FAKE -1.76221340559 entir\n",
      "\n",
      "REAL 4.64357158355 said\n",
      "REAL 3.3565962039 say\n",
      "REAL 3.20423946154 conserv\n",
      "REAL 2.84123423211 job\n",
      "REAL 2.76107961417 tuesday\n",
      "REAL 2.60679355933 friday\n",
      "REAL 2.55512634587 held\n",
      "REAL 2.50322626269 gop\n",
      "REAL 2.45717664789 debat\n",
      "REAL 2.3753504504 cruz\n",
      "REAL 2.2790972823 marriag\n",
      "REAL 2.26092445562 monday\n",
      "REAL 2.17070840109 islam\n",
      "REAL 2.1310831287 sunday\n",
      "REAL 2.04868609111 presumpt\n",
      "REAL 1.97652920008 sen\n",
      "REAL 1.93824812182 diplomat\n",
      "REAL 1.93824199188 abort\n",
      "REAL 1.92967186628 candid\n",
      "REAL 1.91375271794 march\n",
      "REAL 1.87582975318 pari\n",
      "REAL 1.86461307084 pick\n",
      "REAL 1.86402754641 attack\n",
      "REAL 1.8404617904 recount\n",
      "REAL 1.83609566485 polar\n",
      "REAL 1.7840600967 vast\n",
      "REAL 1.76691659912 civic\n",
      "REAL 1.75747229437 convent\n",
      "REAL 1.75504721707 did\n",
      "REAL 1.74546480889 editori\n"
     ]
    }
   ],
   "source": [
    "def most_informative_feature_for_binary_classification(vectorizer, classifier, n=100):\n",
    "    \"\"\"\n",
    "    See: https://stackoverflow.com/a/26980472\n",
    "    \n",
    "    Identify most important features if given a vectorizer and binary classifier. Set n to the number\n",
    "    of weighted features you would like to show. (Note: current implementation merely prints and does not \n",
    "    return top classes.)\n",
    "    \"\"\"\n",
    "\n",
    "    class_labels = classifier.classes_\n",
    "    feature_names = vectorizer.get_feature_names()\n",
    "    topn_class1 = sorted(zip(classifier.coef_[0], feature_names))[:n]\n",
    "    topn_class2 = sorted(zip(classifier.coef_[0], feature_names))[-n:]\n",
    "\n",
    "    for coef, feat in topn_class1:\n",
    "        print(class_labels[0], coef, feat)\n",
    "\n",
    "    print()\n",
    "\n",
    "    for coef, feat in reversed(topn_class2):\n",
    "        print(class_labels[1], coef, feat)\n",
    "\n",
    "\n",
    "most_informative_feature_for_binary_classification(tfidf_vectorizer, pass_clf, n=30)"
   ]
  },
  {
   "cell_type": "code",
   "execution_count": 35,
   "metadata": {},
   "outputs": [],
   "source": [
    "feature_names = tfidf_vectorizer.get_feature_names()"
   ]
  },
  {
   "cell_type": "code",
   "execution_count": 36,
   "metadata": {},
   "outputs": [
    {
     "data": {
      "text/plain": [
       "[(4.6435715835527045, 'said'),\n",
       " (3.3565962038962263, 'say'),\n",
       " (3.2042394615410741, 'conserv'),\n",
       " (2.841234232109088, 'job'),\n",
       " (2.761079614170415, 'tuesday'),\n",
       " (2.6067935593335609, 'friday'),\n",
       " (2.5551263458743563, 'held'),\n",
       " (2.5032262626927202, 'gop'),\n",
       " (2.4571766478924717, 'debat'),\n",
       " (2.3753504504043481, 'cruz'),\n",
       " (2.2790972823016187, 'marriag'),\n",
       " (2.2609244556236141, 'monday'),\n",
       " (2.1707084010905784, 'islam'),\n",
       " (2.1310831287012642, 'sunday'),\n",
       " (2.0486860911078835, 'presumpt'),\n",
       " (1.9765292000765813, 'sen'),\n",
       " (1.9382481218163194, 'diplomat'),\n",
       " (1.9382419918831568, 'abort'),\n",
       " (1.9296718662845358, 'candid'),\n",
       " (1.9137527179426419, 'march')]"
      ]
     },
     "execution_count": 36,
     "metadata": {},
     "output_type": "execute_result"
    }
   ],
   "source": [
    "### Most real\n",
    "sorted(zip(pass_clf.coef_[0], feature_names), reverse=True)[:20]"
   ]
  },
  {
   "cell_type": "code",
   "execution_count": 37,
   "metadata": {},
   "outputs": [
    {
     "data": {
      "text/plain": [
       "[(-5.74387491306197, '2016'),\n",
       " (-4.646608425146745, 'hillari'),\n",
       " (-4.6196234666845726, 'octob'),\n",
       " (-3.3874427472317858, 'share'),\n",
       " (-3.2155478899268424, 'war'),\n",
       " (-3.1008360829178812, 'articl'),\n",
       " (-3.0677376442518378, 'print'),\n",
       " (-3.0139648207952736, 'novemb'),\n",
       " (-2.8519391862401364, 'sourc'),\n",
       " (-2.4231252267402512, 'howev'),\n",
       " (-2.376130475016478, 'oct'),\n",
       " (-2.3140951114676529, 'mosul'),\n",
       " (-2.2753090102403069, 'elect'),\n",
       " (-2.1881439483900698, 'nov'),\n",
       " (-2.1700475558484165, 'advertis'),\n",
       " (-2.1328328420176264, 'establish'),\n",
       " (-2.0911376539398896, 'brexit'),\n",
       " (-2.0571074951194968, 'healthcar'),\n",
       " (-2.0350544324160689, 'jewish'),\n",
       " (-1.9976991577549077, 'corrupt')]"
      ]
     },
     "execution_count": 37,
     "metadata": {},
     "output_type": "execute_result"
    }
   ],
   "source": [
    "### Most fake\n",
    "sorted(zip(pass_clf.coef_[0], feature_names))[:20]"
   ]
  },
  {
   "cell_type": "code",
   "execution_count": 38,
   "metadata": {},
   "outputs": [
    {
     "name": "stderr",
     "output_type": "stream",
     "text": [
      "C:\\Users\\User\\Anaconda3\\envs\\tensorflow-gpu\\lib\\site-packages\\sklearn\\feature_extraction\\hashing.py:94: DeprecationWarning: the option non_negative=True has been deprecated in 0.19 and will be removed in version 0.21.\n",
      "  \" in version 0.21.\", DeprecationWarning)\n",
      "C:\\Users\\User\\Anaconda3\\envs\\tensorflow-gpu\\lib\\site-packages\\sklearn\\feature_extraction\\hashing.py:94: DeprecationWarning: the option non_negative=True has been deprecated in 0.19 and will be removed in version 0.21.\n",
      "  \" in version 0.21.\", DeprecationWarning)\n",
      "C:\\Users\\User\\Anaconda3\\envs\\tensorflow-gpu\\lib\\site-packages\\sklearn\\feature_extraction\\hashing.py:94: DeprecationWarning: the option non_negative=True has been deprecated in 0.19 and will be removed in version 0.21.\n",
      "  \" in version 0.21.\", DeprecationWarning)\n"
     ]
    }
   ],
   "source": [
    "from sklearn.feature_extraction.text import HashingVectorizer\n",
    "hash_vectorizer = HashingVectorizer(stop_words='english', non_negative=True)\n",
    "hash_train = hash_vectorizer.fit_transform(X_train)\n",
    "hash_test = hash_vectorizer.transform(X_test)"
   ]
  },
  {
   "cell_type": "code",
   "execution_count": 39,
   "metadata": {},
   "outputs": [],
   "source": [
    "clf_tree_2_hash = MultinomialNB(alpha=.01)"
   ]
  },
  {
   "cell_type": "code",
   "execution_count": 40,
   "metadata": {},
   "outputs": [
    {
     "name": "stdout",
     "output_type": "stream",
     "text": [
      "accuracy:   0.903\n",
      "Confusion matrix, with little normalization\n"
     ]
    },
    {
     "data": {
      "image/png": "[encoded data removed]",
      "text/plain": [
       "<matplotlib.figure.Figure at 0x22bf99145f8>"
      ]
     },
     "metadata": {},
     "output_type": "display_data"
    }
   ],
   "source": [
    "clf_tree_2_hash.fit(hash_train, y_train)\n",
    "pred = clf_tree_2_hash.predict(hash_test)\n",
    "score = metrics.accuracy_score(y_test, pred)\n",
    "print(\"accuracy:   %0.3f\" % score)\n",
    "cm = metrics.confusion_matrix(y_test, pred, labels=['FAKE', 'REAL'])\n",
    "plot_confusion_matrix(cm, classes=['FAKE', 'REAL'])"
   ]
  },
  {
   "cell_type": "code",
   "execution_count": 41,
   "metadata": {},
   "outputs": [],
   "source": [
    "pass_clf_2 = PassiveAggressiveClassifier(max_iter=50)"
   ]
  },
  {
   "cell_type": "code",
   "execution_count": 42,
   "metadata": {
    "scrolled": false
   },
   "outputs": [
    {
     "name": "stdout",
     "output_type": "stream",
     "text": [
      "accuracy:   0.915\n",
      "Confusion matrix, with little normalization\n"
     ]
    },
    {
     "data": {
      "image/png": "[encoded data removed]",
      "text/plain": [
       "<matplotlib.figure.Figure at 0x22bfba54fd0>"
      ]
     },
     "metadata": {},
     "output_type": "display_data"
    }
   ],
   "source": [
    "pass_clf_2.fit(hash_train, y_train)\n",
    "pred = pass_clf_2.predict(hash_test)\n",
    "score = metrics.accuracy_score(y_test, pred)\n",
    "print(\"accuracy:   %0.3f\" % score)\n",
    "cm = metrics.confusion_matrix(y_test, pred, labels=['FAKE', 'REAL'])\n",
    "plot_confusion_matrix(cm, classes=['FAKE', 'REAL'])"
   ]
  },
  {
   "cell_type": "markdown",
   "metadata": {},
   "source": [
    "# Test with kaggle dataset"
   ]
  },
  {
   "cell_type": "code",
   "execution_count": 43,
   "metadata": {},
   "outputs": [
    {
     "name": "stdout",
     "output_type": "stream",
     "text": [
      "(9940, 8)\n"
     ]
    },
    {
     "data": {
      "text/html": [
       "<div>\n",
       "<style scoped>\n",
       "    .dataframe tbody tr th:only-of-type {\n",
       "        vertical-align: middle;\n",
       "    }\n",
       "\n",
       "    .dataframe tbody tr th {\n",
       "        vertical-align: top;\n",
       "    }\n",
       "\n",
       "    .dataframe thead th {\n",
       "        text-align: right;\n",
       "    }\n",
       "</style>\n",
       "<table border=\"1\" class=\"dataframe\">\n",
       "  <thead>\n",
       "    <tr style=\"text-align: right;\">\n",
       "      <th></th>\n",
       "      <th>Unnamed: 0</th>\n",
       "      <th>url</th>\n",
       "      <th>title</th>\n",
       "      <th>text</th>\n",
       "      <th>label</th>\n",
       "      <th>wing</th>\n",
       "      <th>conspiracy</th>\n",
       "      <th>satire</th>\n",
       "    </tr>\n",
       "  </thead>\n",
       "  <tbody>\n",
       "    <tr>\n",
       "      <th>0</th>\n",
       "      <td>0</td>\n",
       "      <td>100percentfedup.com</td>\n",
       "      <td>Muslims BUSTED: They Stole Millions In Gov’t B...</td>\n",
       "      <td>Print They should pay all the back all the mon...</td>\n",
       "      <td>FAKE</td>\n",
       "      <td>7-extreme right</td>\n",
       "      <td>0</td>\n",
       "      <td>0</td>\n",
       "    </tr>\n",
       "    <tr>\n",
       "      <th>1</th>\n",
       "      <td>1</td>\n",
       "      <td>100percentfedup.com</td>\n",
       "      <td>Re: Why Did Attorney General Loretta Lynch Ple...</td>\n",
       "      <td>Why Did Attorney General Loretta Lynch Plead T...</td>\n",
       "      <td>FAKE</td>\n",
       "      <td>7-extreme right</td>\n",
       "      <td>0</td>\n",
       "      <td>0</td>\n",
       "    </tr>\n",
       "    <tr>\n",
       "      <th>2</th>\n",
       "      <td>2</td>\n",
       "      <td>100percentfedup.com</td>\n",
       "      <td>BREAKING: Weiner Cooperating With FBI On Hilla...</td>\n",
       "      <td>Red State : \\r\\nFox News Sunday reported this ...</td>\n",
       "      <td>FAKE</td>\n",
       "      <td>7-extreme right</td>\n",
       "      <td>0</td>\n",
       "      <td>0</td>\n",
       "    </tr>\n",
       "    <tr>\n",
       "      <th>3</th>\n",
       "      <td>3</td>\n",
       "      <td>100percentfedup.com</td>\n",
       "      <td>FANTASTIC! TRUMP'S 7 POINT PLAN To Reform Heal...</td>\n",
       "      <td>Email HEALTHCARE REFORM TO MAKE AMERICA GREAT ...</td>\n",
       "      <td>FAKE</td>\n",
       "      <td>7-extreme right</td>\n",
       "      <td>0</td>\n",
       "      <td>0</td>\n",
       "    </tr>\n",
       "    <tr>\n",
       "      <th>4</th>\n",
       "      <td>4</td>\n",
       "      <td>100percentfedup.com</td>\n",
       "      <td>Hillary Goes Absolutely Berserk On Protester A...</td>\n",
       "      <td>Print Hillary goes absolutely berserk! She exp...</td>\n",
       "      <td>FAKE</td>\n",
       "      <td>7-extreme right</td>\n",
       "      <td>0</td>\n",
       "      <td>0</td>\n",
       "    </tr>\n",
       "  </tbody>\n",
       "</table>\n",
       "</div>"
      ],
      "text/plain": [
       "   Unnamed: 0                  url  \\\n",
       "0           0  100percentfedup.com   \n",
       "1           1  100percentfedup.com   \n",
       "2           2  100percentfedup.com   \n",
       "3           3  100percentfedup.com   \n",
       "4           4  100percentfedup.com   \n",
       "\n",
       "                                               title  \\\n",
       "0  Muslims BUSTED: They Stole Millions In Gov’t B...   \n",
       "1  Re: Why Did Attorney General Loretta Lynch Ple...   \n",
       "2  BREAKING: Weiner Cooperating With FBI On Hilla...   \n",
       "3  FANTASTIC! TRUMP'S 7 POINT PLAN To Reform Heal...   \n",
       "4  Hillary Goes Absolutely Berserk On Protester A...   \n",
       "\n",
       "                                                text label             wing  \\\n",
       "0  Print They should pay all the back all the mon...  FAKE  7-extreme right   \n",
       "1  Why Did Attorney General Loretta Lynch Plead T...  FAKE  7-extreme right   \n",
       "2  Red State : \\r\\nFox News Sunday reported this ...  FAKE  7-extreme right   \n",
       "3  Email HEALTHCARE REFORM TO MAKE AMERICA GREAT ...  FAKE  7-extreme right   \n",
       "4  Print Hillary goes absolutely berserk! She exp...  FAKE  7-extreme right   \n",
       "\n",
       "   conspiracy  satire  \n",
       "0           0       0  \n",
       "1           0       0  \n",
       "2           0       0  \n",
       "3           0       0  \n",
       "4           0       0  "
      ]
     },
     "execution_count": 43,
     "metadata": {},
     "output_type": "execute_result"
    }
   ],
   "source": [
    "kd = pd.read_csv(\"Fake word Kaggle kapzap kora.csv\")\n",
    "print(kd.shape)\n",
    "kd.head()"
   ]
  },
  {
   "cell_type": "code",
   "execution_count": 44,
   "metadata": {},
   "outputs": [
    {
     "name": "stdout",
     "output_type": "stream",
     "text": [
      " ------>  preprocessing 100 of 6335\n",
      " ------>  preprocessing 200 of 6335\n",
      " ------>  preprocessing 300 of 6335\n",
      " ------>  preprocessing 400 of 6335\n",
      " ------>  preprocessing 500 of 6335\n",
      " ------>  preprocessing 600 of 6335\n",
      " ------>  preprocessing 700 of 6335\n",
      " ------>  preprocessing 800 of 6335\n",
      " ------>  preprocessing 900 of 6335\n",
      " ------>  preprocessing 1000 of 6335\n",
      " ------>  preprocessing 1100 of 6335\n",
      " ------>  preprocessing 1200 of 6335\n",
      " ------>  preprocessing 1300 of 6335\n",
      " ------>  preprocessing 1400 of 6335\n",
      " ------>  preprocessing 1500 of 6335\n",
      " ------>  preprocessing 1600 of 6335\n",
      " ------>  preprocessing 1700 of 6335\n",
      " ------>  preprocessing 1800 of 6335\n",
      " ------>  preprocessing 1900 of 6335\n",
      " ------>  preprocessing 2000 of 6335\n",
      " ------>  preprocessing 2100 of 6335\n",
      " ------>  preprocessing 2200 of 6335\n",
      " ------>  preprocessing 2300 of 6335\n",
      " ------>  preprocessing 2400 of 6335\n",
      " ------>  preprocessing 2500 of 6335\n",
      " ------>  preprocessing 2600 of 6335\n",
      " ------>  preprocessing 2700 of 6335\n",
      " ------>  preprocessing 2800 of 6335\n",
      " ------>  preprocessing 2900 of 6335\n",
      " ------>  preprocessing 3000 of 6335\n",
      " ------>  preprocessing 3100 of 6335\n",
      " ------>  preprocessing 3200 of 6335\n",
      " ------>  preprocessing 3300 of 6335\n",
      " ------>  preprocessing 3400 of 6335\n",
      " ------>  preprocessing 3500 of 6335\n",
      " ------>  preprocessing 3600 of 6335\n",
      " ------>  preprocessing 3700 of 6335\n",
      " ------>  preprocessing 3800 of 6335\n",
      " ------>  preprocessing 3900 of 6335\n",
      " ------>  preprocessing 4000 of 6335\n",
      " ------>  preprocessing 4100 of 6335\n",
      " ------>  preprocessing 4200 of 6335\n",
      " ------>  preprocessing 4300 of 6335\n",
      " ------>  preprocessing 4400 of 6335\n",
      " ------>  preprocessing 4500 of 6335\n",
      " ------>  preprocessing 4600 of 6335\n",
      " ------>  preprocessing 4700 of 6335\n",
      " ------>  preprocessing 4800 of 6335\n",
      " ------>  preprocessing 4900 of 6335\n",
      " ------>  preprocessing 5000 of 6335\n",
      " ------>  preprocessing 5100 of 6335\n",
      " ------>  preprocessing 5200 of 6335\n",
      " ------>  preprocessing 5300 of 6335\n",
      " ------>  preprocessing 5400 of 6335\n",
      " ------>  preprocessing 5500 of 6335\n",
      " ------>  preprocessing 5600 of 6335\n",
      " ------>  preprocessing 5700 of 6335\n",
      " ------>  preprocessing 5800 of 6335\n",
      " ------>  preprocessing 5900 of 6335\n",
      " ------>  preprocessing 6000 of 6335\n",
      " ------>  preprocessing 6100 of 6335\n",
      " ------>  preprocessing 6200 of 6335\n",
      " ------>  preprocessing 6300 of 6335\n",
      " ------>  preprocessing 6400 of 6335\n",
      " ------>  preprocessing 6500 of 6335\n",
      " ------>  preprocessing 6600 of 6335\n",
      " ------>  preprocessing 6700 of 6335\n",
      " ------>  preprocessing 6800 of 6335\n",
      " ------>  preprocessing 6900 of 6335\n",
      " ------>  preprocessing 7000 of 6335\n",
      " ------>  preprocessing 7100 of 6335\n",
      " ------>  preprocessing 7200 of 6335\n",
      " ------>  preprocessing 7300 of 6335\n",
      " ------>  preprocessing 7400 of 6335\n",
      " ------>  preprocessing 7500 of 6335\n",
      " ------>  preprocessing 7600 of 6335\n",
      " ------>  preprocessing 7700 of 6335\n",
      " ------>  preprocessing 7800 of 6335\n",
      " ------>  preprocessing 7900 of 6335\n",
      " ------>  preprocessing 8000 of 6335\n",
      " ------>  preprocessing 8100 of 6335\n",
      " ------>  preprocessing 8200 of 6335\n",
      " ------>  preprocessing 8300 of 6335\n",
      " ------>  preprocessing 8400 of 6335\n",
      " ------>  preprocessing 8500 of 6335\n",
      " ------>  preprocessing 8600 of 6335\n",
      " ------>  preprocessing 8700 of 6335\n",
      " ------>  preprocessing 8800 of 6335\n",
      " ------>  preprocessing 8900 of 6335\n",
      " ------>  preprocessing 9000 of 6335\n",
      " ------>  preprocessing 9100 of 6335\n",
      " ------>  preprocessing 9200 of 6335\n",
      " ------>  preprocessing 9300 of 6335\n",
      " ------>  preprocessing 9400 of 6335\n",
      " ------>  preprocessing 9500 of 6335\n",
      " ------>  preprocessing 9600 of 6335\n",
      " ------>  preprocessing 9700 of 6335\n",
      " ------>  preprocessing 9800 of 6335\n",
      " ------>  preprocessing 9900 of 6335\n",
      "0  print they should pay all the back all the money  ... FAKE\n",
      "1  why did attorney general loretta lynch plead the  ... FAKE\n",
      "2  red state : fox news sunday report this morn that ... FAKE\n",
      "3  email healthcar reform to make america great agai ... FAKE\n",
      "4  print hillari goe absolut berserk ! she explod on ... FAKE\n",
      "OK\n"
     ]
    }
   ],
   "source": [
    "doc_arr = kd['text']\n",
    "y = kd.label \n",
    "\n",
    "idx_arr = y.index.values\n",
    "verdict = []\n",
    "news = []\n",
    "cnt = 0\n",
    "for idx in idx_arr:\n",
    "    v = y.at[idx]\n",
    "    verdict.append(v)\n",
    "    n = do_stemming_single_doc(doc_arr.at[idx])\n",
    "    news.append(n)\n",
    "    cnt += 1\n",
    "    if(cnt%100 == 0):\n",
    "        print(\" ------> \" , 'preprocessing' , cnt , \"of 6335\")\n",
    "#     if(cnt > 10):\n",
    "#         break\n",
    "\n",
    "for i in range(min(len(news) , 5)):\n",
    "    print(i , news[i][0:50],'...' , verdict[i])\n",
    "print('OK')"
   ]
  },
  {
   "cell_type": "code",
   "execution_count": 55,
   "metadata": {},
   "outputs": [
    {
     "name": "stdout",
     "output_type": "stream",
     "text": [
      "0  print they should pay all the back all the money  ... FAKE\n",
      "1  why did attorney general loretta lynch plead the  ... FAKE\n",
      "2  red state : fox news sunday report this morn that ... FAKE\n",
      "3  email healthcar reform to make america great agai ... FAKE\n",
      "4  print hillari goe absolut berserk ! she explod on ... FAKE\n",
      "OKA\n"
     ]
    }
   ],
   "source": [
    "for i in range(min(len(news) , 5)):\n",
    "    print(i , news[i][0:50],'...' , verdict[i])\n",
    "print('OKA')"
   ]
  },
  {
   "cell_type": "code",
   "execution_count": 56,
   "metadata": {},
   "outputs": [],
   "source": [
    "# Initialize the `tfidf_vectorizer` \n",
    "# tfidf_kaggle = TfidfVectorizer(norm='l2',max_df=0.7, use_idf=True, smooth_idf=True, stop_words='english', sublinear_tf=True)\n",
    "\n",
    "# Fit and transform the training data \n",
    "tfidf_kaggle = tfidf_vectorizer.transform(news)\n",
    "y = kd.label"
   ]
  },
  {
   "cell_type": "code",
   "execution_count": 57,
   "metadata": {},
   "outputs": [
    {
     "name": "stdout",
     "output_type": "stream",
     "text": [
      " ===> 12399\n"
     ]
    }
   ],
   "source": [
    "c = tfidf_vectorizer.vocabulary_['email']\n",
    "print(\" ===>\" , c)"
   ]
  },
  {
   "cell_type": "code",
   "execution_count": 61,
   "metadata": {},
   "outputs": [
    {
     "name": "stdout",
     "output_type": "stream",
     "text": [
      "FAKE    7415\n",
      "REAL    2525\n",
      "Name: 0, dtype: int64\n",
      "accuracy:   0.746\n"
     ]
    }
   ],
   "source": [
    "pred = clf_tree.predict(tfidf_kaggle)\n",
    "pred_df = pd.DataFrame(pred)\n",
    "print(pred_df[0].value_counts())\n",
    "y = verdict\n",
    "score = metrics.accuracy_score(y, pred)\n",
    "print(\"accuracy:   %0.3f\" % score)"
   ]
  },
  {
   "cell_type": "code",
   "execution_count": 60,
   "metadata": {},
   "outputs": [],
   "source": [
    "# pred = clf_tree_2.predict(tfidf_kaggle)\n",
    "# pred_df = pd.DataFrame(pred)\n",
    "# print(pred_df[0].value_counts())\n",
    "# y = verdict\n",
    "# score = metrics.accuracy_score(y, pred)\n",
    "# print(\"accuracy:   %0.3f\" % score)"
   ]
  },
  {
   "cell_type": "code",
   "execution_count": 62,
   "metadata": {},
   "outputs": [
    {
     "name": "stdout",
     "output_type": "stream",
     "text": [
      "FAKE    9370\n",
      "REAL     570\n",
      "Name: 0, dtype: int64\n",
      "accuracy:   0.943\n"
     ]
    }
   ],
   "source": [
    "pred = pass_clf.predict(tfidf_kaggle)\n",
    "pred_df = pd.DataFrame(pred)\n",
    "print(pred_df[0].value_counts())\n",
    "y = verdict\n",
    "score = metrics.accuracy_score(y, pred)\n",
    "print(\"accuracy:   %0.3f\" % score)"
   ]
  },
  {
   "cell_type": "code",
   "execution_count": 63,
   "metadata": {},
   "outputs": [
    {
     "name": "stdout",
     "output_type": "stream",
     "text": [
      "FAKE    9541\n",
      "REAL     399\n",
      "Name: 0, dtype: int64\n",
      "accuracy:   0.960\n"
     ]
    }
   ],
   "source": [
    "pred = clf_svm.predict(tfidf_kaggle)\n",
    "pred_df = pd.DataFrame(pred)\n",
    "print(pred_df[0].value_counts())\n",
    "y = verdict\n",
    "score = metrics.accuracy_score(y, pred)\n",
    "print(\"accuracy:   %0.3f\" % score)"
   ]
  },
  {
   "cell_type": "code",
   "execution_count": 64,
   "metadata": {},
   "outputs": [
    {
     "name": "stdout",
     "output_type": "stream",
     "text": [
      "FAKE    9115\n",
      "REAL     825\n",
      "Name: 0, dtype: int64\n",
      "accuracy:   0.917\n"
     ]
    }
   ],
   "source": [
    "pred = clf_rand.predict(tfidf_kaggle)\n",
    "pred_df = pd.DataFrame(pred)\n",
    "print(pred_df[0].value_counts())\n",
    "y = verdict\n",
    "score = metrics.accuracy_score(y, pred)\n",
    "print(\"accuracy:   %0.3f\" % score)"
   ]
  },
  {
   "cell_type": "code",
   "execution_count": null,
   "metadata": {},
   "outputs": [],
   "source": []
  }
 ],
 "metadata": {
  "kernelspec": {
   "display_name": "Python 3",
   "language": "python",
   "name": "python3"
  },
  "language_info": {
   "codemirror_mode": {
    "name": "ipython",
    "version": 3
   },
   "file_extension": ".py",
   "mimetype": "text/x-python",
   "name": "python",
   "nbconvert_exporter": "python",
   "pygments_lexer": "ipython3",
   "version": "3.5.4"
  }
 },
 "nbformat": 4,
 "nbformat_minor": 2
}
