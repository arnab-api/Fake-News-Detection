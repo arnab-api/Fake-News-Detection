{
 "cells": [
  {
   "cell_type": "code",
   "execution_count": 32,
   "metadata": {},
   "outputs": [],
   "source": [
    "import json\n",
    "from sklearn.model_selection import train_test_split\n",
    "import random\n",
    "import numpy as np\n",
    "import matplotlib.pyplot as plt"
   ]
  },
  {
   "cell_type": "code",
   "execution_count": 2,
   "metadata": {},
   "outputs": [],
   "source": [
    "def read_fake_likers():\n",
    "    file_arr = ['2011' , '2012' , '2013' , 'recent']\n",
    "    fake_likers = {}\n",
    "    fake_news_id = []\n",
    "    for file_name in file_arr:\n",
    "        file = 'fake_likers_'+file_name+'.json'\n",
    "        print(\"reading\" , file , end = '  ')\n",
    "        with open(file) as f:\n",
    "            dct = json.load(f)\n",
    "            likers_arr = dct.keys()\n",
    "            print(\"... processing {} likers\".format(len(likers_arr)))\n",
    "            for liker in likers_arr:\n",
    "                if(liker not in fake_likers):\n",
    "                    fake_likers[liker] = []\n",
    "                for news_id in dct[liker]:\n",
    "                    if(news_id not in fake_news_id):\n",
    "                        fake_news_id.append(news_id)\n",
    "                    if(news_id not in fake_likers[liker]):\n",
    "                        fake_likers[liker].append(news_id)\n",
    "    return fake_likers , fake_news_id"
   ]
  },
  {
   "cell_type": "code",
   "execution_count": 3,
   "metadata": {},
   "outputs": [
    {
     "name": "stdout",
     "output_type": "stream",
     "text": [
      "reading fake_likers_2011.json  ... processing 92 likers\n",
      "reading fake_likers_2012.json  ... processing 409 likers\n",
      "reading fake_likers_2013.json  ... processing 3021 likers\n",
      "reading fake_likers_recent.json  ... processing 11239 likers\n"
     ]
    }
   ],
   "source": [
    "fake_likers , fake_news_id = read_fake_likers()"
   ]
  },
  {
   "cell_type": "code",
   "execution_count": 4,
   "metadata": {},
   "outputs": [
    {
     "data": {
      "text/plain": [
       "505"
      ]
     },
     "execution_count": 4,
     "metadata": {},
     "output_type": "execute_result"
    }
   ],
   "source": [
    "len(fake_news_id)"
   ]
  },
  {
   "cell_type": "code",
   "execution_count": 5,
   "metadata": {},
   "outputs": [
    {
     "data": {
      "text/plain": [
       "13228"
      ]
     },
     "execution_count": 5,
     "metadata": {},
     "output_type": "execute_result"
    }
   ],
   "source": [
    "len(fake_likers.keys())"
   ]
  },
  {
   "cell_type": "code",
   "execution_count": 6,
   "metadata": {},
   "outputs": [
    {
     "name": "stdout",
     "output_type": "stream",
     "text": [
      "/banibd/  ::  ['248232931896549']\n",
      "/limon.nrl  ::  ['248232931896549', '168810356548713', '323757890974857', '203104779768018', '239282582800885', '131844296924287', '190358727716497', '290763537631226', '280218125354106', '125852727525610', '293128777376936', '191923030889951', '564805253563268', '862126497164474', '769616339748824', '766891816687943', '765891076788017', '764110966966028', '715118545198604', '657291090981350', '654365801273879', '653413211369138', '648020791908380', '644402482270211', '642578065785986', '638992279477898', '638959529481173', '638538316189961']\n",
      "/kamrann.mahmud  ::  ['248232931896549', '168810356548713', '239282582800885', '117118165068750', '125852727525610', '597353160308477', '594112677299192', '593704530673340', '589585944418532', '877184575658666', '825571880819936', '792371820806609', '777921558918302', '776621802381611', '773431436033981', '770521756324949', '769616339748824', '746724362038022', '738198416223950', '740705722630053', '735849463115679', '734146156619343', '734055983295027', '732704306763528', '657984107578715', '657453950965064', '656540881056371', '654444597932666', '653413211369138', '649050865138706', '648020791908380']\n",
      "/unrivalled.matriix  ::  ['248232931896549', '168810356548713', '323757890974857', '203104779768018', '239282582800885', '198909736854362', '131844296924287', '190358727716497', '653370238040102', '653031741407285', '643467989030327', '641837812526678', '637649479612178', '632536190123507', '632013273509132', '631506010226525', '628051947238598', '624534117590381', '624224110954715', '621518584558601', '621038734606586', '620160774694382', '616074018436391', '613489332028193', '611896175520842', '611713495539110', '608911915819268', '606736876036772', '600243346686125', '595838997126560', '579359775441149', '578729288837531', '578443028866157', '577170552326738', '573385529371907', '862126497164474', '849301758446948', '825571880819936', '792371820806609', '777921558918302', '776621802381611', '773431436033981', '769616339748824', '769137563130035', '765891076788017', '764110966966028', '757404430970015', '746724362038022', '741175059259619', '738198416223950', '735225519854573', '733655516678240', '717936001583525', '701536796556779', '701133619930430', '741748102525815', '740705722630053', '739279222772703', '739279226106036', '739106262789999', '738444312856194', '738218452878780', '734844886549470', '734146156619343', '734055983295027', '733669356667023', '733541423346483', '732704306763528', '728052543895371', '727569523943673', '726779857355973', '718098701557422', '714514695249156', '713949711972321', '713387472028545', '712260342141258', '711699058864053', '708119039222055', '707591129274846', '705324489501510', '701170643250228', '700782959955663', '657984107578715', '657859900924469', '657453950965064', '656981337678992', '656540881056371', '656442501066209', '655440771166382', '654444597932666', '654365801273879', '653901584653634', '653865031323956', '653426258034500', '653413211369138', '653346611375798', '649050865138706', '648020791908380', '647213911989068', '647087505335042', '647076392002820', '646911948685931', '646848662025593', '646611928715933', '646298082080651', '645953015448491', '645940162116443', '645863435457449', '645354885508304', '645165365527256', '644504522260007', '644413525602440', '644402482270211', '644395128937613', '644254192285040', '644153365628456', '643609082349551', '643534145690378', '643470442363415', '643445125699280', '642578065785986', '642203332490126', '642169002493559', '640152239361902', '639988392711620', '639839346059858', '639839332726526', '639461406097652', '638992279477898', '638959529481173', '638892116154581', '638637276180065', '638538316189961', '638240499553076', '636662416377551', '636662403044219', '636163393094120', '634134253297034', '634134249963701', '634105043299955', '633646770012449', '632613490115777', '632520033458456', '632310436812749', '630707346973058', '630542973656162', '629714563739003', '629523637091429', '629315837112209', '629309027112890', '628894263821033', '628438313866628', '628363473874112', '627870873923372', '627395143970945', '626979064012553', '626968030680323', '626627787381014', '625882887455504', '625552054155254', '625506057493187', '625252954185164']\n",
      "/profile.php?id=100002971554780  ::  ['248232931896549', '168810356548713']\n"
     ]
    }
   ],
   "source": [
    "likers = list(fake_likers.keys())\n",
    "for i in range(5):\n",
    "    print(likers[i] , \" :: \" , fake_likers[likers[i]])"
   ]
  },
  {
   "cell_type": "code",
   "execution_count": 7,
   "metadata": {},
   "outputs": [],
   "source": [
    "def read_real_likers():\n",
    "    file_arr = ['recent']\n",
    "    real_likers = {}\n",
    "    real_news_id = []\n",
    "    for file_name in file_arr:\n",
    "        file = 'real_likers_'+file_name+'.json'\n",
    "        print(\"reading\" , file , end = '  ')\n",
    "        with open(file) as f:\n",
    "            dct = json.load(f)\n",
    "            likers_arr = dct.keys()\n",
    "            print(\"... processing {} likers\".format(len(likers_arr)))\n",
    "            for liker in likers_arr:\n",
    "                if(liker not in real_likers):\n",
    "                    real_likers[liker] = []\n",
    "                for news_id in dct[liker]:\n",
    "                    if(news_id not in real_news_id):\n",
    "                        real_news_id.append(news_id)\n",
    "                    if(news_id not in real_likers[liker]):\n",
    "                        real_likers[liker].append(news_id)\n",
    "    return real_likers , real_news_id"
   ]
  },
  {
   "cell_type": "code",
   "execution_count": 8,
   "metadata": {},
   "outputs": [
    {
     "name": "stdout",
     "output_type": "stream",
     "text": [
      "reading real_likers_recent.json  ... processing 13416 likers\n"
     ]
    }
   ],
   "source": [
    "real_likers , real_news_id = read_real_likers()"
   ]
  },
  {
   "cell_type": "code",
   "execution_count": 9,
   "metadata": {},
   "outputs": [
    {
     "name": "stdout",
     "output_type": "stream",
     "text": [
      "<class 'dict'> <class 'list'>\n"
     ]
    }
   ],
   "source": [
    "print(type(real_likers) , type(real_news_id))"
   ]
  },
  {
   "cell_type": "code",
   "execution_count": 10,
   "metadata": {},
   "outputs": [
    {
     "data": {
      "text/plain": [
       "405"
      ]
     },
     "execution_count": 10,
     "metadata": {},
     "output_type": "execute_result"
    }
   ],
   "source": [
    "len(real_news_id)"
   ]
  },
  {
   "cell_type": "code",
   "execution_count": 11,
   "metadata": {},
   "outputs": [
    {
     "data": {
      "text/plain": [
       "13416"
      ]
     },
     "execution_count": 11,
     "metadata": {},
     "output_type": "execute_result"
    }
   ],
   "source": [
    "len(real_likers.keys())"
   ]
  },
  {
   "cell_type": "code",
   "execution_count": 21,
   "metadata": {},
   "outputs": [],
   "source": [
    "likers = list(fake_likers.keys()) + list(real_likers.keys())\n",
    "likers = list(set(likers))\n",
    "likers2news = {}\n",
    "for usr in fake_likers.keys():\n",
    "    if(usr not in likers2news):\n",
    "        likers2news[usr] = fake_likers[usr]\n",
    "    else:\n",
    "        likers2news[usr] += fake_likers[usr]\n",
    "        \n",
    "for usr in real_likers.keys():\n",
    "    if(usr not in likers2news):\n",
    "        likers2news[usr] = real_likers[usr]\n",
    "    else:\n",
    "        likers2news[usr] += real_likers[usr]\n",
    "        \n",
    "random.shuffle(likers)"
   ]
  },
  {
   "cell_type": "code",
   "execution_count": 22,
   "metadata": {},
   "outputs": [
    {
     "data": {
      "text/plain": [
       "26644"
      ]
     },
     "execution_count": 22,
     "metadata": {},
     "output_type": "execute_result"
    }
   ],
   "source": [
    "len(likers)"
   ]
  },
  {
   "cell_type": "code",
   "execution_count": 23,
   "metadata": {},
   "outputs": [],
   "source": [
    "X = []\n",
    "y = []\n",
    "for news_id in real_news_id:\n",
    "    X.append(news_id)\n",
    "    y.append('REAL')\n",
    "for news_id in fake_news_id:\n",
    "    X.append(news_id)\n",
    "    y.append('FAKE')\n",
    "    \n",
    "X_train, X_test, y_train, y_test = train_test_split(X, y, test_size=0.33, random_state=53)"
   ]
  },
  {
   "cell_type": "code",
   "execution_count": 29,
   "metadata": {},
   "outputs": [
    {
     "name": "stdout",
     "output_type": "stream",
     "text": [
      "processed 0 news_id\n",
      "processed 100 news_id\n",
      "processed 200 news_id\n",
      "processed 300 news_id\n",
      "processed 400 news_id\n",
      "processed 500 news_id\n",
      "processed 600 news_id\n",
      "vector_train is ready (609, 26644)\n"
     ]
    }
   ],
   "source": [
    "vector_train = np.zeros((len(X_train) , len(likers)))\n",
    "for i in range(len(X_train)):\n",
    "    if(i%100 == 0):\n",
    "        print(\"processed {} news_id\".format(i))\n",
    "    news_id = X_train[i]\n",
    "    for j in range(len(likers)):\n",
    "        liker = likers[j]\n",
    "        if(news_id in likers2news[liker]):\n",
    "            vector_train[i][j] = 1\n",
    "        else:\n",
    "            vector_train[i][j] = 0\n",
    "print(\"vector_train is ready\" , vector_train.shape)"
   ]
  },
  {
   "cell_type": "code",
   "execution_count": 30,
   "metadata": {},
   "outputs": [
    {
     "name": "stdout",
     "output_type": "stream",
     "text": [
      "processed 0 news_id\n",
      "processed 100 news_id\n",
      "processed 200 news_id\n",
      "processed 300 news_id\n",
      "vector_test is ready (301, 26644)\n"
     ]
    }
   ],
   "source": [
    "vector_test = np.zeros((len(X_test) , len(likers)))\n",
    "for i in range(len(X_test)):\n",
    "    if(i%100 == 0):\n",
    "        print(\"processed {} news_id\".format(i))\n",
    "    news_id = X_test[i]\n",
    "    for j in range(len(likers)):\n",
    "        liker = likers[j]\n",
    "        if(news_id in likers2news[liker]):\n",
    "            vector_test[i][j] = 1\n",
    "        else:\n",
    "            vector_test[i][j] = 0\n",
    "print(\"vector_test is ready\" , vector_test.shape)"
   ]
  },
  {
   "cell_type": "code",
   "execution_count": 33,
   "metadata": {},
   "outputs": [],
   "source": [
    "def plot_confusion_matrix(cm, classes,\n",
    "                          normalize=False,\n",
    "                          title='Confusion matrix',\n",
    "                          cmap=plt.cm.Blues):\n",
    "    plt.imshow(cm, interpolation='nearest', cmap=cmap)\n",
    "    plt.title(title)\n",
    "    plt.colorbar()\n",
    "    tick_marks = np.arange(len(classes))\n",
    "    plt.xticks(tick_marks, classes, rotation=45)\n",
    "    plt.yticks(tick_marks, classes)\n",
    "\n",
    "    if normalize:\n",
    "        cm = cm.astype('float') / cm.sum(axis=1)[:, np.newaxis]\n",
    "        print(\"Normalized confusion matrix\")\n",
    "    else:\n",
    "        print('Confusion matrix, with little normalization')\n",
    "\n",
    "    thresh = cm.max() / 2.\n",
    "    for i, j in itertools.product(range(cm.shape[0]), range(cm.shape[1])):\n",
    "        plt.text(j, i, cm[i, j],\n",
    "                 horizontalalignment=\"center\",\n",
    "                 color=\"white\" if cm[i, j] > thresh else \"black\")\n",
    "\n",
    "    plt.tight_layout()\n",
    "    plt.ylabel('True label')\n",
    "    plt.xlabel('Predicted label')\n",
    "    plt.show()"
   ]
  },
  {
   "cell_type": "code",
   "execution_count": null,
   "metadata": {},
   "outputs": [],
   "source": [
    "from sklearn.linear_model import PassiveAggressiveClassifier\n",
    "pass_clf = PassiveAggressiveClassifier(max_iter=50 , random_state = 17)\n",
    "\n",
    "pass_clf.fit(vector_train, y_train)\n",
    "pred = pass_clf.predict(vector_test)\n",
    "score = metrics.accuracy_score(y_test, pred)\n",
    "print(\"accuracy:   %0.3f\" % score)\n",
    "cm = metrics.confusion_matrix(y_test, pred, labels=['FAKE', 'REAL'])\n",
    "plot_confusion_matrix(cm, classes=['FAKE', 'REAL'])"
   ]
  }
 ],
 "metadata": {
  "kernelspec": {
   "display_name": "Python 3",
   "language": "python",
   "name": "python3"
  },
  "language_info": {
   "codemirror_mode": {
    "name": "ipython",
    "version": 3
   },
   "file_extension": ".py",
   "mimetype": "text/x-python",
   "name": "python",
   "nbconvert_exporter": "python",
   "pygments_lexer": "ipython3",
   "version": "3.6.4"
  }
 },
 "nbformat": 4,
 "nbformat_minor": 2
}
