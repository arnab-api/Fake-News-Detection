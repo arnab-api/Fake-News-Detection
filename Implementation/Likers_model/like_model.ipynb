{
 "cells": [
  {
   "cell_type": "code",
   "execution_count": 1,
   "metadata": {},
   "outputs": [],
   "source": [
    "import json\n",
    "from sklearn.model_selection import train_test_split\n",
    "import random\n",
    "import numpy as np\n",
    "import matplotlib.pyplot as plt\n",
    "from sklearn import metrics\n",
    "import itertools"
   ]
  },
  {
   "cell_type": "code",
   "execution_count": 2,
   "metadata": {},
   "outputs": [],
   "source": [
    "def read_fake_likers():\n",
    "    file_arr = ['2011' , '2012' , '2013' , 'recent']\n",
    "    fake_likers = {}\n",
    "    fake_news_id = []\n",
    "    for file_name in file_arr:\n",
    "        file = 'fake_likers_'+file_name+'.json'\n",
    "        print(\"reading\" , file , end = '  ')\n",
    "        with open(file) as f:\n",
    "            dct = json.load(f)\n",
    "            likers_arr = dct.keys()\n",
    "            print(\"... processing {} likers\".format(len(likers_arr)))\n",
    "            for liker in likers_arr:\n",
    "                if(liker not in fake_likers):\n",
    "                    fake_likers[liker] = []\n",
    "                for news_id in dct[liker]:\n",
    "                    if(news_id not in fake_news_id):\n",
    "                        fake_news_id.append(news_id)\n",
    "                    if(news_id not in fake_likers[liker]):\n",
    "                        fake_likers[liker].append(news_id)\n",
    "    return fake_likers , fake_news_id"
   ]
  },
  {
   "cell_type": "code",
   "execution_count": 3,
   "metadata": {},
   "outputs": [
    {
     "name": "stdout",
     "output_type": "stream",
     "text": [
      "reading fake_likers_2011.json  ... processing 92 likers\n",
      "reading fake_likers_2012.json  ... processing 409 likers\n",
      "reading fake_likers_2013.json  ... processing 3021 likers\n",
      "reading fake_likers_recent.json  ... processing 11239 likers\n"
     ]
    }
   ],
   "source": [
    "fake_likers , fake_news_id = read_fake_likers()"
   ]
  },
  {
   "cell_type": "code",
   "execution_count": 4,
   "metadata": {},
   "outputs": [
    {
     "data": {
      "text/plain": [
       "505"
      ]
     },
     "execution_count": 4,
     "metadata": {},
     "output_type": "execute_result"
    }
   ],
   "source": [
    "len(fake_news_id)"
   ]
  },
  {
   "cell_type": "code",
   "execution_count": 5,
   "metadata": {},
   "outputs": [
    {
     "data": {
      "text/plain": [
       "13228"
      ]
     },
     "execution_count": 5,
     "metadata": {},
     "output_type": "execute_result"
    }
   ],
   "source": [
    "len(fake_likers.keys())"
   ]
  },
  {
   "cell_type": "code",
   "execution_count": 6,
   "metadata": {},
   "outputs": [
    {
     "name": "stdout",
     "output_type": "stream",
     "text": [
      "/md.mahmud.pavel  ::  ['421015061269280']\n",
      "/chandrashekhar.bhattacharyya.7  ::  ['641164909260635', '633646770012449']\n",
      "/wahid.istiaq  ::  ['862126497164474', '763014783742313', '760201394023652', '725195910857534']\n",
      "/profile.php?id=100007950486616  ::  ['863174493726341']\n",
      "/sagor.hosemn  ::  ['717936001583525', '738218452878780']\n"
     ]
    }
   ],
   "source": [
    "likers = list(fake_likers.keys())\n",
    "for i in range(5):\n",
    "    print(likers[i] , \" :: \" , fake_likers[likers[i]])"
   ]
  },
  {
   "cell_type": "code",
   "execution_count": 7,
   "metadata": {},
   "outputs": [],
   "source": [
    "def read_real_likers():\n",
    "    file_arr = ['recent']\n",
    "    real_likers = {}\n",
    "    real_news_id = []\n",
    "    for file_name in file_arr:\n",
    "        file = 'real_likers_'+file_name+'.json'\n",
    "        print(\"reading\" , file , end = '  ')\n",
    "        with open(file) as f:\n",
    "            dct = json.load(f)\n",
    "            likers_arr = dct.keys()\n",
    "            print(\"... processing {} likers\".format(len(likers_arr)))\n",
    "            for liker in likers_arr:\n",
    "                if(liker not in real_likers):\n",
    "                    real_likers[liker] = []\n",
    "                for news_id in dct[liker]:\n",
    "                    if(news_id not in real_news_id):\n",
    "                        real_news_id.append(news_id)\n",
    "                    if(news_id not in real_likers[liker]):\n",
    "                        real_likers[liker].append(news_id)\n",
    "    return real_likers , real_news_id"
   ]
  },
  {
   "cell_type": "code",
   "execution_count": 8,
   "metadata": {},
   "outputs": [
    {
     "name": "stdout",
     "output_type": "stream",
     "text": [
      "reading real_likers_recent.json  ... processing 13416 likers\n"
     ]
    }
   ],
   "source": [
    "real_likers , real_news_id = read_real_likers()"
   ]
  },
  {
   "cell_type": "code",
   "execution_count": 9,
   "metadata": {},
   "outputs": [
    {
     "name": "stdout",
     "output_type": "stream",
     "text": [
      "<class 'dict'> <class 'list'>\n"
     ]
    }
   ],
   "source": [
    "print(type(real_likers) , type(real_news_id))"
   ]
  },
  {
   "cell_type": "code",
   "execution_count": 10,
   "metadata": {},
   "outputs": [
    {
     "data": {
      "text/plain": [
       "405"
      ]
     },
     "execution_count": 10,
     "metadata": {},
     "output_type": "execute_result"
    }
   ],
   "source": [
    "len(real_news_id)"
   ]
  },
  {
   "cell_type": "code",
   "execution_count": 11,
   "metadata": {},
   "outputs": [
    {
     "data": {
      "text/plain": [
       "13416"
      ]
     },
     "execution_count": 11,
     "metadata": {},
     "output_type": "execute_result"
    }
   ],
   "source": [
    "len(real_likers.keys())"
   ]
  },
  {
   "cell_type": "code",
   "execution_count": 12,
   "metadata": {},
   "outputs": [],
   "source": [
    "likers = list(fake_likers.keys()) + list(real_likers.keys())\n",
    "likers = list(set(likers))\n",
    "likers2news = {}\n",
    "for usr in fake_likers.keys():\n",
    "    if(usr not in likers2news):\n",
    "        likers2news[usr] = fake_likers[usr]\n",
    "    else:\n",
    "        likers2news[usr] += fake_likers[usr]\n",
    "        \n",
    "for usr in real_likers.keys():\n",
    "    if(usr not in likers2news):\n",
    "        likers2news[usr] = real_likers[usr]\n",
    "    else:\n",
    "        likers2news[usr] += real_likers[usr]\n",
    "        \n",
    "random.shuffle(likers)"
   ]
  },
  {
   "cell_type": "code",
   "execution_count": 13,
   "metadata": {},
   "outputs": [
    {
     "data": {
      "text/plain": [
       "26644"
      ]
     },
     "execution_count": 13,
     "metadata": {},
     "output_type": "execute_result"
    }
   ],
   "source": [
    "len(likers)"
   ]
  },
  {
   "cell_type": "code",
   "execution_count": 14,
   "metadata": {},
   "outputs": [],
   "source": [
    "X = []\n",
    "y = []\n",
    "for news_id in real_news_id:\n",
    "    X.append(news_id)\n",
    "    y.append('REAL')\n",
    "for news_id in fake_news_id:\n",
    "    X.append(news_id)\n",
    "    y.append('FAKE')\n",
    "    \n",
    "X_train, X_test, y_train, y_test = train_test_split(X, y, test_size=0.33, random_state=53)"
   ]
  },
  {
   "cell_type": "code",
   "execution_count": 15,
   "metadata": {},
   "outputs": [
    {
     "name": "stdout",
     "output_type": "stream",
     "text": [
      "processed 0 news_id\n",
      "processed 100 news_id\n",
      "processed 200 news_id\n",
      "processed 300 news_id\n",
      "processed 400 news_id\n",
      "processed 500 news_id\n",
      "processed 600 news_id\n",
      "vector_train is ready (609, 26644)\n"
     ]
    }
   ],
   "source": [
    "vector_train = np.zeros((len(X_train) , len(likers)))\n",
    "for i in range(len(X_train)):\n",
    "    if(i%100 == 0):\n",
    "        print(\"processed {} news_id\".format(i))\n",
    "    news_id = X_train[i]\n",
    "    for j in range(len(likers)):\n",
    "        liker = likers[j]\n",
    "        if(news_id in likers2news[liker]):\n",
    "            vector_train[i][j] = 1\n",
    "        else:\n",
    "            vector_train[i][j] = 0\n",
    "print(\"vector_train is ready\" , vector_train.shape)"
   ]
  },
  {
   "cell_type": "code",
   "execution_count": 16,
   "metadata": {},
   "outputs": [
    {
     "name": "stdout",
     "output_type": "stream",
     "text": [
      "processed 0 news_id\n",
      "processed 100 news_id\n",
      "processed 200 news_id\n",
      "processed 300 news_id\n",
      "vector_test is ready (301, 26644)\n"
     ]
    }
   ],
   "source": [
    "vector_test = np.zeros((len(X_test) , len(likers)))\n",
    "for i in range(len(X_test)):\n",
    "    if(i%100 == 0):\n",
    "        print(\"processed {} news_id\".format(i))\n",
    "    news_id = X_test[i]\n",
    "    for j in range(len(likers)):\n",
    "        liker = likers[j]\n",
    "        if(news_id in likers2news[liker]):\n",
    "            vector_test[i][j] = 1\n",
    "        else:\n",
    "            vector_test[i][j] = 0\n",
    "print(\"vector_test is ready\" , vector_test.shape)"
   ]
  },
  {
   "cell_type": "code",
   "execution_count": 46,
   "metadata": {},
   "outputs": [],
   "source": [
    "def plot_confusion_matrix(cm, classes,\n",
    "                          normalize=False,\n",
    "                          title='Confusion matrix',\n",
    "                          cmap=plt.cm.Blues , mode = 'normal'):\n",
    "    if(mode == 'percent'):\n",
    "        cm = cm*100/cm.sum()\n",
    "    plt.imshow(cm, interpolation='nearest', cmap=cmap)\n",
    "    plt.title(title)\n",
    "    plt.colorbar()\n",
    "    tick_marks = np.arange(len(classes))\n",
    "    plt.xticks(tick_marks, classes, rotation=45)\n",
    "    plt.yticks(tick_marks, classes)\n",
    "\n",
    "    if normalize:\n",
    "        cm = cm.astype('float') / cm.sum(axis=1)[:, np.newaxis]\n",
    "        print(\"Normalized confusion matrix\")\n",
    "    else:\n",
    "        print('Confusion matrix, with little normalization')\n",
    "\n",
    "    thresh = cm.max() / 2.\n",
    "    for i, j in itertools.product(range(cm.shape[0]), range(cm.shape[1])):\n",
    "        strr = str(cm[i,j])\n",
    "        if(mode == 'percent'):\n",
    "            strr = str(round(cm[i, j] , 2)) + '%'\n",
    "        plt.text(j, i, strr ,\n",
    "                 horizontalalignment=\"center\",\n",
    "                 color=\"white\" if cm[i, j] > thresh else \"black\")\n",
    "\n",
    "    plt.tight_layout()\n",
    "    plt.ylabel('True label')\n",
    "    plt.xlabel('Predicted label')\n",
    "    plt.show()"
   ]
  },
  {
   "cell_type": "code",
   "execution_count": 47,
   "metadata": {},
   "outputs": [
    {
     "name": "stdout",
     "output_type": "stream",
     "text": [
      "accuracy:   0.997\n",
      "Confusion matrix, with little normalization\n"
     ]
    },
    {
     "data": {
      "image/png": "[encoded data removed]",
      "text/plain": [
       "<matplotlib.figure.Figure at 0x2d8e0311e48>"
      ]
     },
     "metadata": {},
     "output_type": "display_data"
    },
    {
     "name": "stdout",
     "output_type": "stream",
     "text": [
      "Confusion matrix, with little normalization\n"
     ]
    },
    {
     "data": {
      "image/png": "[encoded data removed]",
      "text/plain": [
       "<matplotlib.figure.Figure at 0x2d8e0303eb8>"
      ]
     },
     "metadata": {},
     "output_type": "display_data"
    }
   ],
   "source": [
    "from sklearn.linear_model import PassiveAggressiveClassifier\n",
    "pass_clf = PassiveAggressiveClassifier(max_iter=50 , random_state = 17)\n",
    "\n",
    "pass_clf.fit(vector_train, y_train)\n",
    "pred = pass_clf.predict(vector_test)\n",
    "\n",
    "score = metrics.accuracy_score(y_test, pred)\n",
    "print(\"accuracy:   %0.3f\" % score)\n",
    "cm = metrics.confusion_matrix(y_test, pred, labels=['FAKE', 'REAL'])\n",
    "plot_confusion_matrix(cm, classes=['FAKE', 'REAL'])\n",
    "plot_confusion_matrix(cm, classes=['FAKE', 'REAL'] , mode = 'percent')"
   ]
  },
  {
   "cell_type": "code",
   "execution_count": 42,
   "metadata": {},
   "outputs": [
    {
     "data": {
      "text/plain": [
       "array([[ 0.59136213,  0.        ],\n",
       "       [ 0.00332226,  0.40531561]])"
      ]
     },
     "execution_count": 42,
     "metadata": {},
     "output_type": "execute_result"
    }
   ],
   "source": [
    "cm/cm.sum()"
   ]
  },
  {
   "cell_type": "code",
   "execution_count": 39,
   "metadata": {},
   "outputs": [
    {
     "name": "stdout",
     "output_type": "stream",
     "text": [
      "accuracy:   1.000\n",
      "Confusion matrix, with little normalization\n"
     ]
    },
    {
     "data": {
      "image/png": "[encoded data removed]",
      "text/plain": [
       "<Figure size 432x288 with 2 Axes>"
      ]
     },
     "metadata": {},
     "output_type": "display_data"
    }
   ],
   "source": [
    "from sklearn.naive_bayes import MultinomialNB\n",
    "clf_tree = MultinomialNB() \n",
    "\n",
    "clf_tree.fit(vector_train, y_train)\n",
    "pred_tree = clf_tree.predict(vector_test)\n",
    "\n",
    "score = metrics.accuracy_score(y_test, pred_tree)\n",
    "print(\"accuracy:   %0.3f\" % score)\n",
    "cm = metrics.confusion_matrix(y_test, pred_tree, labels=['FAKE', 'REAL'])\n",
    "plot_confusion_matrix(cm, classes=['FAKE', 'REAL'])"
   ]
  },
  {
   "cell_type": "code",
   "execution_count": 29,
   "metadata": {},
   "outputs": [
    {
     "data": {
      "text/plain": [
       "3.33"
      ]
     },
     "execution_count": 29,
     "metadata": {},
     "output_type": "execute_result"
    }
   ],
   "source": [
    "a = 10/3\n",
    "round(a , 2)"
   ]
  },
  {
   "cell_type": "code",
   "execution_count": null,
   "metadata": {},
   "outputs": [],
   "source": []
  }
 ],
 "metadata": {
  "kernelspec": {
   "display_name": "Python 3",
   "language": "python",
   "name": "python3"
  },
  "language_info": {
   "codemirror_mode": {
    "name": "ipython",
    "version": 3
   },
   "file_extension": ".py",
   "mimetype": "text/x-python",
   "name": "python",
   "nbconvert_exporter": "python",
   "pygments_lexer": "ipython3",
   "version": "3.6.4"
  }
 },
 "nbformat": 4,
 "nbformat_minor": 2
}
