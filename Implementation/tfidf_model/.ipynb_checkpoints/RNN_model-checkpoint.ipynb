{
 "cells": [
  {
   "cell_type": "code",
   "execution_count": 1,
   "metadata": {},
   "outputs": [],
   "source": [
    "import json\n",
    "import matplotlib.pyplot as plt\n",
    "from sklearn.model_selection import train_test_split\n",
    "from sklearn.feature_extraction.text import TfidfVectorizer, CountVectorizer\n",
    "import sklearn\n",
    "import numpy as np\n",
    "import itertools\n",
    "\n",
    "ubuntu_path = '/home/arnab/Desktop/Thesis Ubuntu/'\n",
    "windows_path = 'C:/Users/User/Desktop/Thesis_Windows/'\n",
    "\n",
    "root_path = windows_path"
   ]
  },
  {
   "cell_type": "code",
   "execution_count": 2,
   "metadata": {},
   "outputs": [],
   "source": [
    "def plot_confusion_matrix(cm, classes,\n",
    "                          normalize=False,\n",
    "                          title='Confusion matrix',\n",
    "                          cmap=plt.cm.Blues):\n",
    "    plt.imshow(cm, interpolation='nearest', cmap=cmap)\n",
    "    plt.title(title)\n",
    "    plt.colorbar()\n",
    "    tick_marks = np.arange(len(classes))\n",
    "    plt.xticks(tick_marks, classes, rotation=45)\n",
    "    plt.yticks(tick_marks, classes)\n",
    "\n",
    "    if normalize:\n",
    "        cm = cm.astype('float') / cm.sum(axis=1)[:, np.newaxis]\n",
    "        print(\"Normalized confusion matrix\")\n",
    "    else:\n",
    "        print('Confusion matrix, with little normalization')\n",
    "\n",
    "    thresh = cm.max() / 2.\n",
    "    for i, j in itertools.product(range(cm.shape[0]), range(cm.shape[1])):\n",
    "        plt.text(j, i, cm[i, j],\n",
    "                 horizontalalignment=\"center\",\n",
    "                 color=\"white\" if cm[i, j] > thresh else \"black\")\n",
    "\n",
    "    plt.tight_layout()\n",
    "    plt.ylabel('True label')\n",
    "    plt.xlabel('Predicted label')\n",
    "    plt.show()"
   ]
  },
  {
   "cell_type": "code",
   "execution_count": 3,
   "metadata": {},
   "outputs": [
    {
     "name": "stdout",
     "output_type": "stream",
     "text": [
      "<class 'list'> 1480\n",
      "{'headline': 'আদালত বোলা শাহাদ কুনো দুষ', 'body': '৫ নম্ব নারী শিশু নির্যাতন দমন ট্রাইবুনাল আদাল মহিলা বিচারক তানজি ইসমাঈল গৃহকর্মী নির্যাতন মামলা ক্রিকে শাহাদত হোস স্ত্রী জেসমিন জাহান কুনো দুষ খু পা বেকসু খালাস দিয় কার্য চলা কাল শাহাদত নিচ ছ দেখাল গা হাত তু আল্লাহ কসম শুন জাতী দল খেলা ফাষ্ট বোলা আম বাসা আ চুক্তি হ বাসা বোলিং পেক সম হেলপ তার বেটসম বানান যা বেটসগার্ল এক তার বোলিং সম বাউন্সা দিছিলাম মতন খ বল গিয়া লাগ চুখ পাশ মাননী আদালত আপন হেলমেট পই বেটিং নাম সেই দুষ আপন বোলার বল বেটসমান গা লাগা কারন মামলা হই ইতিহাস দুনিয়া কুথা ইতি পুর্ব স্ত্রী মারধ যৌতু মামলায় কারাগার কণ্ঠশিল্পী আরফিন রুমি জামিন রা মহিলা বিচারক তানজি ইসমাঈল ফরিয়াদি পক্ষ পশ্ন আসামী পক্ষ বলত এক কথা আপনা দা করত শিশু মেয়ে মা হই গা গাত তোলা হই আপনাদ দা স কুনো ভিডু আছে… কথা শেষ মামলা ডিশম শিশু নির্যাতন মামলা মহিলা বিচারপতি রা বেকসু খালাস পা শাহাদত মা আপ পছন্দ প্রশ্ন উত্তর বল জানি না…হা হা হা সবচা বড় কথা স্মার্টনেস অন স্মার্টনেস জান মান পোশাকআশাক চালচলন হাইট ইম্পর্টেন্ট স্মার্টনেস হাইট লম্ দেখব সম গুজা কুঁজো হ হাঁট স্মার্ট হ দরকা ও আছে… প্লেয় স দাড়ি থাকল আফ্রিদি আফ্রিদি লাগ বিদাশ দাড়ি থাকল বাংলাদেশি পাকিস্তানি… হাইট ইম্পরটেন্ট চেহা আল্লাহ রহম ভালো'}\n"
     ]
    }
   ],
   "source": [
    "with open(root_path + \"Dataset_preprocessed/News_Papers/\" +\"motikontho_out_2.json\") as f:\n",
    "    fake_news = json.load(f)\n",
    "print(type(fake_news) , len(fake_news))\n",
    "print(fake_news[0])"
   ]
  },
  {
   "cell_type": "code",
   "execution_count": 4,
   "metadata": {},
   "outputs": [
    {
     "name": "stdout",
     "output_type": "stream",
     "text": [
      "<class 'list'> 1480\n",
      "{'headline': 'মুক্তি পে ফিলিস্তিন প্রতিবাদ প্রতীক কিশোরী আহেদ', 'body': 'ইসরায়ে সেনা গাল চড় মার ফিলিস্তিন প্রতিবাদ প্রতীক হ ওঠা কারাগা ছাড়া পেয় আট মাস রোব কারাগা এক মুক্তি পান আহেদ মা এএফপি খবর তথ্য ১৭ বছর আহেদ মা সকাল ইসরায়াল শ্যারন কারাগা গাড়ি পশ্চিম তীর সীমান্তবর্তী তল্লাশি চৌকি পৌঁ আহাদ বাড়ি পশ্চিম তীর নবী সালেহ গ্রাম কারাগার মুখপাত্ আসাফ লিবরাতি ইসরায়ে সেনাদ হস্তান্ত স্বাগত জানা পরিবার সদস্য সমর্থক তল্লাশিচৌকি জড়ো হ বহনকারী সেনাবাহিনী গাড়ি দাঁড়ি পশ্চিম তীর যা সেনাদ মুক্তি পা রাস্ পাশ জড়ো হ হাজারো জন সাংবাদিকদ উদ্দাশ আহেদ সংবাদ সম্মেলন কথা আহাদ বা বাসেম এক হাত দি মা হা স্ত্রী রাখ পথ হাঁট চারপাশ স্বাধীন বাঁচ চা স্লোগান ওঠ ইসরায়ে কর্তৃপক্ষ গণমাধ্যম এড়ি এমন মামা তল্লাশি চৌ দি আ ধরন তথ্য দি প্রথম হ আহেদ মা পশ্চিম তীর ফিলিস্ শহ তুল্করাম শহর কা তল্লাশি চৌ দি আ তল্লাশি চৌ দি আ তিন তিন পরিবর্তন গত বছর শেষ মার্কিন প্রেসিডেন্ট ডোনাল্ড ট্রাম্প জেরুজালেম ইসরায়াল রাজধানী স্বীকৃতি দিল ক্ষোভ ফাট পড় ফিলিস্ মানুষ পবিত্ ভূমি জেরুজালেম রাজধানী হিসাব চা ফিলিস্তিনিদ প্রতিবাদ প্রতিবাদ থামা ইসরায়াল দমনপীড়ন মিলি সংঘা দাবানল ছড়ি পড় মধ্যপ্রাচ্য অঞ্চল যুক্তরাষ্ট্র সিদ্ধান্ত দশ ফিলিস্তিনি মান পারেনি কিশোরী আহেদ তামিমি পশ্চিম তীর নবী সালেহ গ্রাম বাড়ি ইসরায়াল সেনাদ নি সং পারেনি ক্ষোভ ফাট পড় সামাজিক যোগাযোগ ভাইরাল হ ভিডিও প্রথম মা ইসরায়ে সেনাদ যা চিৎকা সেনা সর কথাকাটাকা চল পক্ষ একপর্যা এক ইসরায়ে সেনা গাল চড় মার কিশোরী আহেদ বান্ধবী মোবাইল দৃশ্য ভিডি ভিডি ভাইরাল হ শিবির আগুন ধরা ফিলিস্তিনিদ দে সাহস ইসরায়েলিদ বিভ্রান্ত অপমানিত ক্রুদ্ধ লজ্জিত স্বয়ং ফিলিস্ প্রেসিডেন্ট মাহমুদ আব্বাস কিশোরী সাহ প্রশংসা সামাজিক যোগাযোগ সমর্থক প্রশংসা ভাসি দে বর্ণবাদী ১৬ বছর এক ফিলিস্ বালিকা স্পর্ধা ক্ষুব্ধ তিন ইসরায়ে চড় খা বিভ্রান্ত তিন দুর্বল দেখানো প্রত্যাহা রা আহেদ তামিমি এক চাচা ভা এন বন্দী কারাগার পর বাড়ি হা দি তছনছ মা পুলিশ স্টেশন মা নারিমান আল তামিমি গ্রেপ্ তিন পাঠানো কারাগার গত মার্চ মুক্তি পা আহাদ চাচা ভা পশ্চিম তীর সীমান্তবর্তী দেয়াল আহাদ ছ আঁকা কারণ গতকাল শনি ইসরায়ে কর্তৃপক্ষ ইতালিয়ান এক ফিলিস্ গ্রেপ্'}\n"
     ]
    }
   ],
   "source": [
    "with open(root_path + \"Dataset_preprocessed/News_Papers/\" + \"real_news.json\") as f:\n",
    "    real_news = json.load(f)\n",
    "print(type(real_news) , len(real_news))\n",
    "print(real_news[0])"
   ]
  },
  {
   "cell_type": "code",
   "execution_count": 5,
   "metadata": {},
   "outputs": [
    {
     "name": "stdout",
     "output_type": "stream",
     "text": [
      "2853 2853\n"
     ]
    }
   ],
   "source": [
    "def tokenize_a_news(news):\n",
    "    return news['body'].strip().split(' ')\n",
    "\n",
    "news_arr = []\n",
    "verdict = []\n",
    "for news in fake_news:\n",
    "    token = tokenize_a_news(news)\n",
    "    if(len(token) < 10):\n",
    "        continue\n",
    "    news_arr.append(news['body'])\n",
    "    verdict.append('FAKE')\n",
    "    \n",
    "for news in real_news:\n",
    "    token = tokenize_a_news(news)\n",
    "    if(len(token) < 10):\n",
    "        continue\n",
    "    news_arr.append(news['body'])\n",
    "    verdict.append('REAL')\n",
    "\n",
    "print(len(news_arr) , len(verdict))"
   ]
  },
  {
   "cell_type": "code",
   "execution_count": 6,
   "metadata": {},
   "outputs": [],
   "source": [
    "news_train, news_test, verdict_train, verdict_test = train_test_split(news_arr, verdict, test_size=0.33, random_state=53)"
   ]
  },
  {
   "cell_type": "code",
   "execution_count": 7,
   "metadata": {},
   "outputs": [
    {
     "name": "stdout",
     "output_type": "stream",
     "text": [
      "(1911, 6094) (942, 6094)\n"
     ]
    }
   ],
   "source": [
    "from sklearn.feature_extraction.text import TfidfVectorizer, CountVectorizer\n",
    "\n",
    "count_vectorizer = CountVectorizer()\n",
    "count_train = count_vectorizer.fit_transform(news_train) \n",
    "count_test = count_vectorizer.transform(news_test)\n",
    "\n",
    "print(count_train.shape , count_test.shape)"
   ]
  },
  {
   "cell_type": "code",
   "execution_count": 8,
   "metadata": {},
   "outputs": [
    {
     "name": "stdout",
     "output_type": "stream",
     "text": [
      "(1911, 6090) (942, 6090)\n"
     ]
    }
   ],
   "source": [
    "tfidf_vectorizer = TfidfVectorizer(max_df=0.7) \n",
    "tfidf_train = tfidf_vectorizer.fit_transform(news_train) \n",
    "tfidf_test = tfidf_vectorizer.transform(news_test)\n",
    "\n",
    "print(tfidf_train.shape , tfidf_test.shape)"
   ]
  },
  {
   "cell_type": "code",
   "execution_count": 9,
   "metadata": {},
   "outputs": [
    {
     "name": "stdout",
     "output_type": "stream",
     "text": [
      "  (0, 2190)\t0.100092456438\n",
      "  (0, 4135)\t0.301257492176\n",
      "  (0, 716)\t0.287204913682\n",
      "  (0, 468)\t0.580953867021\n",
      "  (0, 5169)\t0.340689293319\n",
      "  (0, 4194)\t0.220458518786\n",
      "  (0, 1428)\t0.090696839432\n",
      "  (0, 762)\t0.290559033772\n",
      "  (0, 547)\t0.133639066775\n",
      "  (0, 4231)\t0.132529616333\n",
      "  (0, 3116)\t0.107221237677\n",
      "  (0, 1791)\t0.179069537745\n",
      "  (0, 1978)\t0.105482070789\n",
      "  (0, 2789)\t0.13700142562\n",
      "  (0, 618)\t0.0680398487931\n",
      "  (0, 1982)\t0.135825599874\n",
      "  (0, 4734)\t0.130501496153\n",
      "  (0, 4702)\t0.114651380866\n",
      "  (0, 2779)\t0.180972275173\n",
      "  (0, 828)\t0.0697227593455\n",
      "  (0, 1556)\t0.148869981677\n"
     ]
    }
   ],
   "source": [
    "print(tfidf_train[0])"
   ]
  },
  {
   "cell_type": "code",
   "execution_count": 10,
   "metadata": {},
   "outputs": [
    {
     "data": {
      "text/plain": [
       "numpy.ndarray"
      ]
     },
     "execution_count": 10,
     "metadata": {},
     "output_type": "execute_result"
    }
   ],
   "source": [
    "type(tfidf_train.toarray())"
   ]
  },
  {
   "cell_type": "markdown",
   "metadata": {},
   "source": [
    "# TFIDF with RNN"
   ]
  },
  {
   "cell_type": "code",
   "execution_count": 11,
   "metadata": {},
   "outputs": [
    {
     "ename": "ImportError",
     "evalue": "No module named 'seaborn'",
     "output_type": "error",
     "traceback": [
      "\u001b[1;31m---------------------------------------------------------------------------\u001b[0m",
      "\u001b[1;31mImportError\u001b[0m                               Traceback (most recent call last)",
      "\u001b[1;32m<ipython-input-11-bfd7e2724c55>\u001b[0m in \u001b[0;36m<module>\u001b[1;34m()\u001b[0m\n\u001b[0;32m      2\u001b[0m \u001b[1;32mimport\u001b[0m \u001b[0mnumpy\u001b[0m \u001b[1;32mas\u001b[0m \u001b[0mnp\u001b[0m\u001b[1;33m\u001b[0m\u001b[0m\n\u001b[0;32m      3\u001b[0m \u001b[1;32mimport\u001b[0m \u001b[0mmatplotlib\u001b[0m\u001b[1;33m.\u001b[0m\u001b[0mpyplot\u001b[0m \u001b[1;32mas\u001b[0m \u001b[0mplt\u001b[0m\u001b[1;33m\u001b[0m\u001b[0m\n\u001b[1;32m----> 4\u001b[1;33m \u001b[1;32mimport\u001b[0m \u001b[0mseaborn\u001b[0m \u001b[1;32mas\u001b[0m \u001b[0msns\u001b[0m\u001b[1;33m\u001b[0m\u001b[0m\n\u001b[0m\u001b[0;32m      5\u001b[0m \u001b[1;32mfrom\u001b[0m \u001b[0msklearn\u001b[0m\u001b[1;33m.\u001b[0m\u001b[0mmodel_selection\u001b[0m \u001b[1;32mimport\u001b[0m \u001b[0mtrain_test_split\u001b[0m\u001b[1;33m\u001b[0m\u001b[0m\n\u001b[0;32m      6\u001b[0m \u001b[1;32mfrom\u001b[0m \u001b[0msklearn\u001b[0m\u001b[1;33m.\u001b[0m\u001b[0mpreprocessing\u001b[0m \u001b[1;32mimport\u001b[0m \u001b[0mLabelEncoder\u001b[0m\u001b[1;33m\u001b[0m\u001b[0m\n",
      "\u001b[1;31mImportError\u001b[0m: No module named 'seaborn'"
     ]
    }
   ],
   "source": [
    "import pandas as pd\n",
    "import numpy as np\n",
    "import matplotlib.pyplot as plt\n",
    "import seaborn as sns\n",
    "from sklearn.model_selection import train_test_split\n",
    "from sklearn.preprocessing import LabelEncoder\n",
    "from keras.models import Model\n",
    "from keras.layers import LSTM, Activation, Dense, Dropout, Input, Embedding\n",
    "from keras.optimizers import RMSprop\n",
    "from keras.preprocessing.text import Tokenizer\n",
    "from keras.preprocessing import sequence\n",
    "from keras.utils import to_categorical\n",
    "from keras.callbacks import EarlyStopping\n",
    "%matplotlib inline"
   ]
  },
  {
   "cell_type": "code",
   "execution_count": null,
   "metadata": {},
   "outputs": [],
   "source": []
  }
 ],
 "metadata": {
  "kernelspec": {
   "display_name": "Python 3",
   "language": "python",
   "name": "python3"
  },
  "language_info": {
   "codemirror_mode": {
    "name": "ipython",
    "version": 3
   },
   "file_extension": ".py",
   "mimetype": "text/x-python",
   "name": "python",
   "nbconvert_exporter": "python",
   "pygments_lexer": "ipython3",
   "version": "3.5.4"
  }
 },
 "nbformat": 4,
 "nbformat_minor": 2
}
