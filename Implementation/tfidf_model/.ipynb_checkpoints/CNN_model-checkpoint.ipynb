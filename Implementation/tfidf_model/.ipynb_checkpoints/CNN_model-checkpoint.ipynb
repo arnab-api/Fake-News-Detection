{
 "cells": [
  {
   "cell_type": "code",
   "execution_count": 1,
   "metadata": {},
   "outputs": [],
   "source": [
    "import json\n",
    "import matplotlib.pyplot as plt\n",
    "from sklearn.model_selection import train_test_split\n",
    "from sklearn.feature_extraction.text import TfidfVectorizer, CountVectorizer\n",
    "import sklearn\n",
    "import numpy as np\n",
    "import itertools\n",
    "\n",
    "ubuntu_path = '/home/arnab/Desktop/Thesis Ubuntu/'\n",
    "windows_path = 'C:/Users/User/Desktop/Thesis_Windows/'\n",
    "\n",
    "root_path = windows_path"
   ]
  },
  {
   "cell_type": "code",
   "execution_count": 2,
   "metadata": {},
   "outputs": [],
   "source": [
    "def plot_confusion_matrix(cm, classes,\n",
    "                          normalize=False,\n",
    "                          title='Confusion matrix',\n",
    "                          cmap=plt.cm.Blues):\n",
    "    plt.imshow(cm, interpolation='nearest', cmap=cmap)\n",
    "    plt.title(title)\n",
    "    plt.colorbar()\n",
    "    tick_marks = np.arange(len(classes))\n",
    "    plt.xticks(tick_marks, classes, rotation=45)\n",
    "    plt.yticks(tick_marks, classes)\n",
    "\n",
    "    if normalize:\n",
    "        cm = cm.astype('float') / cm.sum(axis=1)[:, np.newaxis]\n",
    "        print(\"Normalized confusion matrix\")\n",
    "    else:\n",
    "        print('Confusion matrix, with little normalization')\n",
    "\n",
    "    thresh = cm.max() / 2.\n",
    "    for i, j in itertools.product(range(cm.shape[0]), range(cm.shape[1])):\n",
    "        plt.text(j, i, cm[i, j],\n",
    "                 horizontalalignment=\"center\",\n",
    "                 color=\"white\" if cm[i, j] > thresh else \"black\")\n",
    "\n",
    "    plt.tight_layout()\n",
    "    plt.ylabel('True label')\n",
    "    plt.xlabel('Predicted label')\n",
    "    plt.show()"
   ]
  },
  {
   "cell_type": "code",
   "execution_count": 5,
   "metadata": {},
   "outputs": [
    {
     "name": "stdout",
     "output_type": "stream",
     "text": [
      "<class 'list'> 1480\n",
      "{'headline': 'আদালত বোলা শাহাদ কুনো দুষ', 'body': '৫ নম্ব নারী শিশু নির্যাতন দমন ট্রাইবুনাল আদাল মহিলা বিচারক তানজি ইসমাঈল গৃহকর্মী নির্যাতন মামলা ক্রিকে শাহাদত হোস স্ত্রী জেসমিন জাহান কুনো দুষ খু পা বেকসু খালাস দিয় কার্য চলা কাল শাহাদত নিচ ছ দেখাল গা হাত তু আল্লাহ কসম শুন জাতী দল খেলা ফাষ্ট বোলা আম বাসা আ চুক্তি হ বাসা বোলিং পেক সম হেলপ তার বেটসম বানান যা বেটসগার্ল এক তার বোলিং সম বাউন্সা দিছিলাম মতন খ বল গিয়া লাগ চুখ পাশ মাননী আদালত আপন হেলমেট পই বেটিং নাম সেই দুষ আপন বোলার বল বেটসমান গা লাগা কারন মামলা হই ইতিহাস দুনিয়া কুথা ইতি পুর্ব স্ত্রী মারধ যৌতু মামলায় কারাগার কণ্ঠশিল্পী আরফিন রুমি জামিন রা মহিলা বিচারক তানজি ইসমাঈল ফরিয়াদি পক্ষ পশ্ন আসামী পক্ষ বলত এক কথা আপনা দা করত শিশু মেয়ে মা হই গা গাত তোলা হই আপনাদ দা স কুনো ভিডু আছে… কথা শেষ মামলা ডিশম শিশু নির্যাতন মামলা মহিলা বিচারপতি রা বেকসু খালাস পা শাহাদত মা আপ পছন্দ প্রশ্ন উত্তর বল জানি না…হা হা হা সবচা বড় কথা স্মার্টনেস অন স্মার্টনেস জান মান পোশাকআশাক চালচলন হাইট ইম্পর্টেন্ট স্মার্টনেস হাইট লম্ দেখব সম গুজা কুঁজো হ হাঁট স্মার্ট হ দরকা ও আছে… প্লেয় স দাড়ি থাকল আফ্রিদি আফ্রিদি লাগ বিদাশ দাড়ি থাকল বাংলাদেশি পাকিস্তানি… হাইট ইম্পরটেন্ট চেহা আল্লাহ রহম ভালো'}\n"
     ]
    }
   ],
   "source": [
    "with open(root_path + \"Dataset_preprocessed/News_Papers/\" +\"motikontho_out_2.json\") as f:\n",
    "    fake_news = json.load(f)\n",
    "print(type(fake_news) , len(fake_news))\n",
    "print(fake_news[0])"
   ]
  },
  {
   "cell_type": "code",
   "execution_count": 6,
   "metadata": {},
   "outputs": [
    {
     "name": "stdout",
     "output_type": "stream",
     "text": [
      "<class 'list'> 1480\n",
      "{'headline': 'মুক্তি পে ফিলিস্তিন প্রতিবাদ প্রতীক কিশোরী আহেদ', 'body': 'ইসরায়ে সেনা গাল চড় মার ফিলিস্তিন প্রতিবাদ প্রতীক হ ওঠা কারাগা ছাড়া পেয় আট মাস রোব কারাগা এক মুক্তি পান আহেদ মা এএফপি খবর তথ্য ১৭ বছর আহেদ মা সকাল ইসরায়াল শ্যারন কারাগা গাড়ি পশ্চিম তীর সীমান্তবর্তী তল্লাশি চৌকি পৌঁ আহাদ বাড়ি পশ্চিম তীর নবী সালেহ গ্রাম কারাগার মুখপাত্ আসাফ লিবরাতি ইসরায়ে সেনাদ হস্তান্ত স্বাগত জানা পরিবার সদস্য সমর্থক তল্লাশিচৌকি জড়ো হ বহনকারী সেনাবাহিনী গাড়ি দাঁড়ি পশ্চিম তীর যা সেনাদ মুক্তি পা রাস্ পাশ জড়ো হ হাজারো জন সাংবাদিকদ উদ্দাশ আহেদ সংবাদ সম্মেলন কথা আহাদ বা বাসেম এক হাত দি মা হা স্ত্রী রাখ পথ হাঁট চারপাশ স্বাধীন বাঁচ চা স্লোগান ওঠ ইসরায়ে কর্তৃপক্ষ গণমাধ্যম এড়ি এমন মামা তল্লাশি চৌ দি আ ধরন তথ্য দি প্রথম হ আহেদ মা পশ্চিম তীর ফিলিস্ শহ তুল্করাম শহর কা তল্লাশি চৌ দি আ তল্লাশি চৌ দি আ তিন তিন পরিবর্তন গত বছর শেষ মার্কিন প্রেসিডেন্ট ডোনাল্ড ট্রাম্প জেরুজালেম ইসরায়াল রাজধানী স্বীকৃতি দিল ক্ষোভ ফাট পড় ফিলিস্ মানুষ পবিত্ ভূমি জেরুজালেম রাজধানী হিসাব চা ফিলিস্তিনিদ প্রতিবাদ প্রতিবাদ থামা ইসরায়াল দমনপীড়ন মিলি সংঘা দাবানল ছড়ি পড় মধ্যপ্রাচ্য অঞ্চল যুক্তরাষ্ট্র সিদ্ধান্ত দশ ফিলিস্তিনি মান পারেনি কিশোরী আহেদ তামিমি পশ্চিম তীর নবী সালেহ গ্রাম বাড়ি ইসরায়াল সেনাদ নি সং পারেনি ক্ষোভ ফাট পড় সামাজিক যোগাযোগ ভাইরাল হ ভিডিও প্রথম মা ইসরায়ে সেনাদ যা চিৎকা সেনা সর কথাকাটাকা চল পক্ষ একপর্যা এক ইসরায়ে সেনা গাল চড় মার কিশোরী আহেদ বান্ধবী মোবাইল দৃশ্য ভিডি ভিডি ভাইরাল হ শিবির আগুন ধরা ফিলিস্তিনিদ দে সাহস ইসরায়েলিদ বিভ্রান্ত অপমানিত ক্রুদ্ধ লজ্জিত স্বয়ং ফিলিস্ প্রেসিডেন্ট মাহমুদ আব্বাস কিশোরী সাহ প্রশংসা সামাজিক যোগাযোগ সমর্থক প্রশংসা ভাসি দে বর্ণবাদী ১৬ বছর এক ফিলিস্ বালিকা স্পর্ধা ক্ষুব্ধ তিন ইসরায়ে চড় খা বিভ্রান্ত তিন দুর্বল দেখানো প্রত্যাহা রা আহেদ তামিমি এক চাচা ভা এন বন্দী কারাগার পর বাড়ি হা দি তছনছ মা পুলিশ স্টেশন মা নারিমান আল তামিমি গ্রেপ্ তিন পাঠানো কারাগার গত মার্চ মুক্তি পা আহাদ চাচা ভা পশ্চিম তীর সীমান্তবর্তী দেয়াল আহাদ ছ আঁকা কারণ গতকাল শনি ইসরায়ে কর্তৃপক্ষ ইতালিয়ান এক ফিলিস্ গ্রেপ্'}\n"
     ]
    }
   ],
   "source": [
    "with open(root_path + \"Dataset_preprocessed/News_Papers/\" + \"real_news.json\") as f:\n",
    "    real_news = json.load(f)\n",
    "print(type(real_news) , len(real_news))\n",
    "print(real_news[0])"
   ]
  },
  {
   "cell_type": "code",
   "execution_count": 7,
   "metadata": {},
   "outputs": [
    {
     "name": "stdout",
     "output_type": "stream",
     "text": [
      "2853 2853\n"
     ]
    }
   ],
   "source": [
    "def tokenize_a_news(news):\n",
    "    return news['body'].strip().split(' ')\n",
    "\n",
    "news_arr = []\n",
    "verdict = []\n",
    "for news in fake_news:\n",
    "    token = tokenize_a_news(news)\n",
    "    if(len(token) < 10):\n",
    "        continue\n",
    "    news_arr.append(news['body'])\n",
    "    verdict.append('FAKE')\n",
    "    \n",
    "for news in real_news:\n",
    "    token = tokenize_a_news(news)\n",
    "    if(len(token) < 10):\n",
    "        continue\n",
    "    news_arr.append(news['body'])\n",
    "    verdict.append('REAL')\n",
    "\n",
    "print(len(news_arr) , len(verdict))"
   ]
  },
  {
   "cell_type": "code",
   "execution_count": 8,
   "metadata": {},
   "outputs": [],
   "source": [
    "news_train, news_test, verdict_train, verdict_test = train_test_split(news_arr, verdict, test_size=0.33, random_state=53)"
   ]
  },
  {
   "cell_type": "code",
   "execution_count": 9,
   "metadata": {},
   "outputs": [
    {
     "name": "stdout",
     "output_type": "stream",
     "text": [
      "(1911, 6094) (942, 6094)\n"
     ]
    }
   ],
   "source": [
    "from sklearn.feature_extraction.text import TfidfVectorizer, CountVectorizer\n",
    "\n",
    "count_vectorizer = CountVectorizer()\n",
    "count_train = count_vectorizer.fit_transform(news_train) \n",
    "count_test = count_vectorizer.transform(news_test)\n",
    "\n",
    "print(count_train.shape , count_test.shape)"
   ]
  },
  {
   "cell_type": "code",
   "execution_count": 10,
   "metadata": {},
   "outputs": [
    {
     "name": "stdout",
     "output_type": "stream",
     "text": [
      "(1911, 6090) (942, 6090)\n"
     ]
    }
   ],
   "source": [
    "tfidf_vectorizer = TfidfVectorizer(max_df=0.7) \n",
    "tfidf_train = tfidf_vectorizer.fit_transform(news_train) \n",
    "tfidf_test = tfidf_vectorizer.transform(news_test)\n",
    "\n",
    "print(tfidf_train.shape , tfidf_test.shape)"
   ]
  },
  {
   "cell_type": "code",
   "execution_count": 11,
   "metadata": {},
   "outputs": [
    {
     "name": "stdout",
     "output_type": "stream",
     "text": [
      "  (0, 2190)\t0.100092456438\n",
      "  (0, 4135)\t0.301257492176\n",
      "  (0, 716)\t0.287204913682\n",
      "  (0, 468)\t0.580953867021\n",
      "  (0, 5169)\t0.340689293319\n",
      "  (0, 4194)\t0.220458518786\n",
      "  (0, 1428)\t0.090696839432\n",
      "  (0, 762)\t0.290559033772\n",
      "  (0, 547)\t0.133639066775\n",
      "  (0, 4231)\t0.132529616333\n",
      "  (0, 3116)\t0.107221237677\n",
      "  (0, 1791)\t0.179069537745\n",
      "  (0, 1978)\t0.105482070789\n",
      "  (0, 2789)\t0.13700142562\n",
      "  (0, 618)\t0.0680398487931\n",
      "  (0, 1982)\t0.135825599874\n",
      "  (0, 4734)\t0.130501496153\n",
      "  (0, 4702)\t0.114651380866\n",
      "  (0, 2779)\t0.180972275173\n",
      "  (0, 828)\t0.0697227593455\n",
      "  (0, 1556)\t0.148869981677\n"
     ]
    }
   ],
   "source": [
    "print(tfidf_train[0])"
   ]
  },
  {
   "cell_type": "code",
   "execution_count": 12,
   "metadata": {},
   "outputs": [
    {
     "data": {
      "text/plain": [
       "numpy.ndarray"
      ]
     },
     "execution_count": 12,
     "metadata": {},
     "output_type": "execute_result"
    }
   ],
   "source": [
    "type(tfidf_train.toarray())"
   ]
  },
  {
   "cell_type": "markdown",
   "metadata": {},
   "source": [
    "# TFIDF with CNN"
   ]
  },
  {
   "cell_type": "code",
   "execution_count": 13,
   "metadata": {},
   "outputs": [
    {
     "name": "stderr",
     "output_type": "stream",
     "text": [
      "Using TensorFlow backend.\n"
     ]
    },
    {
     "name": "stdout",
     "output_type": "stream",
     "text": [
      "import done\n"
     ]
    }
   ],
   "source": [
    "import pandas as pd\n",
    "from keras.models import Sequential\n",
    "from keras.layers import Dense, Dropout, Activation\n",
    "from keras.layers import Embedding\n",
    "from keras.layers import Flatten\n",
    "from keras.layers import Conv1D, GlobalMaxPooling1D\n",
    "from keras.preprocessing.text import Tokenizer\n",
    "from keras.preprocessing import sequence\n",
    "from sklearn.preprocessing import LabelEncoder\n",
    "import time\n",
    "from keras import metrics\n",
    "print('import done')"
   ]
  },
  {
   "cell_type": "code",
   "execution_count": 26,
   "metadata": {},
   "outputs": [
    {
     "name": "stdout",
     "output_type": "stream",
     "text": [
      "[0 1 0 1 1]\n",
      "[[ 0.  0.  2. ...,  0.  0.  0.]\n",
      " [ 0.  3.  1. ...,  0.  0.  0.]\n",
      " [ 0.  0.  2. ...,  0.  0.  0.]\n",
      " [ 0.  6.  4. ...,  0.  0.  0.]\n",
      " [ 0.  2.  1. ...,  0.  0.  0.]]\n",
      "(1911, 1000) (1911,)\n",
      "(942, 1000) (942,)\n"
     ]
    }
   ],
   "source": [
    "num_max = 1000\n",
    "# preprocess\n",
    "le = LabelEncoder()\n",
    "\n",
    "y_train = le.fit_transform(verdict_train)\n",
    "y_test = le.transform(verdict_test)\n",
    "\n",
    "tok = Tokenizer(num_words=num_max)\n",
    "tok.fit_on_texts(news_arr)\n",
    "\n",
    "X_train = tok.texts_to_matrix(news_train,mode='count')\n",
    "X_test = tok.texts_to_matrix(news_test,mode='count')\n",
    "\n",
    "print(y_test[:5])\n",
    "print(X_test[:5])\n",
    "print(X_train.shape,y_train.shape)\n",
    "print(X_test.shape,y_test.shape)"
   ]
  },
  {
   "cell_type": "code",
   "execution_count": 27,
   "metadata": {},
   "outputs": [],
   "source": [
    "def get_simple_model(num_features):\n",
    "    model = Sequential()\n",
    "    model.add(Dense(512, activation='relu', input_shape=(num_features,)))\n",
    "    model.add(Dropout(0.2))\n",
    "    model.add(Dense(256, activation='relu'))\n",
    "    model.add(Dropout(0.2))\n",
    "    model.add(Dense(1, activation='sigmoid'))\n",
    "    model.summary()\n",
    "    model.compile(loss='binary_crossentropy',\n",
    "              optimizer='adam',\n",
    "              metrics=['acc',metrics.binary_accuracy])\n",
    "    print('compile done')\n",
    "    return model"
   ]
  },
  {
   "cell_type": "code",
   "execution_count": 28,
   "metadata": {},
   "outputs": [
    {
     "name": "stdout",
     "output_type": "stream",
     "text": [
      "(1911, 6090) (942, 6090)\n",
      "(1911,) (942,)\n"
     ]
    }
   ],
   "source": [
    "print(tfidf_train.shape , tfidf_test.shape)\n",
    "print(y_train.shape , y_test.shape)"
   ]
  },
  {
   "cell_type": "code",
   "execution_count": 29,
   "metadata": {},
   "outputs": [
    {
     "name": "stdout",
     "output_type": "stream",
     "text": [
      "_________________________________________________________________\n",
      "Layer (type)                 Output Shape              Param #   \n",
      "=================================================================\n",
      "dense_10 (Dense)             (None, 512)               3118592   \n",
      "_________________________________________________________________\n",
      "dropout_7 (Dropout)          (None, 512)               0         \n",
      "_________________________________________________________________\n",
      "dense_11 (Dense)             (None, 256)               131328    \n",
      "_________________________________________________________________\n",
      "dropout_8 (Dropout)          (None, 256)               0         \n",
      "_________________________________________________________________\n",
      "dense_12 (Dense)             (None, 1)                 257       \n",
      "=================================================================\n",
      "Total params: 3,250,177\n",
      "Trainable params: 3,250,177\n",
      "Non-trainable params: 0\n",
      "_________________________________________________________________\n",
      "compile done\n",
      "Train on 1911 samples, validate on 942 samples\n",
      "Epoch 1/10\n",
      "1911/1911 [==============================] - 4s 2ms/step - loss: 0.3309 - acc: 0.8838 - binary_accuracy: 0.8838 - val_loss: 0.1239 - val_acc: 0.9618 - val_binary_accuracy: 0.9618\n",
      "Epoch 2/10\n",
      "1911/1911 [==============================] - 3s 2ms/step - loss: 0.0353 - acc: 0.9890 - binary_accuracy: 0.9890 - val_loss: 0.1240 - val_acc: 0.9639 - val_binary_accuracy: 0.9639\n",
      "Epoch 3/10\n",
      "1911/1911 [==============================] - 3s 2ms/step - loss: 0.0028 - acc: 1.0000 - binary_accuracy: 1.0000 - val_loss: 0.1272 - val_acc: 0.9671 - val_binary_accuracy: 0.9671\n",
      "Epoch 4/10\n",
      "1911/1911 [==============================] - 3s 2ms/step - loss: 8.7705e-04 - acc: 1.0000 - binary_accuracy: 1.0000 - val_loss: 0.1324 - val_acc: 0.9660 - val_binary_accuracy: 0.9660\n",
      "Epoch 5/10\n",
      "1911/1911 [==============================] - 3s 2ms/step - loss: 4.9530e-04 - acc: 1.0000 - binary_accuracy: 1.0000 - val_loss: 0.1399 - val_acc: 0.9628 - val_binary_accuracy: 0.9628\n",
      "Epoch 6/10\n",
      "1911/1911 [==============================] - 3s 2ms/step - loss: 2.9191e-04 - acc: 1.0000 - binary_accuracy: 1.0000 - val_loss: 0.1439 - val_acc: 0.9628 - val_binary_accuracy: 0.9628\n",
      "Epoch 7/10\n",
      "1911/1911 [==============================] - 3s 2ms/step - loss: 2.0674e-04 - acc: 1.0000 - binary_accuracy: 1.0000 - val_loss: 0.1468 - val_acc: 0.9628 - val_binary_accuracy: 0.9628\n",
      "Epoch 8/10\n",
      "1911/1911 [==============================] - 3s 2ms/step - loss: 1.7327e-04 - acc: 1.0000 - binary_accuracy: 1.0000 - val_loss: 0.1493 - val_acc: 0.9628 - val_binary_accuracy: 0.9628\n",
      "Epoch 9/10\n",
      "1911/1911 [==============================] - 3s 2ms/step - loss: 1.2861e-04 - acc: 1.0000 - binary_accuracy: 1.0000 - val_loss: 0.1510 - val_acc: 0.9628 - val_binary_accuracy: 0.9628\n",
      "Epoch 10/10\n",
      "1911/1911 [==============================] - 3s 2ms/step - loss: 9.7834e-05 - acc: 1.0000 - binary_accuracy: 1.0000 - val_loss: 0.1542 - val_acc: 0.9639 - val_binary_accuracy: 0.9639\n"
     ]
    },
    {
     "data": {
      "text/plain": [
       "<keras.callbacks.History at 0x26e262f2cc0>"
      ]
     },
     "execution_count": 29,
     "metadata": {},
     "output_type": "execute_result"
    }
   ],
   "source": [
    "model = get_simple_model(tfidf_train.shape[1])\n",
    "model.fit(tfidf_train.toarray(),y_train,batch_size=32,epochs=10,verbose=1,validation_data=(tfidf_test.toarray() , y_test))"
   ]
  },
  {
   "cell_type": "code",
   "execution_count": 30,
   "metadata": {},
   "outputs": [
    {
     "name": "stdout",
     "output_type": "stream",
     "text": [
      "CNN Error: 3.61%\n",
      "(942,) (942,)\n",
      "accuracy:   0.964\n",
      "Confusion matrix, with little normalization\n"
     ]
    },
    {
     "data": {
      "image/png": "[encoded data removed]",
      "text/plain": [
       "<matplotlib.figure.Figure at 0x26e25901160>"
      ]
     },
     "metadata": {},
     "output_type": "display_data"
    }
   ],
   "source": [
    "scores = model.evaluate(tfidf_test.toarray(), y_test, verbose=0)\n",
    "print(\"CNN Error: %.2f%%\" % (100-scores[1]*100))\n",
    "\n",
    "pred_test = model.predict(tfidf_test.toarray())\n",
    "pred = np.zeros(len(y_test))\n",
    "for i in range(len(y_test)):\n",
    "    if(pred_test[i][0] < .5):\n",
    "        pred[i] = 0\n",
    "    else:\n",
    "        pred[i] = 1\n",
    "print(y_test.shape , pred.shape)\n",
    "score = sklearn.metrics.accuracy_score(y_test, pred)\n",
    "print(\"accuracy:   %0.3f\" % score)\n",
    "cm = sklearn.metrics.confusion_matrix(y_test, pred, labels=[0, 1])\n",
    "plot_confusion_matrix(cm, classes=['FAKE', 'REAL'])"
   ]
  },
  {
   "cell_type": "code",
   "execution_count": 20,
   "metadata": {},
   "outputs": [
    {
     "name": "stdout",
     "output_type": "stream",
     "text": [
      "_________________________________________________________________\n",
      "Layer (type)                 Output Shape              Param #   \n",
      "=================================================================\n",
      "dense_4 (Dense)              (None, 512)               3120640   \n",
      "_________________________________________________________________\n",
      "dropout_3 (Dropout)          (None, 512)               0         \n",
      "_________________________________________________________________\n",
      "dense_5 (Dense)              (None, 256)               131328    \n",
      "_________________________________________________________________\n",
      "dropout_4 (Dropout)          (None, 256)               0         \n",
      "_________________________________________________________________\n",
      "dense_6 (Dense)              (None, 1)                 257       \n",
      "=================================================================\n",
      "Total params: 3,252,225\n",
      "Trainable params: 3,252,225\n",
      "Non-trainable params: 0\n",
      "_________________________________________________________________\n",
      "compile done\n",
      "Train on 1911 samples, validate on 942 samples\n",
      "Epoch 1/10\n",
      "1911/1911 [==============================] - 4s 2ms/step - loss: 0.2223 - acc: 0.9137 - binary_accuracy: 0.9137 - val_loss: 0.1249 - val_acc: 0.9607 - val_binary_accuracy: 0.9607\n",
      "Epoch 2/10\n",
      "1911/1911 [==============================] - 3s 2ms/step - loss: 0.0238 - acc: 0.9942 - binary_accuracy: 0.9942 - val_loss: 0.1242 - val_acc: 0.9597 - val_binary_accuracy: 0.9597\n",
      "Epoch 3/10\n",
      "1911/1911 [==============================] - 3s 2ms/step - loss: 0.0034 - acc: 1.0000 - binary_accuracy: 1.0000 - val_loss: 0.1367 - val_acc: 0.9618 - val_binary_accuracy: 0.9618\n",
      "Epoch 4/10\n",
      "1911/1911 [==============================] - 3s 2ms/step - loss: 0.0013 - acc: 1.0000 - binary_accuracy: 1.0000 - val_loss: 0.1428 - val_acc: 0.9618 - val_binary_accuracy: 0.9618\n",
      "Epoch 5/10\n",
      "1911/1911 [==============================] - 3s 2ms/step - loss: 5.9421e-04 - acc: 1.0000 - binary_accuracy: 1.0000 - val_loss: 0.1500 - val_acc: 0.9618 - val_binary_accuracy: 0.9618\n",
      "Epoch 6/10\n",
      "1911/1911 [==============================] - 3s 2ms/step - loss: 4.3754e-04 - acc: 1.0000 - binary_accuracy: 1.0000 - val_loss: 0.1546 - val_acc: 0.9628 - val_binary_accuracy: 0.9628\n",
      "Epoch 7/10\n",
      "1911/1911 [==============================] - 3s 2ms/step - loss: 3.1779e-04 - acc: 1.0000 - binary_accuracy: 1.0000 - val_loss: 0.1590 - val_acc: 0.9628 - val_binary_accuracy: 0.9628\n",
      "Epoch 8/10\n",
      "1911/1911 [==============================] - 3s 2ms/step - loss: 2.3986e-04 - acc: 1.0000 - binary_accuracy: 1.0000 - val_loss: 0.1615 - val_acc: 0.9628 - val_binary_accuracy: 0.9628\n",
      "Epoch 9/10\n",
      "1911/1911 [==============================] - 3s 2ms/step - loss: 1.7720e-04 - acc: 1.0000 - binary_accuracy: 1.0000 - val_loss: 0.1622 - val_acc: 0.9618 - val_binary_accuracy: 0.9618\n",
      "Epoch 10/10\n",
      "1911/1911 [==============================] - 3s 2ms/step - loss: 1.2351e-04 - acc: 1.0000 - binary_accuracy: 1.0000 - val_loss: 0.1672 - val_acc: 0.9628 - val_binary_accuracy: 0.9628\n"
     ]
    },
    {
     "data": {
      "text/plain": [
       "<keras.callbacks.History at 0x26e2c887e10>"
      ]
     },
     "execution_count": 20,
     "metadata": {},
     "output_type": "execute_result"
    }
   ],
   "source": [
    "model = get_simple_model(count_train.shape[1])\n",
    "model.fit(count_train.toarray(),y_train,batch_size=32,epochs=10,verbose=1,validation_data=(count_test.toarray() , y_test))"
   ]
  }
 ],
 "metadata": {
  "kernelspec": {
   "display_name": "Python 3",
   "language": "python",
   "name": "python3"
  },
  "language_info": {
   "codemirror_mode": {
    "name": "ipython",
    "version": 3
   },
   "file_extension": ".py",
   "mimetype": "text/x-python",
   "name": "python",
   "nbconvert_exporter": "python",
   "pygments_lexer": "ipython3",
   "version": "3.5.4"
  }
 },
 "nbformat": 4,
 "nbformat_minor": 2
}
