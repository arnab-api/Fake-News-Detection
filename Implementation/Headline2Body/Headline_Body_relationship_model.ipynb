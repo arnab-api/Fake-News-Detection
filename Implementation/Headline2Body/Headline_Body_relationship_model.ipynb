{
 "cells": [
  {
   "cell_type": "code",
   "execution_count": 1,
   "metadata": {},
   "outputs": [],
   "source": [
    "file_train_instances = \"train_stances.csv\"\n",
    "file_train_bodies = \"train_bodies.csv\"\n",
    "file_test_instances = \"test_stances_unlabeled.csv\"\n",
    "file_test_bodies = \"test_bodies.csv\"\n",
    "file_predictions = 'predictions_test.csv'"
   ]
  },
  {
   "cell_type": "code",
   "execution_count": 2,
   "metadata": {},
   "outputs": [
    {
     "name": "stderr",
     "output_type": "stream",
     "text": [
      "/home/arnab/anaconda3/lib/python3.6/importlib/_bootstrap.py:219: RuntimeWarning: numpy.dtype size changed, may indicate binary incompatibility. Expected 96, got 88\n",
      "  return f(*args, **kwds)\n",
      "/home/arnab/anaconda3/lib/python3.6/importlib/_bootstrap.py:219: RuntimeWarning: numpy.dtype size changed, may indicate binary incompatibility. Expected 96, got 88\n",
      "  return f(*args, **kwds)\n"
     ]
    }
   ],
   "source": [
    "import pandas as pd"
   ]
  },
  {
   "cell_type": "code",
   "execution_count": 4,
   "metadata": {},
   "outputs": [
    {
     "data": {
      "text/html": [
       "<div>\n",
       "<style scoped>\n",
       "    .dataframe tbody tr th:only-of-type {\n",
       "        vertical-align: middle;\n",
       "    }\n",
       "\n",
       "    .dataframe tbody tr th {\n",
       "        vertical-align: top;\n",
       "    }\n",
       "\n",
       "    .dataframe thead th {\n",
       "        text-align: right;\n",
       "    }\n",
       "</style>\n",
       "<table border=\"1\" class=\"dataframe\">\n",
       "  <thead>\n",
       "    <tr style=\"text-align: right;\">\n",
       "      <th></th>\n",
       "      <th>Headline</th>\n",
       "      <th>Body ID</th>\n",
       "      <th>Stance</th>\n",
       "    </tr>\n",
       "  </thead>\n",
       "  <tbody>\n",
       "    <tr>\n",
       "      <th>0</th>\n",
       "      <td>Police find mass graves with at least '15 bodi...</td>\n",
       "      <td>712</td>\n",
       "      <td>unrelated</td>\n",
       "    </tr>\n",
       "    <tr>\n",
       "      <th>1</th>\n",
       "      <td>Hundreds of Palestinians flee floods in Gaza a...</td>\n",
       "      <td>158</td>\n",
       "      <td>agree</td>\n",
       "    </tr>\n",
       "    <tr>\n",
       "      <th>2</th>\n",
       "      <td>Christian Bale passes on role of Steve Jobs, a...</td>\n",
       "      <td>137</td>\n",
       "      <td>unrelated</td>\n",
       "    </tr>\n",
       "    <tr>\n",
       "      <th>3</th>\n",
       "      <td>HBO and Apple in Talks for $15/Month Apple TV ...</td>\n",
       "      <td>1034</td>\n",
       "      <td>unrelated</td>\n",
       "    </tr>\n",
       "    <tr>\n",
       "      <th>4</th>\n",
       "      <td>Spider burrowed through tourist's stomach and ...</td>\n",
       "      <td>1923</td>\n",
       "      <td>disagree</td>\n",
       "    </tr>\n",
       "  </tbody>\n",
       "</table>\n",
       "</div>"
      ],
      "text/plain": [
       "                                            Headline  Body ID     Stance\n",
       "0  Police find mass graves with at least '15 bodi...      712  unrelated\n",
       "1  Hundreds of Palestinians flee floods in Gaza a...      158      agree\n",
       "2  Christian Bale passes on role of Steve Jobs, a...      137  unrelated\n",
       "3  HBO and Apple in Talks for $15/Month Apple TV ...     1034  unrelated\n",
       "4  Spider burrowed through tourist's stomach and ...     1923   disagree"
      ]
     },
     "execution_count": 4,
     "metadata": {},
     "output_type": "execute_result"
    }
   ],
   "source": [
    "train_stances = pd.read_csv(file_train_instances)\n",
    "train_stances.head()"
   ]
  },
  {
   "cell_type": "code",
   "execution_count": 5,
   "metadata": {},
   "outputs": [
    {
     "data": {
      "text/html": [
       "<div>\n",
       "<style scoped>\n",
       "    .dataframe tbody tr th:only-of-type {\n",
       "        vertical-align: middle;\n",
       "    }\n",
       "\n",
       "    .dataframe tbody tr th {\n",
       "        vertical-align: top;\n",
       "    }\n",
       "\n",
       "    .dataframe thead th {\n",
       "        text-align: right;\n",
       "    }\n",
       "</style>\n",
       "<table border=\"1\" class=\"dataframe\">\n",
       "  <thead>\n",
       "    <tr style=\"text-align: right;\">\n",
       "      <th></th>\n",
       "      <th>Body ID</th>\n",
       "      <th>articleBody</th>\n",
       "    </tr>\n",
       "  </thead>\n",
       "  <tbody>\n",
       "    <tr>\n",
       "      <th>0</th>\n",
       "      <td>0</td>\n",
       "      <td>A small meteorite crashed into a wooded area i...</td>\n",
       "    </tr>\n",
       "    <tr>\n",
       "      <th>1</th>\n",
       "      <td>4</td>\n",
       "      <td>Last week we hinted at what was to come as Ebo...</td>\n",
       "    </tr>\n",
       "    <tr>\n",
       "      <th>2</th>\n",
       "      <td>5</td>\n",
       "      <td>(NEWSER) – Wonder how long a Quarter Pounder w...</td>\n",
       "    </tr>\n",
       "    <tr>\n",
       "      <th>3</th>\n",
       "      <td>6</td>\n",
       "      <td>Posting photos of a gun-toting child online, I...</td>\n",
       "    </tr>\n",
       "    <tr>\n",
       "      <th>4</th>\n",
       "      <td>7</td>\n",
       "      <td>At least 25 suspected Boko Haram insurgents we...</td>\n",
       "    </tr>\n",
       "  </tbody>\n",
       "</table>\n",
       "</div>"
      ],
      "text/plain": [
       "   Body ID                                        articleBody\n",
       "0        0  A small meteorite crashed into a wooded area i...\n",
       "1        4  Last week we hinted at what was to come as Ebo...\n",
       "2        5  (NEWSER) – Wonder how long a Quarter Pounder w...\n",
       "3        6  Posting photos of a gun-toting child online, I...\n",
       "4        7  At least 25 suspected Boko Haram insurgents we..."
      ]
     },
     "execution_count": 5,
     "metadata": {},
     "output_type": "execute_result"
    }
   ],
   "source": [
    "train_bodies = pd.read_csv(file_train_bodies)\n",
    "train_bodies.head()"
   ]
  },
  {
   "cell_type": "code",
   "execution_count": 6,
   "metadata": {},
   "outputs": [
    {
     "data": {
      "text/html": [
       "<div>\n",
       "<style scoped>\n",
       "    .dataframe tbody tr th:only-of-type {\n",
       "        vertical-align: middle;\n",
       "    }\n",
       "\n",
       "    .dataframe tbody tr th {\n",
       "        vertical-align: top;\n",
       "    }\n",
       "\n",
       "    .dataframe thead th {\n",
       "        text-align: right;\n",
       "    }\n",
       "</style>\n",
       "<table border=\"1\" class=\"dataframe\">\n",
       "  <thead>\n",
       "    <tr style=\"text-align: right;\">\n",
       "      <th></th>\n",
       "      <th>Headline</th>\n",
       "      <th>Body ID</th>\n",
       "    </tr>\n",
       "  </thead>\n",
       "  <tbody>\n",
       "    <tr>\n",
       "      <th>0</th>\n",
       "      <td>Ferguson riots: Pregnant woman loses eye after...</td>\n",
       "      <td>2008</td>\n",
       "    </tr>\n",
       "    <tr>\n",
       "      <th>1</th>\n",
       "      <td>Crazy Conservatives Are Sure a Gitmo Detainee ...</td>\n",
       "      <td>1550</td>\n",
       "    </tr>\n",
       "    <tr>\n",
       "      <th>2</th>\n",
       "      <td>A Russian Guy Says His Justin Bieber Ringtone ...</td>\n",
       "      <td>2</td>\n",
       "    </tr>\n",
       "    <tr>\n",
       "      <th>3</th>\n",
       "      <td>Zombie Cat: Buried Kitty Believed Dead, Meows ...</td>\n",
       "      <td>1793</td>\n",
       "    </tr>\n",
       "    <tr>\n",
       "      <th>4</th>\n",
       "      <td>Argentina's President Adopts Boy to End Werewo...</td>\n",
       "      <td>37</td>\n",
       "    </tr>\n",
       "  </tbody>\n",
       "</table>\n",
       "</div>"
      ],
      "text/plain": [
       "                                            Headline  Body ID\n",
       "0  Ferguson riots: Pregnant woman loses eye after...     2008\n",
       "1  Crazy Conservatives Are Sure a Gitmo Detainee ...     1550\n",
       "2  A Russian Guy Says His Justin Bieber Ringtone ...        2\n",
       "3  Zombie Cat: Buried Kitty Believed Dead, Meows ...     1793\n",
       "4  Argentina's President Adopts Boy to End Werewo...       37"
      ]
     },
     "execution_count": 6,
     "metadata": {},
     "output_type": "execute_result"
    }
   ],
   "source": [
    "test_stances = pd.read_csv(file_test_instances)\n",
    "test_stances.head()"
   ]
  },
  {
   "cell_type": "code",
   "execution_count": 7,
   "metadata": {},
   "outputs": [
    {
     "data": {
      "text/html": [
       "<div>\n",
       "<style scoped>\n",
       "    .dataframe tbody tr th:only-of-type {\n",
       "        vertical-align: middle;\n",
       "    }\n",
       "\n",
       "    .dataframe tbody tr th {\n",
       "        vertical-align: top;\n",
       "    }\n",
       "\n",
       "    .dataframe thead th {\n",
       "        text-align: right;\n",
       "    }\n",
       "</style>\n",
       "<table border=\"1\" class=\"dataframe\">\n",
       "  <thead>\n",
       "    <tr style=\"text-align: right;\">\n",
       "      <th></th>\n",
       "      <th>Body ID</th>\n",
       "      <th>articleBody</th>\n",
       "    </tr>\n",
       "  </thead>\n",
       "  <tbody>\n",
       "    <tr>\n",
       "      <th>0</th>\n",
       "      <td>1</td>\n",
       "      <td>Al-Sisi has denied Israeli reports stating tha...</td>\n",
       "    </tr>\n",
       "    <tr>\n",
       "      <th>1</th>\n",
       "      <td>2</td>\n",
       "      <td>A bereaved Afghan mother took revenge on the T...</td>\n",
       "    </tr>\n",
       "    <tr>\n",
       "      <th>2</th>\n",
       "      <td>3</td>\n",
       "      <td>CNBC is reporting Tesla has chosen Nevada as t...</td>\n",
       "    </tr>\n",
       "    <tr>\n",
       "      <th>3</th>\n",
       "      <td>12</td>\n",
       "      <td>A 4-inch version of the iPhone 6 is said to be...</td>\n",
       "    </tr>\n",
       "    <tr>\n",
       "      <th>4</th>\n",
       "      <td>19</td>\n",
       "      <td>GR editor’s Note\\n\\nThere are no reports in th...</td>\n",
       "    </tr>\n",
       "  </tbody>\n",
       "</table>\n",
       "</div>"
      ],
      "text/plain": [
       "   Body ID                                        articleBody\n",
       "0        1  Al-Sisi has denied Israeli reports stating tha...\n",
       "1        2  A bereaved Afghan mother took revenge on the T...\n",
       "2        3  CNBC is reporting Tesla has chosen Nevada as t...\n",
       "3       12  A 4-inch version of the iPhone 6 is said to be...\n",
       "4       19  GR editor’s Note\\n\\nThere are no reports in th..."
      ]
     },
     "execution_count": 7,
     "metadata": {},
     "output_type": "execute_result"
    }
   ],
   "source": [
    "test_bodies = pd.read_csv(file_test_bodies)\n",
    "test_bodies.head()"
   ]
  },
  {
   "cell_type": "code",
   "execution_count": 12,
   "metadata": {},
   "outputs": [
    {
     "data": {
      "text/html": [
       "<div>\n",
       "<style scoped>\n",
       "    .dataframe tbody tr th:only-of-type {\n",
       "        vertical-align: middle;\n",
       "    }\n",
       "\n",
       "    .dataframe tbody tr th {\n",
       "        vertical-align: top;\n",
       "    }\n",
       "\n",
       "    .dataframe thead th {\n",
       "        text-align: right;\n",
       "    }\n",
       "</style>\n",
       "<table border=\"1\" class=\"dataframe\">\n",
       "  <thead>\n",
       "    <tr style=\"text-align: right;\">\n",
       "      <th></th>\n",
       "      <th>Stance</th>\n",
       "    </tr>\n",
       "  </thead>\n",
       "  <tbody>\n",
       "    <tr>\n",
       "      <th>0</th>\n",
       "      <td>unrelated</td>\n",
       "    </tr>\n",
       "    <tr>\n",
       "      <th>1</th>\n",
       "      <td>unrelated</td>\n",
       "    </tr>\n",
       "    <tr>\n",
       "      <th>2</th>\n",
       "      <td>unrelated</td>\n",
       "    </tr>\n",
       "    <tr>\n",
       "      <th>3</th>\n",
       "      <td>unrelated</td>\n",
       "    </tr>\n",
       "    <tr>\n",
       "      <th>4</th>\n",
       "      <td>unrelated</td>\n",
       "    </tr>\n",
       "  </tbody>\n",
       "</table>\n",
       "</div>"
      ],
      "text/plain": [
       "      Stance\n",
       "0  unrelated\n",
       "1  unrelated\n",
       "2  unrelated\n",
       "3  unrelated\n",
       "4  unrelated"
      ]
     },
     "execution_count": 12,
     "metadata": {},
     "output_type": "execute_result"
    }
   ],
   "source": [
    "pred = pd.read_csv(file_predictions)\n",
    "pred.head()"
   ]
  },
  {
   "cell_type": "code",
   "execution_count": 13,
   "metadata": {},
   "outputs": [
    {
     "data": {
      "text/plain": [
       "pandas.core.frame.DataFrame"
      ]
     },
     "execution_count": 13,
     "metadata": {},
     "output_type": "execute_result"
    }
   ],
   "source": [
    "type(pred)"
   ]
  },
  {
   "cell_type": "code",
   "execution_count": 14,
   "metadata": {},
   "outputs": [
    {
     "data": {
      "text/plain": [
       "Index(['Stance'], dtype='object')"
      ]
     },
     "execution_count": 14,
     "metadata": {},
     "output_type": "execute_result"
    }
   ],
   "source": [
    "pred.keys()"
   ]
  },
  {
   "cell_type": "markdown",
   "metadata": {},
   "source": [
    "# Making our dataset"
   ]
  },
  {
   "cell_type": "code",
   "execution_count": 24,
   "metadata": {},
   "outputs": [],
   "source": [
    "import json\n",
    "import numpy as np"
   ]
  },
  {
   "cell_type": "code",
   "execution_count": 19,
   "metadata": {},
   "outputs": [
    {
     "name": "stdout",
     "output_type": "stream",
     "text": [
      "5770\n",
      "{'headline': 'রাজধানী স্থান সড়ক অবরোধ বিক্ষোভ শিক্ষার্থীদ', 'body': 'বাসচাপা শিক্ষার্থী নি জ টা তৃতী দিন অচল রাজধানী শহর স্থান সড়ক অবরোধ বিক্ষোভ শিক্ষার্থী সম নিরাপদ সড় দা হা হা ব্যানা ফেস্টুন প্ল্যাকার্ড আন্দোলন সহপাঠীদ মৃত্যু জড়িত চালক হেলপার যথোপযুক্ত শাস্তি রাজধানী চাল ড্রাইভিং লাইসেন্স দক্ষ গুরুত্ব দে দা আন্দোলন আন্দোলনকারীদ দখল রাজধানী শাহবাগ যাত্রবাড়ি সায়েন্স ল্যাব উত্ত হাউস বিল্ডিং মিরপু ১০ বাংলামট ডেম এলাকা দিন খণ্ডচিত্ আয়ো এক শিক্ষার্থী বু ঝোলানো প্লাকার্ড দা তো সপ্তাহ তিন গণপরিবহন যাতায়াত জনপ্রতিনিধিদ আরেক শিক্ষার্থী স্কুলশার্ট টেপ দি লাগানো প্লাকার্ড লেখা মুজিব কোট মুজিব মানা চামচাদ ৯ টাকা এক জি নিরাপদ বাংলাদেশ চা লেখা প্লাকার্ড এক শিক্ষার্থী রাজধানী জুড় সড় স্লোগান দা লিখ যা আন্দোলনরত শিক্ষার্থীদ ইত্তেফাক'}\n"
     ]
    }
   ],
   "source": [
    "ubuntu_path = '/home/arnab/Desktop/Thesis Ubuntu/'\n",
    "file = open(ubuntu_path+'Dataset_preprocessed/News_Papers/iitefaq_out_2.json')\n",
    "news = json.load(file)\n",
    "print(len(news))\n",
    "print(news[0])"
   ]
  },
  {
   "cell_type": "code",
   "execution_count": 50,
   "metadata": {},
   "outputs": [],
   "source": [
    "np.random.shuffle(news)"
   ]
  },
  {
   "cell_type": "code",
   "execution_count": 51,
   "metadata": {},
   "outputs": [
    {
     "data": {
      "text/plain": [
       "{'headline': 'প্রিয়াঙ্কা নিক জোনা বাগদান সম্পন্ন',\n",
       " 'body': 'বলিউড হলিউড অভিনেত্রী প্রিয়াঙ্কা চোপড়া মার্কিন পপস্ নিক জোনা বাগদান সম্পন্ন হ নিয়াঙ্কা প্রাম গুঞ্ শুক্ পশ্চিমা সংবাদমাধ্যম বাগদান খব নিশ্চিত যা লন্ডন প্রিয়াঙ্কা ৩৬তম জন্ম এক উদযাপন নিক প্রিয়াঙ্কা বাগদান কাজ সার ফে পক্ষ আংটিবদল আনুষ্ঠানিক ঘোষণা আসেনি পিপল ম্যাগাজিন জানি নিউইয়র্ টিফানি স্টো প্রিয়াঙ্কা অনামিকা পরি দে আং কেন নিক গত বছ মেট গালা অনুষ্ঠান প্রিয়াঙ্কা চোপড়া নিক জোনা পরিচ এক লালগালিচা হাঁ গুজব রট জিমি কিমাল টক শো প্রিয়াঙ্কা নিক দারুণ মানুষ পরিচ অল্প সম হ ঘনিষ্ঠ সুযোগ বছর ম মা নিক জোনাস বন্ধুদ সমুদ্ ভ্রমণ গি প্রিয়াঙ্কা সম ঘনিষ্ঠ মুহূর্ ছ অন্তর্জাল দুনিয়া ছড়ি পড় এ ছড়ি পড় তারকা প্রাম গুঞ্ এ গুঞ্ আরো প্রবল প্রিয়াঙ্কা নিক জোনা আত্নী বি নিক প্রিয়াঙ্কা হাত কিছুদিন ভ বেড়া আস প্রিয়াঙ্কা মা মধু চোপড়া ভা সিদ্ধার্থ চোপড়া স মিল মুম্বাই রেস্টুরেন্ট নৈশভোজ গোয়া ঘুর ভ ঘোরাঘুরি শাষ প্রেমি ব্রাজিল প্রিয়াঙ্কা সেখানকা ভিলা ম্যাক্স ফেস্টিভ্যাল সংগীত পরিবেশন নিক এদি আ আব্বাস জাফর ভারত ছ মধ্য দি বছ বলিউড প্রত্যাবর্তন কথা ছিলো প্রিয়াঙ্কা বৃহস্পতি এক টুইট আ আব্বাস জাফ জানান প্রিয়াঙ্কা চোপড়া ভারত পেছন র শেষ সম সিদ্ধান্ত জানিয় খুশি ভারত টিম পক্ষ সুখী জী কাম কর প্রিয়াঙ্কা বলিউড কয়েক অভিন প্রাম গুঞ্ শো তালিকা আছ শাহরুখ খান অক্ষ কুমা শহিদ কাপু হারমান বেওয়েজা ব্যবসায়ী অসীম মার্চেন্ট অন্ নিক জোনাস সাবেক বিশ্বসুন্দরী অলিভিয়া কালপো গায়িকা ডেল্ গুডরাম প্রেম প্রিয়াঙ্কা নি চা ব ১০ বছ বড় ইত্তেফাকরেজা'}"
      ]
     },
     "execution_count": 51,
     "metadata": {},
     "output_type": "execute_result"
    }
   ],
   "source": [
    "news[0]"
   ]
  },
  {
   "cell_type": "code",
   "execution_count": 55,
   "metadata": {},
   "outputs": [],
   "source": [
    "news_len = 4567\n",
    "news_train = news[0 : news_len]\n",
    "news_test = news[news_len : len(news)]"
   ]
  },
  {
   "cell_type": "code",
   "execution_count": 62,
   "metadata": {},
   "outputs": [],
   "source": [
    "def make_dataset(news):\n",
    "    ''' Make agree dataset '''\n",
    "    dataset = []\n",
    "    body_arr = []\n",
    "    for i in range(len(news)):\n",
    "        head = news[i]['headline']\n",
    "        body = news[i]['body']\n",
    "        dataset.append({\n",
    "            'Headline': head,\n",
    "            'Body ID' : i,\n",
    "            'Stance'  : 'agree'\n",
    "        })\n",
    "        body_arr.append({\n",
    "            'Body ID' : i,\n",
    "            'articleBody' : body\n",
    "        })\n",
    "    \n",
    "    ''' Make Unrelated dataset '''\n",
    "    arr = np.arange(0 , len(body_arr))\n",
    "    np.random.shuffle(arr)\n",
    "    for i in range(len(news)):\n",
    "        head = news[i]['headline']\n",
    "        stance = 'unrelated'\n",
    "        if(i == arr[i]):\n",
    "            stance = 'agree'\n",
    "        dataset.append({\n",
    "            'Headline': head,\n",
    "            'Body ID' : arr[i],\n",
    "            'Stance'  : stance\n",
    "        })\n",
    "    np.random.shuffle(dataset)\n",
    "    return pd.DataFrame(dataset) , pd.DataFrame(body_arr)"
   ]
  },
  {
   "cell_type": "code",
   "execution_count": 79,
   "metadata": {},
   "outputs": [
    {
     "name": "stdout",
     "output_type": "stream",
     "text": [
      "(9134, 3) (4567, 2)\n"
     ]
    },
    {
     "data": {
      "text/html": [
       "<div>\n",
       "<style scoped>\n",
       "    .dataframe tbody tr th:only-of-type {\n",
       "        vertical-align: middle;\n",
       "    }\n",
       "\n",
       "    .dataframe tbody tr th {\n",
       "        vertical-align: top;\n",
       "    }\n",
       "\n",
       "    .dataframe thead th {\n",
       "        text-align: right;\n",
       "    }\n",
       "</style>\n",
       "<table border=\"1\" class=\"dataframe\">\n",
       "  <thead>\n",
       "    <tr style=\"text-align: right;\">\n",
       "      <th></th>\n",
       "      <th>Body ID</th>\n",
       "      <th>Headline</th>\n",
       "      <th>Stance</th>\n",
       "    </tr>\n",
       "  </thead>\n",
       "  <tbody>\n",
       "    <tr>\n",
       "      <th>9129</th>\n",
       "      <td>3162</td>\n",
       "      <td>সাবেক রেজিস্ট্ সৈয়দ রেজাউ রহমান চাকরিচ্যুত</td>\n",
       "      <td>agree</td>\n",
       "    </tr>\n",
       "    <tr>\n",
       "      <th>9130</th>\n",
       "      <td>358</td>\n",
       "      <td>প্রত্যাশা চাই উন্নতি নেইমার</td>\n",
       "      <td>unrelated</td>\n",
       "    </tr>\n",
       "    <tr>\n",
       "      <th>9131</th>\n",
       "      <td>3221</td>\n",
       "      <td>রুশ চ অভিযোগ গ্রেফতারকৃত যুবতী জামিন নাকচ মার্...</td>\n",
       "      <td>agree</td>\n",
       "    </tr>\n",
       "    <tr>\n",
       "      <th>9132</th>\n",
       "      <td>1734</td>\n",
       "      <td>কোটালীপাড়া জ জন্ম স্বেচ্ছাসেবক লীগ প্রতিষ্ঠাবা...</td>\n",
       "      <td>unrelated</td>\n",
       "    </tr>\n",
       "    <tr>\n",
       "      <th>9133</th>\n",
       "      <td>1516</td>\n",
       "      <td>কালো চামড়া পুরুষদ যৌন</td>\n",
       "      <td>agree</td>\n",
       "    </tr>\n",
       "  </tbody>\n",
       "</table>\n",
       "</div>"
      ],
      "text/plain": [
       "      Body ID                                           Headline     Stance\n",
       "9129     3162         সাবেক রেজিস্ট্ সৈয়দ রেজাউ রহমান চাকরিচ্যুত      agree\n",
       "9130      358                        প্রত্যাশা চাই উন্নতি নেইমার  unrelated\n",
       "9131     3221  রুশ চ অভিযোগ গ্রেফতারকৃত যুবতী জামিন নাকচ মার্...      agree\n",
       "9132     1734  কোটালীপাড়া জ জন্ম স্বেচ্ছাসেবক লীগ প্রতিষ্ঠাবা...  unrelated\n",
       "9133     1516                              কালো চামড়া পুরুষদ যৌন      agree"
      ]
     },
     "execution_count": 79,
     "metadata": {},
     "output_type": "execute_result"
    }
   ],
   "source": [
    "train_data , train_body = make_dataset(news_train)\n",
    "print(train_data.shape , train_body.shape)\n",
    "train_data.tail()"
   ]
  },
  {
   "cell_type": "code",
   "execution_count": 80,
   "metadata": {},
   "outputs": [
    {
     "name": "stdout",
     "output_type": "stream",
     "text": [
      "(2406, 3) (1203, 2)\n"
     ]
    },
    {
     "data": {
      "text/html": [
       "<div>\n",
       "<style scoped>\n",
       "    .dataframe tbody tr th:only-of-type {\n",
       "        vertical-align: middle;\n",
       "    }\n",
       "\n",
       "    .dataframe tbody tr th {\n",
       "        vertical-align: top;\n",
       "    }\n",
       "\n",
       "    .dataframe thead th {\n",
       "        text-align: right;\n",
       "    }\n",
       "</style>\n",
       "<table border=\"1\" class=\"dataframe\">\n",
       "  <thead>\n",
       "    <tr style=\"text-align: right;\">\n",
       "      <th></th>\n",
       "      <th>Body ID</th>\n",
       "      <th>Headline</th>\n",
       "      <th>Stance</th>\n",
       "    </tr>\n",
       "  </thead>\n",
       "  <tbody>\n",
       "    <tr>\n",
       "      <th>0</th>\n",
       "      <td>623</td>\n",
       "      <td>ছোট ভাই জি ৫ প্রাপ্তি উচ্ছ্বসিত বুবলী</td>\n",
       "      <td>agree</td>\n",
       "    </tr>\n",
       "    <tr>\n",
       "      <th>1</th>\n",
       "      <td>665</td>\n",
       "      <td>নির্বাচন স্ব থাকল জয়ী হবো : নেলসন চামিসা</td>\n",
       "      <td>unrelated</td>\n",
       "    </tr>\n",
       "    <tr>\n",
       "      <th>2</th>\n",
       "      <td>452</td>\n",
       "      <td>শ্লীলতাহানি চেষ্ জা শিক্ষার্থী পুলিশ সোপর্দ</td>\n",
       "      <td>unrelated</td>\n",
       "    </tr>\n",
       "    <tr>\n",
       "      <th>3</th>\n",
       "      <td>1024</td>\n",
       "      <td>কান উৎ আঙিনা পাঁচ নারী বিচারক</td>\n",
       "      <td>unrelated</td>\n",
       "    </tr>\n",
       "    <tr>\n",
       "      <th>4</th>\n",
       "      <td>271</td>\n",
       "      <td>লাইসেন্স প্রতারণা শর্ত ভঙ্গ গ্রামীণফোন</td>\n",
       "      <td>agree</td>\n",
       "    </tr>\n",
       "  </tbody>\n",
       "</table>\n",
       "</div>"
      ],
      "text/plain": [
       "   Body ID                                     Headline     Stance\n",
       "0      623        ছোট ভাই জি ৫ প্রাপ্তি উচ্ছ্বসিত বুবলী      agree\n",
       "1      665     নির্বাচন স্ব থাকল জয়ী হবো : নেলসন চামিসা  unrelated\n",
       "2      452  শ্লীলতাহানি চেষ্ জা শিক্ষার্থী পুলিশ সোপর্দ  unrelated\n",
       "3     1024                কান উৎ আঙিনা পাঁচ নারী বিচারক  unrelated\n",
       "4      271       লাইসেন্স প্রতারণা শর্ত ভঙ্গ গ্রামীণফোন      agree"
      ]
     },
     "execution_count": 80,
     "metadata": {},
     "output_type": "execute_result"
    }
   ],
   "source": [
    "test_data , test_body = make_dataset(news_test)\n",
    "print(test_data.shape , test_body.shape)\n",
    "test_data.head()"
   ]
  },
  {
   "cell_type": "code",
   "execution_count": 86,
   "metadata": {},
   "outputs": [
    {
     "name": "stdout",
     "output_type": "stream",
     "text": [
      "saving data\n"
     ]
    }
   ],
   "source": [
    "print('saving data')\n",
    "train_data.to_csv('Bangla_Dataset/our_train_stances.csv')\n",
    "test_data.to_csv('Bangla_Dataset/our_test_stances.csv')\n",
    "train_body.to_csv('Bangla_Dataset/our_train_body.csv')\n",
    "test_body.to_csv('Bangla_Dataset/our_test_body.csv')"
   ]
  },
  {
   "cell_type": "code",
   "execution_count": null,
   "metadata": {},
   "outputs": [],
   "source": [
    "! python pred_windows.py"
   ]
  },
  {
   "cell_type": "code",
   "execution_count": null,
   "metadata": {},
   "outputs": [],
   "source": []
  }
 ],
 "metadata": {
  "kernelspec": {
   "display_name": "Python 3",
   "language": "python",
   "name": "python3"
  },
  "language_info": {
   "codemirror_mode": {
    "name": "ipython",
    "version": 3
   },
   "file_extension": ".py",
   "mimetype": "text/x-python",
   "name": "python",
   "nbconvert_exporter": "python",
   "pygments_lexer": "ipython3",
   "version": "3.5.4"
  }
 },
 "nbformat": 4,
 "nbformat_minor": 2
}
